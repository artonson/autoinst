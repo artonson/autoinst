{
 "cells": [
  {
   "cell_type": "code",
   "execution_count": 1,
   "metadata": {},
   "outputs": [],
   "source": [
    "import os, sys\n",
    "src_paths = [os.path.abspath(\"../\"), os.path.abspath(\"../point-to-pixel-mapping\")]\n",
    "for src_path in src_paths:\n",
    "    if src_path not in sys.path:\n",
    "        sys.path.append(src_path)\n",
    "\n",
    "from datasets.kitti_dataset import KittiDataset"
   ]
  },
  {
   "cell_type": "code",
   "execution_count": 2,
   "metadata": {},
   "outputs": [],
   "source": [
    "kitti_dataset_path = '/Users/laurenzheidrich/Downloads/fused_dataset'\n",
    "sequence = '00'\n",
    "sam_labels_path = '/Users/laurenzheidrich/Downloads/fused_dataset/vfm-labels/sam/00'\n",
    "\n",
    "dataset = KittiDataset(kitti_dataset_path, \n",
    "                       sequence, \n",
    "                       sam_labels_path)\n",
    "\n",
    "labels_folder = '/Users/laurenzheidrich/Downloads/fused_dataset/sequences/00/labels'"
   ]
  },
  {
   "cell_type": "code",
   "execution_count": 3,
   "metadata": {},
   "outputs": [],
   "source": [
    "from segmentation.reprojection_segmentation import ReprojectionSegmentation\n",
    "from segmentation.dbscan_segmentation import DbscanSegmentation\n",
    "from segmentation.spectral_clustering_segmentation import SpectralClusteringSegmentation\n",
    "\n",
    "visual_segmentation = ReprojectionSegmentation(dataset)\n",
    "geometrical_segmentation = DbscanSegmentation(dataset)\n",
    "spectral_segmentation = SpectralClusteringSegmentation(dataset, n_clusters=40, lower_bound=0, upper_bound=25)"
   ]
  },
  {
   "cell_type": "markdown",
   "metadata": {},
   "source": [
    "### Run baselines"
   ]
  },
  {
   "cell_type": "code",
   "execution_count": 4,
   "metadata": {},
   "outputs": [
    {
     "name": "stderr",
     "output_type": "stream",
     "text": [
      "  0%|          | 0/4 [00:00<?, ?it/s]/Users/laurenzheidrich/miniconda3/envs/o3d/lib/python3.9/site-packages/sklearn/manifold/_spectral_embedding.py:274: UserWarning: Graph is not fully connected, spectral embedding may not work as expected.\n",
      "  warnings.warn(\n",
      " 25%|██▌       | 1/4 [01:33<04:40, 93.48s/it]/Users/laurenzheidrich/miniconda3/envs/o3d/lib/python3.9/site-packages/sklearn/manifold/_spectral_embedding.py:274: UserWarning: Graph is not fully connected, spectral embedding may not work as expected.\n",
      "  warnings.warn(\n",
      " 50%|█████     | 2/4 [03:12<03:13, 96.94s/it]/Users/laurenzheidrich/miniconda3/envs/o3d/lib/python3.9/site-packages/sklearn/manifold/_spectral_embedding.py:274: UserWarning: Graph is not fully connected, spectral embedding may not work as expected.\n",
      "  warnings.warn(\n",
      " 50%|█████     | 2/4 [08:25<08:25, 252.62s/it]\n"
     ]
    },
    {
     "ename": "KeyboardInterrupt",
     "evalue": "",
     "output_type": "error",
     "traceback": [
      "\u001b[0;31m---------------------------------------------------------------------------\u001b[0m",
      "\u001b[0;31mKeyboardInterrupt\u001b[0m                         Traceback (most recent call last)",
      "\u001b[1;32m/Users/laurenzheidrich/Documents/Studium/Hiwi_TUM/Programming/unsup_3d_instances/pipeline/example.ipynb Zelle 5\u001b[0m line \u001b[0;36m1\n\u001b[1;32m     <a href='vscode-notebook-cell:/Users/laurenzheidrich/Documents/Studium/Hiwi_TUM/Programming/unsup_3d_instances/pipeline/example.ipynb#W4sZmlsZQ%3D%3D?line=14'>15</a>\u001b[0m visual_labels\u001b[39m.\u001b[39mappend(visual_segmentation\u001b[39m.\u001b[39msegment_instances(i))\n\u001b[1;32m     <a href='vscode-notebook-cell:/Users/laurenzheidrich/Documents/Studium/Hiwi_TUM/Programming/unsup_3d_instances/pipeline/example.ipynb#W4sZmlsZQ%3D%3D?line=15'>16</a>\u001b[0m geometrical_labels\u001b[39m.\u001b[39mappend(geometrical_segmentation\u001b[39m.\u001b[39msegment_instances(i))\n\u001b[0;32m---> <a href='vscode-notebook-cell:/Users/laurenzheidrich/Documents/Studium/Hiwi_TUM/Programming/unsup_3d_instances/pipeline/example.ipynb#W4sZmlsZQ%3D%3D?line=16'>17</a>\u001b[0m spectral_labels\u001b[39m.\u001b[39mappend(spectral_segmentation\u001b[39m.\u001b[39;49msegment_instances(i))\n\u001b[1;32m     <a href='vscode-notebook-cell:/Users/laurenzheidrich/Documents/Studium/Hiwi_TUM/Programming/unsup_3d_instances/pipeline/example.ipynb#W4sZmlsZQ%3D%3D?line=17'>18</a>\u001b[0m labels_file_path \u001b[39m=\u001b[39m os\u001b[39m.\u001b[39mpath\u001b[39m.\u001b[39mjoin(labels_folder, \u001b[39m'\u001b[39m\u001b[39m{}\u001b[39;00m\u001b[39m.label\u001b[39m\u001b[39m'\u001b[39m\u001b[39m.\u001b[39mformat(\u001b[39mstr\u001b[39m(i)\u001b[39m.\u001b[39mzfill(\u001b[39m6\u001b[39m)))\n\u001b[1;32m     <a href='vscode-notebook-cell:/Users/laurenzheidrich/Documents/Studium/Hiwi_TUM/Programming/unsup_3d_instances/pipeline/example.ipynb#W4sZmlsZQ%3D%3D?line=18'>19</a>\u001b[0m gt_labels\u001b[39m.\u001b[39mappend(np\u001b[39m.\u001b[39mfromfile(labels_file_path, dtype\u001b[39m=\u001b[39mnp\u001b[39m.\u001b[39muint32))\n",
      "File \u001b[0;32m~/Documents/Studium/Hiwi_TUM/Programming/unsup_3d_instances/pipeline/segmentation/spectral_clustering_segmentation.py:80\u001b[0m, in \u001b[0;36mSpectralClusteringSegmentation.segment_instances\u001b[0;34m(self, index)\u001b[0m\n\u001b[1;32m     77\u001b[0m A \u001b[39m=\u001b[39m np\u001b[39m.\u001b[39mexp(\u001b[39m-\u001b[39malpha \u001b[39m*\u001b[39m (mask \u001b[39m*\u001b[39m dist_matrix)) \u001b[39m*\u001b[39m feature_diff\n\u001b[1;32m     79\u001b[0m sc \u001b[39m=\u001b[39m SpectralClustering(n_clusters\u001b[39m=\u001b[39m\u001b[39mself\u001b[39m\u001b[39m.\u001b[39mn_clusters, affinity\u001b[39m=\u001b[39m\u001b[39m\"\u001b[39m\u001b[39mprecomputed\u001b[39m\u001b[39m\"\u001b[39m, n_init\u001b[39m=\u001b[39m\u001b[39m100\u001b[39m, assign_labels\u001b[39m=\u001b[39m\u001b[39m\"\u001b[39m\u001b[39mdiscretize\u001b[39m\u001b[39m\"\u001b[39m)\n\u001b[0;32m---> 80\u001b[0m labels \u001b[39m=\u001b[39m sc\u001b[39m.\u001b[39;49mfit_predict(A)  \n\u001b[1;32m     82\u001b[0m pcd_tree \u001b[39m=\u001b[39m o3d\u001b[39m.\u001b[39mgeometry\u001b[39m.\u001b[39mKDTreeFlann(pcd)\n\u001b[1;32m     84\u001b[0m i\u001b[39m=\u001b[39m\u001b[39m0\u001b[39m\n",
      "File \u001b[0;32m~/miniconda3/envs/o3d/lib/python3.9/site-packages/sklearn/cluster/_spectral.py:785\u001b[0m, in \u001b[0;36mSpectralClustering.fit_predict\u001b[0;34m(self, X, y)\u001b[0m\n\u001b[1;32m    763\u001b[0m \u001b[39mdef\u001b[39;00m \u001b[39mfit_predict\u001b[39m(\u001b[39mself\u001b[39m, X, y\u001b[39m=\u001b[39m\u001b[39mNone\u001b[39;00m):\n\u001b[1;32m    764\u001b[0m \u001b[39m    \u001b[39m\u001b[39m\"\"\"Perform spectral clustering on `X` and return cluster labels.\u001b[39;00m\n\u001b[1;32m    765\u001b[0m \n\u001b[1;32m    766\u001b[0m \u001b[39m    Parameters\u001b[39;00m\n\u001b[0;32m   (...)\u001b[0m\n\u001b[1;32m    783\u001b[0m \u001b[39m        Cluster labels.\u001b[39;00m\n\u001b[1;32m    784\u001b[0m \u001b[39m    \"\"\"\u001b[39;00m\n\u001b[0;32m--> 785\u001b[0m     \u001b[39mreturn\u001b[39;00m \u001b[39msuper\u001b[39;49m()\u001b[39m.\u001b[39;49mfit_predict(X, y)\n",
      "File \u001b[0;32m~/miniconda3/envs/o3d/lib/python3.9/site-packages/sklearn/base.py:753\u001b[0m, in \u001b[0;36mClusterMixin.fit_predict\u001b[0;34m(self, X, y)\u001b[0m\n\u001b[1;32m    735\u001b[0m \u001b[39m\u001b[39m\u001b[39m\"\"\"\u001b[39;00m\n\u001b[1;32m    736\u001b[0m \u001b[39mPerform clustering on `X` and returns cluster labels.\u001b[39;00m\n\u001b[1;32m    737\u001b[0m \n\u001b[0;32m   (...)\u001b[0m\n\u001b[1;32m    749\u001b[0m \u001b[39m    Cluster labels.\u001b[39;00m\n\u001b[1;32m    750\u001b[0m \u001b[39m\"\"\"\u001b[39;00m\n\u001b[1;32m    751\u001b[0m \u001b[39m# non-optimized default implementation; override when a better\u001b[39;00m\n\u001b[1;32m    752\u001b[0m \u001b[39m# method is possible for a given clustering algorithm\u001b[39;00m\n\u001b[0;32m--> 753\u001b[0m \u001b[39mself\u001b[39;49m\u001b[39m.\u001b[39;49mfit(X)\n\u001b[1;32m    754\u001b[0m \u001b[39mreturn\u001b[39;00m \u001b[39mself\u001b[39m\u001b[39m.\u001b[39mlabels_\n",
      "File \u001b[0;32m~/miniconda3/envs/o3d/lib/python3.9/site-packages/sklearn/cluster/_spectral.py:750\u001b[0m, in \u001b[0;36mSpectralClustering.fit\u001b[0;34m(self, X, y)\u001b[0m\n\u001b[1;32m    745\u001b[0m     \u001b[39mself\u001b[39m\u001b[39m.\u001b[39maffinity_matrix_ \u001b[39m=\u001b[39m pairwise_kernels(\n\u001b[1;32m    746\u001b[0m         X, metric\u001b[39m=\u001b[39m\u001b[39mself\u001b[39m\u001b[39m.\u001b[39maffinity, filter_params\u001b[39m=\u001b[39m\u001b[39mTrue\u001b[39;00m, \u001b[39m*\u001b[39m\u001b[39m*\u001b[39mparams\n\u001b[1;32m    747\u001b[0m     )\n\u001b[1;32m    749\u001b[0m random_state \u001b[39m=\u001b[39m check_random_state(\u001b[39mself\u001b[39m\u001b[39m.\u001b[39mrandom_state)\n\u001b[0;32m--> 750\u001b[0m \u001b[39mself\u001b[39m\u001b[39m.\u001b[39mlabels_ \u001b[39m=\u001b[39m spectral_clustering(\n\u001b[1;32m    751\u001b[0m     \u001b[39mself\u001b[39;49m\u001b[39m.\u001b[39;49maffinity_matrix_,\n\u001b[1;32m    752\u001b[0m     n_clusters\u001b[39m=\u001b[39;49m\u001b[39mself\u001b[39;49m\u001b[39m.\u001b[39;49mn_clusters,\n\u001b[1;32m    753\u001b[0m     n_components\u001b[39m=\u001b[39;49m\u001b[39mself\u001b[39;49m\u001b[39m.\u001b[39;49mn_components,\n\u001b[1;32m    754\u001b[0m     eigen_solver\u001b[39m=\u001b[39;49m\u001b[39mself\u001b[39;49m\u001b[39m.\u001b[39;49meigen_solver,\n\u001b[1;32m    755\u001b[0m     random_state\u001b[39m=\u001b[39;49mrandom_state,\n\u001b[1;32m    756\u001b[0m     n_init\u001b[39m=\u001b[39;49m\u001b[39mself\u001b[39;49m\u001b[39m.\u001b[39;49mn_init,\n\u001b[1;32m    757\u001b[0m     eigen_tol\u001b[39m=\u001b[39;49m\u001b[39mself\u001b[39;49m\u001b[39m.\u001b[39;49meigen_tol,\n\u001b[1;32m    758\u001b[0m     assign_labels\u001b[39m=\u001b[39;49m\u001b[39mself\u001b[39;49m\u001b[39m.\u001b[39;49massign_labels,\n\u001b[1;32m    759\u001b[0m     verbose\u001b[39m=\u001b[39;49m\u001b[39mself\u001b[39;49m\u001b[39m.\u001b[39;49mverbose,\n\u001b[1;32m    760\u001b[0m )\n\u001b[1;32m    761\u001b[0m \u001b[39mreturn\u001b[39;00m \u001b[39mself\u001b[39m\n",
      "File \u001b[0;32m~/miniconda3/envs/o3d/lib/python3.9/site-packages/sklearn/cluster/_spectral.py:371\u001b[0m, in \u001b[0;36mspectral_clustering\u001b[0;34m(affinity, n_clusters, n_components, eigen_solver, random_state, n_init, eigen_tol, assign_labels, verbose)\u001b[0m\n\u001b[1;32m    363\u001b[0m n_components \u001b[39m=\u001b[39m n_clusters \u001b[39mif\u001b[39;00m n_components \u001b[39mis\u001b[39;00m \u001b[39mNone\u001b[39;00m \u001b[39melse\u001b[39;00m n_components\n\u001b[1;32m    365\u001b[0m \u001b[39m# We now obtain the real valued solution matrix to the\u001b[39;00m\n\u001b[1;32m    366\u001b[0m \u001b[39m# relaxed Ncut problem, solving the eigenvalue problem\u001b[39;00m\n\u001b[1;32m    367\u001b[0m \u001b[39m# L_sym x = lambda x  and recovering u = D^-1/2 x.\u001b[39;00m\n\u001b[1;32m    368\u001b[0m \u001b[39m# The first eigenvector is constant only for fully connected graphs\u001b[39;00m\n\u001b[1;32m    369\u001b[0m \u001b[39m# and should be kept for spectral clustering (drop_first = False)\u001b[39;00m\n\u001b[1;32m    370\u001b[0m \u001b[39m# See spectral_embedding documentation.\u001b[39;00m\n\u001b[0;32m--> 371\u001b[0m maps \u001b[39m=\u001b[39m spectral_embedding(\n\u001b[1;32m    372\u001b[0m     affinity,\n\u001b[1;32m    373\u001b[0m     n_components\u001b[39m=\u001b[39;49mn_components,\n\u001b[1;32m    374\u001b[0m     eigen_solver\u001b[39m=\u001b[39;49meigen_solver,\n\u001b[1;32m    375\u001b[0m     random_state\u001b[39m=\u001b[39;49mrandom_state,\n\u001b[1;32m    376\u001b[0m     eigen_tol\u001b[39m=\u001b[39;49meigen_tol,\n\u001b[1;32m    377\u001b[0m     drop_first\u001b[39m=\u001b[39;49m\u001b[39mFalse\u001b[39;49;00m,\n\u001b[1;32m    378\u001b[0m )\n\u001b[1;32m    379\u001b[0m \u001b[39mif\u001b[39;00m verbose:\n\u001b[1;32m    380\u001b[0m     \u001b[39mprint\u001b[39m(\u001b[39mf\u001b[39m\u001b[39m\"\u001b[39m\u001b[39mComputing label assignment using \u001b[39m\u001b[39m{\u001b[39;00massign_labels\u001b[39m}\u001b[39;00m\u001b[39m\"\u001b[39m)\n",
      "File \u001b[0;32m~/miniconda3/envs/o3d/lib/python3.9/site-packages/sklearn/manifold/_spectral_embedding.py:314\u001b[0m, in \u001b[0;36mspectral_embedding\u001b[0;34m(adjacency, n_components, eigen_solver, random_state, eigen_tol, norm_laplacian, drop_first)\u001b[0m\n\u001b[1;32m    312\u001b[0m laplacian \u001b[39m*\u001b[39m\u001b[39m=\u001b[39m \u001b[39m-\u001b[39m\u001b[39m1\u001b[39m\n\u001b[1;32m    313\u001b[0m v0 \u001b[39m=\u001b[39m _init_arpack_v0(laplacian\u001b[39m.\u001b[39mshape[\u001b[39m0\u001b[39m], random_state)\n\u001b[0;32m--> 314\u001b[0m _, diffusion_map \u001b[39m=\u001b[39m eigsh(\n\u001b[1;32m    315\u001b[0m     laplacian, k\u001b[39m=\u001b[39;49mn_components, sigma\u001b[39m=\u001b[39;49m\u001b[39m1.0\u001b[39;49m, which\u001b[39m=\u001b[39;49m\u001b[39m\"\u001b[39;49m\u001b[39mLM\u001b[39;49m\u001b[39m\"\u001b[39;49m, tol\u001b[39m=\u001b[39;49mtol, v0\u001b[39m=\u001b[39;49mv0\n\u001b[1;32m    316\u001b[0m )\n\u001b[1;32m    317\u001b[0m embedding \u001b[39m=\u001b[39m diffusion_map\u001b[39m.\u001b[39mT[n_components::\u001b[39m-\u001b[39m\u001b[39m1\u001b[39m]\n\u001b[1;32m    318\u001b[0m \u001b[39mif\u001b[39;00m norm_laplacian:\n\u001b[1;32m    319\u001b[0m     \u001b[39m# recover u = D^-1/2 x from the eigenvector output x\u001b[39;00m\n",
      "File \u001b[0;32m~/miniconda3/envs/o3d/lib/python3.9/site-packages/scipy/sparse/linalg/_eigen/arpack/arpack.py:1697\u001b[0m, in \u001b[0;36meigsh\u001b[0;34m(A, k, M, sigma, which, v0, ncv, maxiter, tol, return_eigenvectors, Minv, OPinv, mode)\u001b[0m\n\u001b[1;32m   1695\u001b[0m \u001b[39mwith\u001b[39;00m _ARPACK_LOCK:\n\u001b[1;32m   1696\u001b[0m     \u001b[39mwhile\u001b[39;00m \u001b[39mnot\u001b[39;00m params\u001b[39m.\u001b[39mconverged:\n\u001b[0;32m-> 1697\u001b[0m         params\u001b[39m.\u001b[39;49miterate()\n\u001b[1;32m   1699\u001b[0m     \u001b[39mreturn\u001b[39;00m params\u001b[39m.\u001b[39mextract(return_eigenvectors)\n",
      "File \u001b[0;32m~/miniconda3/envs/o3d/lib/python3.9/site-packages/scipy/sparse/linalg/_eigen/arpack/arpack.py:560\u001b[0m, in \u001b[0;36m_SymmetricArpackParams.iterate\u001b[0;34m(self)\u001b[0m\n\u001b[1;32m    558\u001b[0m     \u001b[39melse\u001b[39;00m:\n\u001b[1;32m    559\u001b[0m         Bxslice \u001b[39m=\u001b[39m \u001b[39mslice\u001b[39m(\u001b[39mself\u001b[39m\u001b[39m.\u001b[39mipntr[\u001b[39m2\u001b[39m] \u001b[39m-\u001b[39m \u001b[39m1\u001b[39m, \u001b[39mself\u001b[39m\u001b[39m.\u001b[39mipntr[\u001b[39m2\u001b[39m] \u001b[39m-\u001b[39m \u001b[39m1\u001b[39m \u001b[39m+\u001b[39m \u001b[39mself\u001b[39m\u001b[39m.\u001b[39mn)\n\u001b[0;32m--> 560\u001b[0m         \u001b[39mself\u001b[39m\u001b[39m.\u001b[39mworkd[yslice] \u001b[39m=\u001b[39m \u001b[39mself\u001b[39;49m\u001b[39m.\u001b[39;49mOPa(\u001b[39mself\u001b[39;49m\u001b[39m.\u001b[39;49mworkd[Bxslice])\n\u001b[1;32m    561\u001b[0m \u001b[39melif\u001b[39;00m \u001b[39mself\u001b[39m\u001b[39m.\u001b[39mido \u001b[39m==\u001b[39m \u001b[39m2\u001b[39m:\n\u001b[1;32m    562\u001b[0m     \u001b[39mself\u001b[39m\u001b[39m.\u001b[39mworkd[yslice] \u001b[39m=\u001b[39m \u001b[39mself\u001b[39m\u001b[39m.\u001b[39mB(\u001b[39mself\u001b[39m\u001b[39m.\u001b[39mworkd[xslice])\n",
      "File \u001b[0;32m~/miniconda3/envs/o3d/lib/python3.9/site-packages/scipy/sparse/linalg/_interface.py:234\u001b[0m, in \u001b[0;36mLinearOperator.matvec\u001b[0;34m(self, x)\u001b[0m\n\u001b[1;32m    231\u001b[0m \u001b[39mif\u001b[39;00m x\u001b[39m.\u001b[39mshape \u001b[39m!=\u001b[39m (N,) \u001b[39mand\u001b[39;00m x\u001b[39m.\u001b[39mshape \u001b[39m!=\u001b[39m (N,\u001b[39m1\u001b[39m):\n\u001b[1;32m    232\u001b[0m     \u001b[39mraise\u001b[39;00m \u001b[39mValueError\u001b[39;00m(\u001b[39m'\u001b[39m\u001b[39mdimension mismatch\u001b[39m\u001b[39m'\u001b[39m)\n\u001b[0;32m--> 234\u001b[0m y \u001b[39m=\u001b[39m \u001b[39mself\u001b[39;49m\u001b[39m.\u001b[39;49m_matvec(x)\n\u001b[1;32m    236\u001b[0m \u001b[39mif\u001b[39;00m \u001b[39misinstance\u001b[39m(x, np\u001b[39m.\u001b[39mmatrix):\n\u001b[1;32m    237\u001b[0m     y \u001b[39m=\u001b[39m asmatrix(y)\n",
      "File \u001b[0;32m~/miniconda3/envs/o3d/lib/python3.9/site-packages/scipy/sparse/linalg/_eigen/arpack/arpack.py:944\u001b[0m, in \u001b[0;36mLuInv._matvec\u001b[0;34m(self, x)\u001b[0m\n\u001b[1;32m    943\u001b[0m \u001b[39mdef\u001b[39;00m \u001b[39m_matvec\u001b[39m(\u001b[39mself\u001b[39m, x):\n\u001b[0;32m--> 944\u001b[0m     \u001b[39mreturn\u001b[39;00m lu_solve(\u001b[39mself\u001b[39;49m\u001b[39m.\u001b[39;49mM_lu, x)\n",
      "File \u001b[0;32m~/miniconda3/envs/o3d/lib/python3.9/site-packages/scipy/linalg/_decomp_lu.py:152\u001b[0m, in \u001b[0;36mlu_solve\u001b[0;34m(lu_and_piv, b, trans, overwrite_b, check_finite)\u001b[0m\n\u001b[1;32m    148\u001b[0m     \u001b[39mraise\u001b[39;00m \u001b[39mValueError\u001b[39;00m(\u001b[39m\"\u001b[39m\u001b[39mShapes of lu \u001b[39m\u001b[39m{}\u001b[39;00m\u001b[39m and b \u001b[39m\u001b[39m{}\u001b[39;00m\u001b[39m are incompatible\u001b[39m\u001b[39m\"\u001b[39m\n\u001b[1;32m    149\u001b[0m                      \u001b[39m.\u001b[39mformat(lu\u001b[39m.\u001b[39mshape, b1\u001b[39m.\u001b[39mshape))\n\u001b[1;32m    151\u001b[0m getrs, \u001b[39m=\u001b[39m get_lapack_funcs((\u001b[39m'\u001b[39m\u001b[39mgetrs\u001b[39m\u001b[39m'\u001b[39m,), (lu, b1))\n\u001b[0;32m--> 152\u001b[0m x, info \u001b[39m=\u001b[39m getrs(lu, piv, b1, trans\u001b[39m=\u001b[39;49mtrans, overwrite_b\u001b[39m=\u001b[39;49moverwrite_b)\n\u001b[1;32m    153\u001b[0m \u001b[39mif\u001b[39;00m info \u001b[39m==\u001b[39m \u001b[39m0\u001b[39m:\n\u001b[1;32m    154\u001b[0m     \u001b[39mreturn\u001b[39;00m x\n",
      "\u001b[0;31mKeyboardInterrupt\u001b[0m: "
     ]
    }
   ],
   "source": [
    "import os\n",
    "import numpy as np\n",
    "\n",
    "from tqdm import tqdm\n",
    "\n",
    "indices = []\n",
    "visual_labels = []\n",
    "geometrical_labels = []\n",
    "spectral_labels = []\n",
    "gt_labels = []\n",
    "\n",
    "\n",
    "for i in tqdm(range(0, len(dataset.poses), 1500)):\n",
    "    indices.append(i)\n",
    "    visual_labels.append(visual_segmentation.segment_instances(i))\n",
    "    geometrical_labels.append(geometrical_segmentation.segment_instances(i))\n",
    "    spectral_labels.append(spectral_segmentation.segment_instances(i))\n",
    "    labels_file_path = os.path.join(labels_folder, '{}.label'.format(str(i).zfill(6)))\n",
    "    gt_labels.append(np.fromfile(labels_file_path, dtype=np.uint32))\n"
   ]
  },
  {
   "cell_type": "markdown",
   "metadata": {},
   "source": [
    "### Visualize baselines"
   ]
  },
  {
   "cell_type": "code",
   "execution_count": 5,
   "metadata": {},
   "outputs": [],
   "source": [
    "import random\n",
    "\n",
    "def generate_random_colors(N):\n",
    "    colors = []\n",
    "    for _ in range(N):\n",
    "        colors.append([random.randint(0, 255), random.randint(0, 255), random.randint(0, 255)])\n",
    "\n",
    "    return colors\n",
    "\n",
    "random_colors = generate_random_colors(500)"
   ]
  },
  {
   "cell_type": "code",
   "execution_count": 6,
   "metadata": {},
   "outputs": [],
   "source": [
    "import numpy as np\n",
    "import open3d as o3d\n",
    "\n",
    "def color_points_by_labels(points, labels):\n",
    "    pcd = o3d.geometry.PointCloud()\n",
    "    pcd.points = o3d.utility.Vector3dVector(points)\n",
    "    colors = []\n",
    "\n",
    "    for i in range(labels.shape[0]):\n",
    "        try:\n",
    "            colors.append(random_colors[int(labels[i]) + 1])\n",
    "        except:\n",
    "            colors.append(random_colors[1])\n",
    "            print(int(labels[i]) + 1)\n",
    "\n",
    "    pcd.colors = o3d.utility.Vector3dVector(np.vstack(colors) / 255)\n",
    "\n",
    "    return pcd"
   ]
  },
  {
   "cell_type": "code",
   "execution_count": 7,
   "metadata": {},
   "outputs": [],
   "source": [
    "index = 1\n",
    "points = dataset.get_point_cloud(indices[index])"
   ]
  },
  {
   "cell_type": "code",
   "execution_count": null,
   "metadata": {},
   "outputs": [],
   "source": [
    "o3d.visualization.draw_geometries([color_points_by_labels(points, visual_labels[index])])"
   ]
  },
  {
   "cell_type": "code",
   "execution_count": null,
   "metadata": {},
   "outputs": [],
   "source": [
    "o3d.visualization.draw_geometries([color_points_by_labels(points, gt_labels[index])])"
   ]
  },
  {
   "cell_type": "code",
   "execution_count": 8,
   "metadata": {},
   "outputs": [
    {
     "name": "stdout",
     "output_type": "stream",
     "text": [
      "\u001b[1;33m[Open3D WARNING] GLFW Error: Cocoa: Failed to find service port for display\u001b[0;m\n",
      "\u001b[1;33m[Open3D WARNING] GLFW Error: Cocoa: Failed to find service port for display\u001b[0;m\n",
      "\u001b[1;33m[Open3D WARNING] GLFW Error: Cocoa: Failed to find service port for display\u001b[0;m\n",
      "\u001b[1;33m[Open3D WARNING] GLFW Error: Cocoa: Failed to find service port for display\u001b[0;m\n"
     ]
    }
   ],
   "source": [
    "o3d.visualization.draw_geometries([color_points_by_labels(points, spectral_labels[index])])"
   ]
  },
  {
   "cell_type": "code",
   "execution_count": null,
   "metadata": {},
   "outputs": [],
   "source": [
    "o3d.visualization.draw_geometries([color_points_by_labels(points, geometrical_labels[index])])"
   ]
  },
  {
   "cell_type": "markdown",
   "metadata": {},
   "source": [
    "### Evaluation"
   ]
  },
  {
   "cell_type": "code",
   "execution_count": null,
   "metadata": {},
   "outputs": [],
   "source": [
    "import instanseg\n",
    "from instanseg.metrics import precision, recall, fScore\n",
    "\n",
    "instanseg.metrics.constants.IOU_THRESHOLD_FULL = 0.5\n",
    "tp_condition = 'iou'"
   ]
  },
  {
   "cell_type": "code",
   "execution_count": null,
   "metadata": {},
   "outputs": [],
   "source": [
    "import pandas as pd\n",
    "\n",
    "results_dict = []\n",
    "for i in tqdm(range(len(spectral_labels))):\n",
    "    res = {\n",
    "        'index': i,\n",
    "        'method': 'visual',\n",
    "        'precision': precision(visual_labels[i], gt_labels[i], tp_condition),\n",
    "        'recall': recall(visual_labels[i], gt_labels[i], tp_condition),\n",
    "        'fscore': fScore(visual_labels[i], gt_labels[i], tp_condition)\n",
    "        \n",
    "    }\n",
    "    results_dict.append(res)\n",
    "\n",
    "    res = {\n",
    "        'index': i,\n",
    "        'method': 'geometrical',\n",
    "        'precision': precision(geometrical_labels[i], gt_labels[i], tp_condition),\n",
    "        'recall': recall(geometrical_labels[i], gt_labels[i], tp_condition),\n",
    "        'fscore': fScore(geometrical_labels[i], gt_labels[i], tp_condition)\n",
    "    }\n",
    "    results_dict.append(res)\n",
    "\n",
    "    res = {\n",
    "        'index': i,\n",
    "        'method': 'spectral',\n",
    "        'precision': precision(spectral_labels[i], gt_labels[i], tp_condition),\n",
    "        'recall': recall(spectral_labels[i], gt_labels[i], tp_condition),\n",
    "        'fscore': fScore(spectral_labels[i], gt_labels[i], tp_condition)\n",
    "    }\n",
    "    results_dict.append(res)\n"
   ]
  },
  {
   "cell_type": "code",
   "execution_count": null,
   "metadata": {},
   "outputs": [],
   "source": [
    "df = pd.DataFrame.from_records(results_dict, index=np.arange(len(results_dict)))"
   ]
  },
  {
   "cell_type": "code",
   "execution_count": null,
   "metadata": {},
   "outputs": [],
   "source": [
    "print(df.tail())"
   ]
  },
  {
   "cell_type": "code",
   "execution_count": null,
   "metadata": {},
   "outputs": [],
   "source": [
    "import seaborn as sns"
   ]
  },
  {
   "cell_type": "code",
   "execution_count": null,
   "metadata": {},
   "outputs": [],
   "source": [
    "sns.lineplot(df, x='index', y='recall', hue='method')"
   ]
  },
  {
   "cell_type": "code",
   "execution_count": null,
   "metadata": {},
   "outputs": [],
   "source": [
    "sns.lineplot(df, x='index', y='precision', hue='method')"
   ]
  },
  {
   "cell_type": "code",
   "execution_count": null,
   "metadata": {},
   "outputs": [],
   "source": [
    "sns.lineplot(df, x='index', y='fscore', hue='method')"
   ]
  },
  {
   "cell_type": "code",
   "execution_count": null,
   "metadata": {},
   "outputs": [],
   "source": []
  }
 ],
 "metadata": {
  "kernelspec": {
   "display_name": "Python 3",
   "language": "python",
   "name": "python3"
  },
  "language_info": {
   "codemirror_mode": {
    "name": "ipython",
    "version": 3
   },
   "file_extension": ".py",
   "mimetype": "text/x-python",
   "name": "python",
   "nbconvert_exporter": "python",
   "pygments_lexer": "ipython3",
   "version": "3.9.16"
  },
  "orig_nbformat": 4
 },
 "nbformat": 4,
 "nbformat_minor": 2
}
