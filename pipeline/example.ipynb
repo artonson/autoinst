{
 "cells": [
  {
   "cell_type": "code",
   "execution_count": null,
   "metadata": {},
   "outputs": [],
   "source": [
    "import os, sys\n",
    "src_paths = [os.path.abspath(\"../\"), os.path.abspath(\"../point-to-pixel-mapping\")]\n",
    "for src_path in src_paths:\n",
    "    if src_path not in sys.path:\n",
    "        sys.path.append(src_path)\n",
    "\n",
    "from datasets.kitti_dataset import KittiDataset"
   ]
  },
  {
   "cell_type": "code",
   "execution_count": null,
   "metadata": {},
   "outputs": [],
   "source": [
    "kitti_dataset_path = '/Users/laurenzheidrich/Downloads/fused_dataset'\n",
    "sequence = '00'\n",
    "sam_labels_path = '/Users/laurenzheidrich/Downloads/fused_dataset/vfm-labels/sam/00'\n",
    "\n",
    "dataset = KittiDataset(kitti_dataset_path, \n",
    "                       sequence, \n",
    "                       sam_labels_path)\n",
    "\n",
    "labels_folder = '/Users/laurenzheidrich/Downloads/fused_dataset/sequences/00/labels'"
   ]
  },
  {
   "cell_type": "code",
   "execution_count": null,
   "metadata": {},
   "outputs": [],
   "source": [
    "from segmentation.reprojection_segmentation import ReprojectionSegmentation\n",
    "from segmentation.dbscan_segmentation import DbscanSegmentation\n",
    "from segmentation.spectral_clustering_segmentation import SpectralClusteringSegmentation\n",
    "from segmentation.ncut_segmentation import nCutSegmentation\n",
    "\n",
    "visual_segmentation = ReprojectionSegmentation(dataset)\n",
    "geometrical_segmentation = DbscanSegmentation(dataset)\n",
    "#spectral_segmentation = SpectralClusteringSegmentation(dataset, n_clusters=40, lower_bound=0, upper_bound=25)\n",
    "ncut_segmentation = nCutSegmentation(dataset, ncut_threshold=0.001, lower_bound=6, upper_bound=45)"
   ]
  },
  {
   "cell_type": "markdown",
   "metadata": {},
   "source": [
    "### Run baselines"
   ]
  },
  {
   "cell_type": "code",
   "execution_count": null,
   "metadata": {},
   "outputs": [],
   "source": [
    "import os\n",
    "import numpy as np\n",
    "\n",
    "from tqdm import tqdm\n",
    "\n",
    "indices = []\n",
    "visual_labels = []\n",
    "geometrical_labels = []\n",
    "spectral_labels = []\n",
    "ncut_labels = []\n",
    "gt_labels = []\n",
    "\n",
    "\n",
    "for i in tqdm(range(0, len(dataset.poses), 1000)):\n",
    "    indices.append(i)\n",
    "    visual_labels.append(visual_segmentation.segment_instances(i))\n",
    "    geometrical_labels.append(geometrical_segmentation.segment_instances(i))\n",
    "    #spectral_labels.append(spectral_segmentation.segment_instances(i))\n",
    "    ncut_labels.append(ncut_segmentation.segment_instances(i))\n",
    "    labels_file_path = os.path.join(labels_folder, '{}.label'.format(str(i).zfill(6)))\n",
    "    gt_labels.append(np.fromfile(labels_file_path, dtype=np.uint32))\n"
   ]
  },
  {
   "cell_type": "markdown",
   "metadata": {},
   "source": [
    "### Visualize baselines"
   ]
  },
  {
   "cell_type": "code",
   "execution_count": null,
   "metadata": {},
   "outputs": [],
   "source": [
    "import random\n",
    "\n",
    "def generate_random_colors(N):\n",
    "    colors = []\n",
    "    for _ in range(N):\n",
    "        colors.append([random.randint(0, 255), random.randint(0, 255), random.randint(0, 255)])\n",
    "\n",
    "    return colors\n",
    "\n",
    "random_colors = generate_random_colors(500)"
   ]
  },
  {
   "cell_type": "code",
   "execution_count": null,
   "metadata": {},
   "outputs": [],
   "source": [
    "import numpy as np\n",
    "import open3d as o3d\n",
    "\n",
    "def color_points_by_labels(points, labels):\n",
    "    pcd = o3d.geometry.PointCloud()\n",
    "    pcd.points = o3d.utility.Vector3dVector(points)\n",
    "    colors = []\n",
    "\n",
    "    for i in range(labels.shape[0]):\n",
    "        try:\n",
    "            colors.append(random_colors[int(labels[i]) + 1])\n",
    "        except:\n",
    "            colors.append(random_colors[1])\n",
    "            print(int(labels[i]) + 1)\n",
    "\n",
    "    pcd.colors = o3d.utility.Vector3dVector(np.vstack(colors) / 255)\n",
    "\n",
    "    return pcd"
   ]
  },
  {
   "cell_type": "code",
   "execution_count": null,
   "metadata": {},
   "outputs": [],
   "source": [
    "index = 0\n",
    "points = dataset.get_point_cloud(indices[index])"
   ]
  },
  {
   "cell_type": "code",
   "execution_count": null,
   "metadata": {},
   "outputs": [],
   "source": [
    "#o3d.visualization.draw_geometries([color_points_by_labels(points, visual_labels[index])])\n",
    "o3d.io.write_point_cloud(\"pcd_visual_labels.pcd\", color_points_by_labels(points, visual_labels[index]), write_ascii=False, compressed=False, print_progress=False)"
   ]
  },
  {
   "cell_type": "code",
   "execution_count": null,
   "metadata": {},
   "outputs": [],
   "source": [
    "#o3d.visualization.draw_geometries([color_points_by_labels(points, gt_labels[index])])\n",
    "o3d.io.write_point_cloud(\"pcd_gt_labels.pcd\", color_points_by_labels(points, gt_labels[index]), write_ascii=False, compressed=False, print_progress=False)"
   ]
  },
  {
   "cell_type": "code",
   "execution_count": null,
   "metadata": {},
   "outputs": [],
   "source": [
    "#o3d.visualization.draw_geometries([color_points_by_labels(points, spectral_labels[index])])\n",
    "o3d.io.write_point_cloud(\"pcd_spectral_labels.pcd\", color_points_by_labels(points, spectral_labels[index]), write_ascii=False, compressed=False, print_progress=False)"
   ]
  },
  {
   "cell_type": "code",
   "execution_count": null,
   "metadata": {},
   "outputs": [],
   "source": [
    "#o3d.visualization.draw_geometries([color_points_by_labels(points, geometrical_labels[index])])\n",
    "o3d.io.write_point_cloud(\"pcd_geometrical_labels.pcd\", color_points_by_labels(points, geometrical_labels[index]), write_ascii=False, compressed=False, print_progress=False)"
   ]
  },
  {
   "cell_type": "code",
   "execution_count": null,
   "metadata": {},
   "outputs": [],
   "source": [
    "#o3d.visualization.draw_geometries([color_points_by_labels(points, ncut_labels[index])])\n",
    "o3d.io.write_point_cloud(\"pcd_ncut_labels.pcd\", color_points_by_labels(points, ncut_labels[index]), write_ascii=False, compressed=False, print_progress=False)"
   ]
  },
  {
   "cell_type": "markdown",
   "metadata": {},
   "source": [
    "### Evaluation"
   ]
  },
  {
   "cell_type": "code",
   "execution_count": null,
   "metadata": {},
   "outputs": [],
   "source": [
    "import instanseg\n",
    "from instanseg.metrics import precision, recall, fScore\n",
    "\n",
    "instanseg.metrics.constants.IOU_THRESHOLD_FULL = 0.5\n",
    "tp_condition = 'iou'"
   ]
  },
  {
   "cell_type": "code",
   "execution_count": null,
   "metadata": {},
   "outputs": [],
   "source": [
    "import pandas as pd\n",
    "\n",
    "results_dict = []\n",
    "for i in tqdm(range(len(spectral_labels))):\n",
    "    res = {\n",
    "        'index': i,\n",
    "        'method': 'visual',\n",
    "        'precision': precision(visual_labels[i], gt_labels[i], tp_condition),\n",
    "        'recall': recall(visual_labels[i], gt_labels[i], tp_condition),\n",
    "        'fscore': fScore(visual_labels[i], gt_labels[i], tp_condition)\n",
    "        \n",
    "    }\n",
    "    results_dict.append(res)\n",
    "\n",
    "    res = {\n",
    "        'index': i,\n",
    "        'method': 'geometrical',\n",
    "        'precision': precision(geometrical_labels[i], gt_labels[i], tp_condition),\n",
    "        'recall': recall(geometrical_labels[i], gt_labels[i], tp_condition),\n",
    "        'fscore': fScore(geometrical_labels[i], gt_labels[i], tp_condition)\n",
    "    }\n",
    "    results_dict.append(res)\n",
    "\n",
    "    '''\n",
    "    res = {\n",
    "        'index': i,\n",
    "        'method': 'spectral',\n",
    "        'precision': precision(spectral_labels[i], gt_labels[i], tp_condition),\n",
    "        'recall': recall(spectral_labels[i], gt_labels[i], tp_condition),\n",
    "        'fscore': fScore(spectral_labels[i], gt_labels[i], tp_condition)\n",
    "    }\n",
    "    results_dict.append(res)\n",
    "    '''\n",
    "\n",
    "    res = {\n",
    "        'index': i,\n",
    "        'method': 'ncut',\n",
    "        'precision': precision(ncut_labels[i], gt_labels[i], tp_condition),\n",
    "        'recall': recall(ncut_labels[i], gt_labels[i], tp_condition),\n",
    "        'fscore': fScore(ncut_labels[i], gt_labels[i], tp_condition)\n",
    "    }\n",
    "    results_dict.append(res)\n"
   ]
  },
  {
   "cell_type": "code",
   "execution_count": null,
   "metadata": {},
   "outputs": [],
   "source": [
    "df = pd.DataFrame.from_records(results_dict, index=np.arange(len(results_dict)))"
   ]
  },
  {
   "cell_type": "code",
   "execution_count": null,
   "metadata": {},
   "outputs": [],
   "source": [
    "print(df.head())"
   ]
  },
  {
   "cell_type": "code",
   "execution_count": null,
   "metadata": {},
   "outputs": [],
   "source": [
    "import seaborn as sns"
   ]
  },
  {
   "cell_type": "code",
   "execution_count": null,
   "metadata": {},
   "outputs": [],
   "source": [
    "sns.lineplot(df, x='index', y='recall', hue='method')"
   ]
  },
  {
   "cell_type": "code",
   "execution_count": null,
   "metadata": {},
   "outputs": [],
   "source": [
    "sns.lineplot(df, x='index', y='precision', hue='method')"
   ]
  },
  {
   "cell_type": "code",
   "execution_count": null,
   "metadata": {},
   "outputs": [],
   "source": [
    "sns.lineplot(df, x='index', y='fscore', hue='method')"
   ]
  },
  {
   "cell_type": "code",
   "execution_count": null,
   "metadata": {},
   "outputs": [],
   "source": []
  }
 ],
 "metadata": {
  "kernelspec": {
   "display_name": "Python 3",
   "language": "python",
   "name": "python3"
  },
  "language_info": {
   "codemirror_mode": {
    "name": "ipython",
    "version": 3
   },
   "file_extension": ".py",
   "mimetype": "text/x-python",
   "name": "python",
   "nbconvert_exporter": "python",
   "pygments_lexer": "ipython3",
   "version": "3.9.16"
  },
  "orig_nbformat": 4
 },
 "nbformat": 4,
 "nbformat_minor": 2
}
