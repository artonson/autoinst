{
 "cells": [
  {
   "cell_type": "code",
   "execution_count": null,
   "metadata": {},
   "outputs": [],
   "source": [
    "import numpy as np\n",
    "import os.path as osp\n",
    "import os\n",
    "import cv2\n",
    "import matplotlib.pyplot as plt\n",
    "import open3d as o3d\n",
    "%matplotlib inline \n",
    "import sys\n",
    "from scipy.sparse import lil_matrix\n",
    "\n",
    "src_path = os.path.abspath(\"../..\")\n",
    "if src_path not in sys.path:\n",
    "    sys.path.append(src_path)\n",
    "%load_ext autoreload\n",
    "from dataset.kitti_odometry_dataset import KittiOdometryDataset, KittiOdometryDatasetConfig\n",
    "from dataset.filters.filter_list import FilterList\n",
    "from dataset.filters.kitti_gt_mo_filter import KittiGTMovingObjectFilter\n",
    "from dataset.filters.range_filter import RangeFilter\n",
    "from dataset.filters.apply_pose import ApplyPose\n",
    "\n",
    "from hidden_points_removal import hidden_point_removal_o3d, hidden_point_removal_biasutti\n",
    "from point_cloud_utils import transform_pcd, filter_points_from_dict, get_pcd, point_to_label, change_point_indices\n",
    "from point_to_pixels import point_to_pixel\n",
    "from visualization_utils import unite_pcd_and_img, color_pcd_with_labels, visualize_associations_in_img\n",
    "from merge_pointclouds import build_associations, apply_associations_to_dict, merge_label_predictions, merge_pointclouds, build_associations_across_timesteps\n",
    "from merged_sequences import merged_sequence\n",
    "from reproject_merged_pointcloud import reproject_merged_pointcloud"
   ]
  },
  {
   "cell_type": "markdown",
   "metadata": {},
   "source": [
    "Here we define the dataset depending on kitti sequence!"
   ]
  },
  {
   "cell_type": "code",
   "execution_count": null,
   "metadata": {},
   "outputs": [],
   "source": [
    "DATASET_PATH = os.path.join('/Users/laurenzheidrich/Downloads/','fused_dataset')\n",
    "SEQUENCE_NUM = 7\n",
    "\n",
    "config_filtered = KittiOdometryDatasetConfig(\n",
    "    cache=True,\n",
    "    dataset_path=DATASET_PATH,\n",
    "    correct_scan_calibration=True,\n",
    "    filters=FilterList(\n",
    "        [\n",
    "            KittiGTMovingObjectFilter(\n",
    "                os.path.join(\n",
    "                    DATASET_PATH,\n",
    "                    \"sequences\",\n",
    "                    \"%.2d\" % SEQUENCE_NUM,\n",
    "                    \"labels\",\n",
    "                )\n",
    "            ),\n",
    "            RangeFilter(2.5, 120),\n",
    "            ApplyPose(),\n",
    "        ]\n",
    "    ),\n",
    ")\n",
    "\n",
    "dataset = KittiOdometryDataset(config_filtered, SEQUENCE_NUM)"
   ]
  },
  {
   "cell_type": "markdown",
   "metadata": {},
   "source": [
    "Now we read in the point cloud and the left and right image of the stereo camera. If labels for those images are available they can be read in, too!"
   ]
  },
  {
   "cell_type": "code",
   "execution_count": null,
   "metadata": {},
   "outputs": [],
   "source": [
    "start_index = 58\n",
    "sequence_length = 10\n",
    "\n",
    "label_history, pcd_merge = merged_sequence(dataset, start_index, sequence_length, labelling=False)"
   ]
  },
  {
   "cell_type": "code",
   "execution_count": null,
   "metadata": {},
   "outputs": [],
   "source": [
    "feature_matrix = reproject_merged_pointcloud(np.array(pcd_merge.points), dataset, start_index, sequence_length)"
   ]
  },
  {
   "cell_type": "code",
   "execution_count": null,
   "metadata": {},
   "outputs": [],
   "source": [
    "from sklearn.decomposition import TruncatedSVD\n",
    "n_components = 75\n",
    "tSVD = TruncatedSVD(n_components=n_components)\n",
    "transformed_data = tSVD.fit_transform(feature_matrix)"
   ]
  },
  {
   "cell_type": "code",
   "execution_count": null,
   "metadata": {},
   "outputs": [],
   "source": [
    "from sklearn.cluster import Birch, KMeans, MeanShift, DBSCAN\n",
    "\n",
    "# Birch is fastest, results are also quite nice\n",
    "birch_model = Birch(threshold=0.1, n_clusters=100)\n",
    "birch_model.fit(transformed_data)\n",
    "labels = birch_model.predict(transformed_data)\n",
    "\n",
    "# kmeans is quite fast, results look okay, some noise\n",
    "#kmeans = KMeans(n_clusters=80)\n",
    "#labels = kmeans.fit_predict(transformed_data)\n",
    "\n",
    "# DBSCAN doesn't really produce great results and takes really long\n",
    "#dbscan = DBSCAN(eps=0.5, min_samples=100)\n",
    "#labels = dbscan.fit_predict(transformed_data)\n",
    "\n",
    "# Meanshift takes way too long\n",
    "#meanshift = MeanShift()\n",
    "#labels = meanshift.fit_predict(transformed_data)"
   ]
  },
  {
   "cell_type": "code",
   "execution_count": null,
   "metadata": {},
   "outputs": [],
   "source": [
    "print(\"Cluster Assignments:\")\n",
    "print(len(set(labels)))"
   ]
  },
  {
   "cell_type": "code",
   "execution_count": null,
   "metadata": {},
   "outputs": [],
   "source": [
    "colorspace = plt.cm.rainbow(np.linspace(0, 1, len(set(labels))))[:, :3]\n",
    "colors = [colorspace[i] for i in labels]\n",
    "pcd_merge.colors = o3d.utility.Vector3dVector(np.array(colors))"
   ]
  },
  {
   "cell_type": "code",
   "execution_count": null,
   "metadata": {},
   "outputs": [],
   "source": [
    "#o3d.io.write_point_cloud(\"pcd_merge_clustered.pcd\", pcd_merge, write_ascii=False, compressed=False, print_progress=False)"
   ]
  }
 ],
 "metadata": {
  "kernelspec": {
   "display_name": "Python 3 (ipykernel)",
   "language": "python",
   "name": "python3"
  },
  "language_info": {
   "codemirror_mode": {
    "name": "ipython",
    "version": 3
   },
   "file_extension": ".py",
   "mimetype": "text/x-python",
   "name": "python",
   "nbconvert_exporter": "python",
   "pygments_lexer": "ipython3",
   "version": "3.9.16"
  }
 },
 "nbformat": 4,
 "nbformat_minor": 2
}
