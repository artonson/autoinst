{
 "cells": [
  {
   "cell_type": "code",
   "execution_count": null,
   "metadata": {},
   "outputs": [],
   "source": [
    "import numpy as np\n",
    "import os\n",
    "import sys\n",
    "import cv2\n",
    "import matplotlib.pyplot as plt\n",
    "import open3d as o3d\n",
    "%matplotlib inline \n",
    "\n",
    "src_path = os.path.abspath(\"../..\")\n",
    "if src_path not in sys.path:\n",
    "    sys.path.append(src_path)\n",
    "%load_ext autoreload\n",
    "from dataset.kitti_odometry_dataset import KittiOdometryDataset, KittiOdometryDatasetConfig\n",
    "from dataset.filters.filter_list import FilterList\n",
    "from dataset.filters.kitti_gt_mo_filter import KittiGTMovingObjectFilter\n",
    "from dataset.filters.range_filter import RangeFilter\n",
    "from dataset.filters.apply_pose import ApplyPose\n",
    "\n",
    "import scipy\n",
    "import networkx as nx\n",
    "from scipy.spatial.distance import cdist\n",
    "import sklearn\n",
    "from sklearn.cluster import Birch, KMeans, MeanShift, DBSCAN, SpectralClustering\n",
    "from sklearn.decomposition import TruncatedSVD\n",
    "from normalized_cut import normalized_cut\n",
    "\n",
    "from point_cloud_utils import get_pcd, transform_pcd\n",
    "from aggregate_pointcloud import aggregate_pointcloud\n",
    "from reproject_merged_pointcloud import reproject_points_to_label, merge_associations, merge_features\n",
    "from visualization_utils import generate_random_colors"
   ]
  },
  {
   "cell_type": "markdown",
   "metadata": {},
   "source": [
    "Here we define the dataset depending on kitti sequence!"
   ]
  },
  {
   "cell_type": "code",
   "execution_count": null,
   "metadata": {},
   "outputs": [],
   "source": [
    "DATASET_PATH = os.path.join('/Users/laurenzheidrich/Downloads/','fused_dataset')\n",
    "SEQUENCE_NUM = 7\n",
    "\n",
    "config_filtered = KittiOdometryDatasetConfig(\n",
    "    cache=True,\n",
    "    dataset_path=DATASET_PATH,\n",
    "    correct_scan_calibration=True,\n",
    "    filters=FilterList(\n",
    "        [\n",
    "            KittiGTMovingObjectFilter(\n",
    "                os.path.join(\n",
    "                    DATASET_PATH,\n",
    "                    \"sequences\",\n",
    "                    \"%.2d\" % SEQUENCE_NUM,\n",
    "                    \"labels\",\n",
    "                )\n",
    "            ),\n",
    "            RangeFilter(2.5, 120),\n",
    "            ApplyPose(),\n",
    "        ]\n",
    "    ),\n",
    ")\n",
    "\n",
    "dataset = KittiOdometryDataset(config_filtered, SEQUENCE_NUM)"
   ]
  },
  {
   "cell_type": "markdown",
   "metadata": {},
   "source": [
    "Now we read in the point cloud and the left and right image of the stereo camera. If labels for those images are available they can be read in, too!"
   ]
  },
  {
   "cell_type": "code",
   "execution_count": null,
   "metadata": {},
   "outputs": [],
   "source": [
    "ind_start = 58\n",
    "ind_end = 61\n",
    "upper_threshold = 26 #meters\n",
    "lower_threshold = 6 #meters\n",
    "voxel_size = 0.35\n",
    "\n",
    "pcd_aggregated, T_pcd = aggregate_pointcloud(dataset, ind_start, ind_end, clip_to_imageframe=True)\n",
    "\n",
    "pcd_cut = pcd_aggregated\n",
    "pcd_cut = pcd_cut.select_by_index(np.where(np.asarray(pcd_cut.points)[:,0] > lower_threshold)[0])\n",
    "pcd_cut = pcd_cut.select_by_index(np.where(np.asarray(pcd_cut.points)[:,0] < upper_threshold)[0])\n",
    "\n",
    "pcd = pcd_cut.voxel_down_sample(voxel_size=voxel_size)\n",
    "\n",
    "num_points = np.asarray(pcd.points).shape[0]\n",
    "print(\"num points: \", num_points)"
   ]
  },
  {
   "cell_type": "markdown",
   "metadata": {},
   "source": [
    "No we can to the point to label reprojection for each timestep and merge them in a list"
   ]
  },
  {
   "cell_type": "code",
   "execution_count": null,
   "metadata": {},
   "outputs": [],
   "source": [
    "cams = [\"cam2\", \"cam3\"]\n",
    "cam_ind = 0\n",
    "point_to_label_reprojections = []\n",
    "point_to_dinov2_feature_reprojections = []\n",
    "concatenated_tarl_points = np.zeros((0, 3))\n",
    "concatenated_tarl_features = np.zeros((0, 96))\n",
    "\n",
    "for points_index in range(ind_start-1, ind_end+1):\n",
    "\t# Load the SAM label\n",
    "\tlabel_PIL = dataset.get_sam_label(cams[cam_ind], points_index)\n",
    "\tlabel = cv2.cvtColor(np.array(label_PIL), cv2.COLOR_RGB2BGR)\n",
    "\n",
    "\t# Load the DINOV2 feature map\n",
    "\tdinov2_feature_map = dataset.get_dinov2_features(cams[cam_ind], points_index)\n",
    "\tdinov2_feature_map_zoomed = scipy.ndimage.zoom(dinov2_feature_map, (label.shape[0] / dinov2_feature_map.shape[0], label.shape[1] / dinov2_feature_map.shape[1], 1), order=1)\n",
    "\n",
    "\t# Load the TARL features\n",
    "\tcoords, _, point_features, cluster_indices = dataset.get_tarl_features(points_index)\n",
    "\t\n",
    "\t# Load the calibration matrices\n",
    "\tT_lidar2world = dataset.get_pose(points_index)\n",
    "\tT_world2lidar = np.linalg.inv(dataset.get_pose(points_index))\n",
    "\tT_lidar2cam, K = dataset.get_calibration_matrices(cams[cam_ind])\n",
    "\tT_world2cam = T_lidar2cam @ T_world2lidar\n",
    "\t\n",
    "\t# Compute the SAM label reporjections\n",
    "\tpoint_to_label_reprojections.append(reproject_points_to_label(np.array(pcd.points), T_pcd, label, T_world2cam, K, hidden_point_removal=True))\n",
    "\n",
    "\t# Compute the DINOV2 feature map reprojections\n",
    "\tpoint_to_dinov2_feature_reprojections.append(reproject_points_to_label(np.array(pcd.points), T_pcd, dinov2_feature_map_zoomed, T_world2cam, K, hidden_point_removal=True, label_is_color=False))\n",
    "\n",
    "\t# Compute the TARL features \n",
    "\tT_local2global_pcd = np.linalg.inv(T_pcd) @ T_lidar2world\n",
    "\tcoords = transform_pcd(coords, T_local2global_pcd)\n",
    "\tmask = np.where((coords[:,0] < upper_threshold) & (coords[:,0] > lower_threshold))\n",
    "\tcoords, point_features, cluster_indices = coords[mask], point_features[mask], cluster_indices[mask]\n",
    "\tconcatenated_tarl_points = np.concatenate((concatenated_tarl_points, coords))\n",
    "\tconcatenated_tarl_features = np.concatenate((concatenated_tarl_features, point_features))"
   ]
  },
  {
   "cell_type": "markdown",
   "metadata": {},
   "source": [
    "The TARL features now need to be projected on the original downsampled PCD. This is done by computing the mean over radius-based nearest neigbors"
   ]
  },
  {
   "cell_type": "code",
   "execution_count": null,
   "metadata": {},
   "outputs": [],
   "source": [
    "tarl_pcd = get_pcd(concatenated_tarl_points)\n",
    "tarl_tree = o3d.geometry.KDTreeFlann(tarl_pcd)\n",
    "\n",
    "tarl_features = np.zeros((num_points, 96))\n",
    "\n",
    "i=0\n",
    "for point in np.asarray(pcd.points):\n",
    "    [_, idx, _] = tarl_tree.search_radius_vector_3d(point, voxel_size)\n",
    "    features_in_voxel = concatenated_tarl_features[idx]\n",
    "    tarl_features[i,:] = np.mean(features_in_voxel, axis=0)\n",
    "    i+=1"
   ]
  },
  {
   "cell_type": "markdown",
   "metadata": {},
   "source": [
    "From the merged list we can now build the association matrix"
   ]
  },
  {
   "cell_type": "code",
   "execution_count": null,
   "metadata": {},
   "outputs": [],
   "source": [
    "sam_label_matrix = merge_associations(point_to_label_reprojections, len(pcd.points))"
   ]
  },
  {
   "cell_type": "code",
   "execution_count": null,
   "metadata": {},
   "outputs": [],
   "source": [
    "dinov2_feature_matrix = merge_features(point_to_dinov2_feature_reprojections, len(pcd.points))"
   ]
  },
  {
   "cell_type": "markdown",
   "metadata": {},
   "source": [
    "Here we define important parameters and build the point-to-point distance matrix"
   ]
  },
  {
   "cell_type": "code",
   "execution_count": null,
   "metadata": {},
   "outputs": [],
   "source": [
    "proximity_threshold = 2 # meters that points can be apart from each other and still be considered neighbors\n",
    "alpha = 2.3 # weight of the spatial proximity term  2.3\n",
    "beta = 1.1 #1.1 # weight of the label similarity term 1.1\n",
    "gamma = 0.1 # weight of the dinov2 feature similarity term 1.5\n",
    "theta = 1.4 # weight of the tarl feature similarity term\n",
    "points = np.asarray(pcd.points)\n",
    "dist_matrix = cdist(points, points)\n",
    "dinov2_distance = cdist(dinov2_feature_matrix, dinov2_feature_matrix)\n",
    "tarl_distance = cdist(tarl_features, tarl_features)"
   ]
  },
  {
   "cell_type": "markdown",
   "metadata": {},
   "source": [
    "Now we can build the graph with nodes and edges! First we build the matrix that measures the point-to-point distance in the feature space"
   ]
  },
  {
   "cell_type": "code",
   "execution_count": null,
   "metadata": {},
   "outputs": [],
   "source": [
    "mask = np.where(dist_matrix <= proximity_threshold)\n",
    "not_ordered_dist_mat_emb = np.sum(np.abs(sam_label_matrix[mask[0]] - sam_label_matrix[mask[1]]), axis=1)\n",
    "\n",
    "embedding_dist_matrix = np.zeros(dist_matrix.shape)\n",
    "for k, (i, j) in enumerate(zip(*mask)):\n",
    "    embedding_dist_matrix[i, j] = not_ordered_dist_mat_emb[k][0, 0]\n",
    "\n",
    "mask = np.where(dist_matrix <= proximity_threshold, 1, 0)\n",
    "\n",
    "label_distance = (mask - np.eye(num_points)) * np.exp(-beta * embedding_dist_matrix)"
   ]
  },
  {
   "cell_type": "markdown",
   "metadata": {},
   "source": [
    "Now we build the adjacency matrix amd remove all isolated points"
   ]
  },
  {
   "cell_type": "code",
   "execution_count": null,
   "metadata": {},
   "outputs": [],
   "source": [
    "A = np.exp(-alpha * (mask * dist_matrix)) * label_distance * np.exp(-theta * (mask * tarl_distance))\n",
    "isolated_mask = ~np.all(A == 0, axis=1)\n",
    "A = A[isolated_mask][:, isolated_mask]\n",
    "pcd = pcd.select_by_index(np.where(isolated_mask == True)[0])\n",
    "print(num_points - np.asarray(pcd.points).shape[0], \"isolated points removed\")\n",
    "num_points = np.asarray(pcd.points).shape[0]"
   ]
  },
  {
   "cell_type": "markdown",
   "metadata": {},
   "source": [
    "Here we can check for the number of connected components and number of isolated nodes in the constructed graph"
   ]
  },
  {
   "cell_type": "code",
   "execution_count": null,
   "metadata": {},
   "outputs": [],
   "source": [
    "G = nx.from_numpy_array(A)\n",
    "\n",
    "isolated_nodes = [node for node, degree in G.degree() if degree == 0]\n",
    "print(\"There are\", len(isolated_nodes), \"isolated nodes\")\n",
    "print(isolated_nodes)\n",
    "\n",
    "connected_components = list(nx.connected_components(G))\n",
    "print(\"There are\", len(connected_components), \"connected components\")\n",
    "\n",
    "print(\"Number of nodes:\", G.number_of_nodes())\n",
    "print(\"Number of edges:\", G.number_of_edges()) "
   ]
  },
  {
   "cell_type": "markdown",
   "metadata": {},
   "source": [
    "Now we can perform normalized cuts and save the cut graph"
   ]
  },
  {
   "cell_type": "code",
   "execution_count": null,
   "metadata": {},
   "outputs": [],
   "source": [
    "grouped_labels = normalized_cut(A, np.arange(num_points), T = 0.00025)"
   ]
  },
  {
   "cell_type": "code",
   "execution_count": null,
   "metadata": {},
   "outputs": [],
   "source": [
    "print(len(grouped_labels))"
   ]
  },
  {
   "cell_type": "markdown",
   "metadata": {},
   "source": [
    "Now we visualize the different components and save them to a point cloud file"
   ]
  },
  {
   "cell_type": "code",
   "execution_count": null,
   "metadata": {},
   "outputs": [],
   "source": [
    "print(\"There are\", len(grouped_labels), \"cut regions\")\n",
    "\n",
    "random_colors = generate_random_colors(600)\n",
    "\n",
    "pcd_color = np.zeros((num_points, 3))\n",
    "\n",
    "for i, s in enumerate(grouped_labels):\n",
    "    for j in s:\n",
    "        pcd_color[j] = np.array(random_colors[i]) / 255\n",
    "\n",
    "pcd.colors = o3d.utility.Vector3dVector(pcd_color)\n",
    "\n",
    "#o3d.io.write_point_cloud(\"pcd_merge_clustered.pcd\", pcd, write_ascii=False, compressed=False, print_progress=False)\n",
    "#o3d.visualization.draw_geometries([pcd])"
   ]
  },
  {
   "cell_type": "markdown",
   "metadata": {},
   "source": [
    "With this method, we can perform the nearest point labeling on the big point cloud, if the clustering beforehand was done on a sampled point cloud"
   ]
  },
  {
   "cell_type": "code",
   "execution_count": null,
   "metadata": {},
   "outputs": [],
   "source": [
    "pcd_cut.paint_uniform_color([0, 0, 0])\n",
    "pcd_tree = o3d.geometry.KDTreeFlann(pcd)\n",
    "\n",
    "i=0\n",
    "for point in np.asarray(pcd_cut.points):\n",
    "    [_, idx, _] = pcd_tree.search_knn_vector_3d(point, 1)\n",
    "    np.asarray(pcd_cut.colors)[i,:] = np.asarray(pcd.colors)[idx[0], :]\n",
    "    i+=1\n",
    "\n",
    "o3d.io.write_point_cloud(\"pcd_merge_clustered.pcd\", pcd_cut, write_ascii=False, compressed=False, print_progress=False)\n",
    "#o3d.visualization.draw_geometries([pcd_cut])"
   ]
  },
  {
   "cell_type": "markdown",
   "metadata": {},
   "source": [
    "We can also perform spectral clustering instead of normalized cuts:"
   ]
  },
  {
   "cell_type": "code",
   "execution_count": null,
   "metadata": {},
   "outputs": [],
   "source": [
    "n_clusters = 55\n",
    "A = nx.adjacency_matrix(G).toarray()\n",
    "sc = SpectralClustering(n_clusters=n_clusters, affinity=\"precomputed\", n_init=100, assign_labels=\"discretize\")\n",
    "labels = sc.fit_predict(A)  "
   ]
  },
  {
   "cell_type": "code",
   "execution_count": null,
   "metadata": {},
   "outputs": [],
   "source": [
    "colorspace = plt.cm.rainbow(np.linspace(0, 1, n_clusters))[:, :3]\n",
    "colors = [colorspace[i] for i in labels]\n",
    "pcd.colors = o3d.utility.Vector3dVector(np.array(colors))\n",
    "#o3d.io.write_point_cloud(\"pcd_merge_clustered.pcd\", pcd, write_ascii=False, compressed=False, print_progress=False)"
   ]
  },
  {
   "cell_type": "markdown",
   "metadata": {},
   "source": [
    "Again, we can perform the nearest point labeling on the big point cloud, if the clustering beforehand was done on a sampled point cloud"
   ]
  },
  {
   "cell_type": "code",
   "execution_count": null,
   "metadata": {},
   "outputs": [],
   "source": [
    "pcd_cut.paint_uniform_color([0, 0, 0])\n",
    "pcd_tree = o3d.geometry.KDTreeFlann(pcd)\n",
    "\n",
    "i=0\n",
    "for point in np.asarray(pcd_cut.points):\n",
    "    [_, idx, _] = pcd_tree.search_knn_vector_3d(point, 1)\n",
    "    np.asarray(pcd_cut.colors)[i,:] = np.asarray(pcd.colors)[idx[0], :]\n",
    "    i+=1\n",
    "\n",
    "o3d.io.write_point_cloud(\"pcd_merge_clustered.pcd\", pcd_cut, write_ascii=False, compressed=False, print_progress=False)"
   ]
  },
  {
   "cell_type": "markdown",
   "metadata": {},
   "source": [
    "We can also perform other clustering methods of the feature matrix, that do not take the graph as input:"
   ]
  },
  {
   "cell_type": "code",
   "execution_count": null,
   "metadata": {},
   "outputs": [],
   "source": [
    "n_components = 25\n",
    "tSVD = TruncatedSVD(n_components=25)\n",
    "transformed_data = tSVD.fit_transform(association_matrix)"
   ]
  },
  {
   "cell_type": "code",
   "execution_count": null,
   "metadata": {},
   "outputs": [],
   "source": [
    "# Birch is fastest, results are also quite nice\n",
    "birch_model = Birch(threshold=0.1, n_clusters=25)\n",
    "birch_model.fit(transformed_data)\n",
    "labels = birch_model.predict(transformed_data)\n",
    "\n",
    "# kmeans is quite fast, results look okay, some noise\n",
    "#kmeans = KMeans(n_clusters=80)\n",
    "#labels = kmeans.fit_predict(transformed_data)\n",
    "\n",
    "# DBSCAN doesn't really produce great results and takes really long\n",
    "#dbscan = DBSCAN(eps=0.5, min_samples=100)\n",
    "#labels = dbscan.fit_predict(transformed_data)\n",
    "\n",
    "# Meanshift takes way too long\n",
    "#meanshift = MeanShift()\n",
    "#labels = meanshift.fit_predict(transformed_data)"
   ]
  },
  {
   "cell_type": "code",
   "execution_count": null,
   "metadata": {},
   "outputs": [],
   "source": [
    "print(\"Cluster Assignments:\")\n",
    "print(len(set(labels)))"
   ]
  },
  {
   "cell_type": "code",
   "execution_count": null,
   "metadata": {},
   "outputs": [],
   "source": [
    "colorspace = plt.cm.rainbow(np.linspace(0, 1, len(set(labels))))[:, :3]\n",
    "colors = [colorspace[i] for i in labels]\n",
    "pcd.colors = o3d.utility.Vector3dVector(np.array(colors))\n",
    "o3d.io.write_point_cloud(\"pcd_merge_clustered.pcd\", pcd, write_ascii=False, compressed=False, print_progress=False)"
   ]
  },
  {
   "cell_type": "code",
   "execution_count": null,
   "metadata": {},
   "outputs": [],
   "source": []
  },
  {
   "cell_type": "code",
   "execution_count": null,
   "metadata": {},
   "outputs": [],
   "source": []
  }
 ],
 "metadata": {
  "kernelspec": {
   "display_name": "Python 3 (ipykernel)",
   "language": "python",
   "name": "python3"
  },
  "language_info": {
   "codemirror_mode": {
    "name": "ipython",
    "version": 3
   },
   "file_extension": ".py",
   "mimetype": "text/x-python",
   "name": "python",
   "nbconvert_exporter": "python",
   "pygments_lexer": "ipython3",
   "version": "3.9.16"
  }
 },
 "nbformat": 4,
 "nbformat_minor": 2
}
