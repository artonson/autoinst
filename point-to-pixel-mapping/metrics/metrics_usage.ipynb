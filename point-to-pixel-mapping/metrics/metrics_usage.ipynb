{
 "cells": [
  {
   "cell_type": "code",
   "execution_count": 1,
   "metadata": {},
   "outputs": [
    {
     "name": "stdout",
     "output_type": "stream",
     "text": [
      "Jupyter environment detected. Enabling Open3D WebVisualizer.\n",
      "[Open3D INFO] WebRTC GUI backend enabled.\n",
      "[Open3D INFO] WebRTCWindowSystem: HTTP handshake server disabled.\n"
     ]
    }
   ],
   "source": [
    "import open3d as o3d \n",
    "from visualization_utils import * \n",
    "import numpy as np \n",
    "from metrics_class import Metrics\n",
    "from modified_LSTQ import evaluator"
   ]
  },
  {
   "cell_type": "code",
   "execution_count": 2,
   "metadata": {},
   "outputs": [
    {
     "name": "stdout",
     "output_type": "stream",
     "text": [
      "Metrics for file 000066.pcd\n",
      "file idx 1\n",
      "Semantics for class car\n",
      "--- iou 0.9565596251642763\n",
      "--- num clusters 6\n",
      "--- semantic score 0.15942660392833505\n",
      "-------------------\n",
      "file idx 3\n",
      "Semantics for class fence\n",
      "--- iou 0.06707742552747624\n",
      "--- num clusters 2\n",
      "--- semantic score 0.03353871259604456\n",
      "-------------------\n",
      "file idx 4\n",
      "Semantics for class truck\n",
      "--- iou 0.6736627443032844\n",
      "--- num clusters 1\n",
      "--- semantic score 0.6736627375666571\n",
      "-------------------\n",
      "file idx 6\n",
      "Semantics for class vegetation\n",
      "--- iou 0.6991400824918964\n",
      "--- num clusters 6\n",
      "--- semantic score 0.11652334688777716\n",
      "-------------------\n"
     ]
    }
   ],
   "source": [
    "\n",
    "fn = '000066.pcd'\n",
    "sem_gt = 'out_kitti_semantic/' + fn\n",
    "pcd_sem = o3d.io.read_point_cloud(sem_gt)\n",
    "\n",
    "o3d.visualization.draw_geometries([pcd_sem])\n",
    "eval_lstq = evaluator()\n",
    "\n",
    "pred_pcd = o3d.io.read_point_cloud('test_data/' + fn) \n",
    "#o3d.visualization.draw_geometries([pred_pcd])\n",
    "unique_colors, labels_ncuts = np.unique(np.asarray(pred_pcd.colors), axis=0, return_inverse=True)\n",
    "metrics_pred = Metrics(name=fn)\n",
    "metrics_pred.semantic_eval(pred_pcd,pcd_sem)"
   ]
  }
 ],
 "metadata": {
  "kernelspec": {
   "display_name": "torch",
   "language": "python",
   "name": "python3"
  },
  "language_info": {
   "codemirror_mode": {
    "name": "ipython",
    "version": 3
   },
   "file_extension": ".py",
   "mimetype": "text/x-python",
   "name": "python",
   "nbconvert_exporter": "python",
   "pygments_lexer": "ipython3",
   "version": "3.9.16"
  }
 },
 "nbformat": 4,
 "nbformat_minor": 2
}
