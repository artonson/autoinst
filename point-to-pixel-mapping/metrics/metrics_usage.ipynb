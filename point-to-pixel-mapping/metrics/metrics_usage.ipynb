{
 "cells": [
  {
   "cell_type": "code",
   "execution_count": 7,
   "metadata": {},
   "outputs": [
    {
     "ename": "ModuleNotFoundError",
     "evalue": "No module named 'metrics'",
     "output_type": "error",
     "traceback": [
      "\u001b[0;31m---------------------------------------------------------------------------\u001b[0m",
      "\u001b[0;31mModuleNotFoundError\u001b[0m                       Traceback (most recent call last)",
      "\u001b[1;32m/home/cedric/unsup_3d_instances/point-to-pixel-mapping/metrics/metrics_usage.ipynb Cell 1\u001b[0m line \u001b[0;36m4\n\u001b[1;32m      <a href='vscode-notebook-cell:/home/cedric/unsup_3d_instances/point-to-pixel-mapping/metrics/metrics_usage.ipynb#W0sZmlsZQ%3D%3D?line=1'>2</a>\u001b[0m \u001b[39m#from visualization_utils import * \u001b[39;00m\n\u001b[1;32m      <a href='vscode-notebook-cell:/home/cedric/unsup_3d_instances/point-to-pixel-mapping/metrics/metrics_usage.ipynb#W0sZmlsZQ%3D%3D?line=2'>3</a>\u001b[0m \u001b[39mimport\u001b[39;00m \u001b[39mnumpy\u001b[39;00m \u001b[39mas\u001b[39;00m \u001b[39mnp\u001b[39;00m \n\u001b[0;32m----> <a href='vscode-notebook-cell:/home/cedric/unsup_3d_instances/point-to-pixel-mapping/metrics/metrics_usage.ipynb#W0sZmlsZQ%3D%3D?line=3'>4</a>\u001b[0m \u001b[39mfrom\u001b[39;00m \u001b[39mmetrics_class\u001b[39;00m \u001b[39mimport\u001b[39;00m Metrics\n",
      "File \u001b[0;32m~/unsup_3d_instances/point-to-pixel-mapping/metrics/metrics_class.py:4\u001b[0m\n\u001b[1;32m      2\u001b[0m \u001b[39mimport\u001b[39;00m \u001b[39minstanseg\u001b[39;00m\n\u001b[1;32m      3\u001b[0m \u001b[39mfrom\u001b[39;00m \u001b[39minstanseg\u001b[39;00m\u001b[39m.\u001b[39;00m\u001b[39mmetrics\u001b[39;00m \u001b[39mimport\u001b[39;00m full_statistics\n\u001b[0;32m----> 4\u001b[0m \u001b[39mfrom\u001b[39;00m \u001b[39mmetrics\u001b[39;00m\u001b[39m.\u001b[39;00m\u001b[39mmodified_LSTQ\u001b[39;00m \u001b[39mimport\u001b[39;00m evaluator\n\u001b[1;32m      5\u001b[0m \u001b[39mfrom\u001b[39;00m \u001b[39mmultiprocessing\u001b[39;00m \u001b[39mimport\u001b[39;00m Pool\n\u001b[1;32m      6\u001b[0m \u001b[39mimport\u001b[39;00m \u001b[39mopen3d\u001b[39;00m \u001b[39mas\u001b[39;00m \u001b[39mo3d\u001b[39;00m\n",
      "\u001b[0;31mModuleNotFoundError\u001b[0m: No module named 'metrics'"
     ]
    }
   ],
   "source": [
    "import open3d as o3d \n",
    "#from visualization_utils import * \n",
    "import numpy as np \n",
    "from metrics_class import Metrics"
   ]
  },
  {
   "cell_type": "code",
   "execution_count": null,
   "metadata": {},
   "outputs": [
    {
     "ename": "NameError",
     "evalue": "name 'o3d' is not defined",
     "output_type": "error",
     "traceback": [
      "\u001b[0;31m---------------------------------------------------------------------------\u001b[0m",
      "\u001b[0;31mNameError\u001b[0m                                 Traceback (most recent call last)",
      "\u001b[1;32m/home/cedric/unsup_3d_instances/point-to-pixel-mapping/metrics/metrics_usage.ipynb Cell 2\u001b[0m line \u001b[0;36m5\n\u001b[1;32m      <a href='vscode-notebook-cell:/home/cedric/unsup_3d_instances/point-to-pixel-mapping/metrics/metrics_usage.ipynb#W1sZmlsZQ%3D%3D?line=1'>2</a>\u001b[0m chunk_folder \u001b[39m=\u001b[39m \u001b[39m'\u001b[39m\u001b[39mpcd_preprocessed/output_chunks/\u001b[39m\u001b[39m'\u001b[39m\n\u001b[1;32m      <a href='vscode-notebook-cell:/home/cedric/unsup_3d_instances/point-to-pixel-mapping/metrics/metrics_usage.ipynb#W1sZmlsZQ%3D%3D?line=2'>3</a>\u001b[0m sem_gt \u001b[39m=\u001b[39m chunk_folder \u001b[39m+\u001b[39m\u001b[39m'\u001b[39m\u001b[39mout_kitti_semantic/\u001b[39m\u001b[39m'\u001b[39m \u001b[39m+\u001b[39m fn\n\u001b[0;32m----> <a href='vscode-notebook-cell:/home/cedric/unsup_3d_instances/point-to-pixel-mapping/metrics/metrics_usage.ipynb#W1sZmlsZQ%3D%3D?line=4'>5</a>\u001b[0m pcd_sem \u001b[39m=\u001b[39m o3d\u001b[39m.\u001b[39mio\u001b[39m.\u001b[39mread_point_cloud(sem_gt)\n\u001b[1;32m      <a href='vscode-notebook-cell:/home/cedric/unsup_3d_instances/point-to-pixel-mapping/metrics/metrics_usage.ipynb#W1sZmlsZQ%3D%3D?line=6'>7</a>\u001b[0m o3d\u001b[39m.\u001b[39mvisualization\u001b[39m.\u001b[39mdraw_geometries([pcd_sem])\n\u001b[1;32m      <a href='vscode-notebook-cell:/home/cedric/unsup_3d_instances/point-to-pixel-mapping/metrics/metrics_usage.ipynb#W1sZmlsZQ%3D%3D?line=8'>9</a>\u001b[0m pred_pcd \u001b[39m=\u001b[39m o3d\u001b[39m.\u001b[39mio\u001b[39m.\u001b[39mread_point_cloud(\u001b[39m'\u001b[39m\u001b[39mtest_data/\u001b[39m\u001b[39m'\u001b[39m \u001b[39m+\u001b[39m fn) \n",
      "\u001b[0;31mNameError\u001b[0m: name 'o3d' is not defined"
     ]
    }
   ],
   "source": [
    "\n",
    "fn = '000066.pcd'\n",
    "chunk_folder = 'pcd_preprocessed/output_chunks/'\n",
    "sem_gt = chunk_folder +'out_kitti_semantic/' + fn\n",
    "\n",
    "pcd_sem = o3d.io.read_point_cloud(sem_gt)\n",
    "\n",
    "o3d.visualization.draw_geometries([pcd_sem])\n",
    "\n",
    "pred_pcd = o3d.io.read_point_cloud('test_data/' + fn) \n",
    "#o3d.visualization.draw_geometries([pred_pcd])\n",
    "with np.load(chunk_folder + 'out_kitti_semantic/' + fn.split('.')[0] + '.npz') as f : \n",
    "\t\tlabels = f['labels']\n",
    "\n",
    "\n",
    "unique_colors, labels_ncuts = np.unique(np.asarray(pred_pcd.colors), axis=0, return_inverse=True)\n",
    "metrics_pred = Metrics(name=fn)\n",
    "metrics_pred.semantic_eval(pred_pcd,pcd_sem,labels)"
   ]
  }
 ],
 "metadata": {
  "kernelspec": {
   "display_name": "torch",
   "language": "python",
   "name": "python3"
  },
  "language_info": {
   "codemirror_mode": {
    "name": "ipython",
    "version": 3
   },
   "file_extension": ".py",
   "mimetype": "text/x-python",
   "name": "python",
   "nbconvert_exporter": "python",
   "pygments_lexer": "ipython3",
   "version": "3.9.16"
  }
 },
 "nbformat": 4,
 "nbformat_minor": 2
}
