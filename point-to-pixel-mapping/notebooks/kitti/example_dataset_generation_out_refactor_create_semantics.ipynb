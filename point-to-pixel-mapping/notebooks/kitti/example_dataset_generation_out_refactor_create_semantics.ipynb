{
 "cells": [
  {
   "cell_type": "code",
   "execution_count": 1,
   "metadata": {},
   "outputs": [
    {
     "name": "stdout",
     "output_type": "stream",
     "text": [
      "Jupyter environment detected. Enabling Open3D WebVisualizer.\n",
      "[Open3D INFO] WebRTC GUI backend enabled.\n",
      "[Open3D INFO] WebRTCWindowSystem: HTTP handshake server disabled.\n"
     ]
    }
   ],
   "source": [
    "\n",
    "import numpy as np\n",
    "import os\n",
    "import sys\n",
    "import cv2\n",
    "import matplotlib.pyplot as plt\n",
    "import open3d as o3d\n",
    "%matplotlib inline \n",
    "\n",
    "src_path = os.path.abspath(\"../..\")\n",
    "if src_path not in sys.path:\n",
    "    sys.path.append(src_path)\n",
    "%load_ext autoreload\n",
    "from dataset.kitti_odometry_dataset import KittiOdometryDataset, KittiOdometryDatasetConfig\n",
    "from dataset.filters.filter_list import FilterList\n",
    "from dataset.filters.kitti_gt_mo_filter import KittiGTMovingObjectFilter\n",
    "from dataset.filters.range_filter import RangeFilter\n",
    "from dataset.filters.apply_pose import ApplyPose\n",
    "\n",
    "import scipy\n",
    "from scipy.spatial.distance import cdist\n",
    "from ncuts_utils import ncuts_chunk,kDTree_1NN_feature_reprojection_colors, get_merge_pcds\n",
    "from dataset_utils import * \n",
    "from point_cloud_utils import get_pcd, transform_pcd, kDTree_1NN_feature_reprojection, remove_isolated_points, get_subpcd, get_statistical_inlier_indices, merge_chunks_unite_instances, merge_chunks_unite_instances2, remove_semantics, get_merge_pcds, merge_unite_gt\n",
    "from aggregate_pointcloud import aggregate_pointcloud\n",
    "from visualization_utils import generate_random_colors, color_pcd_by_labels,generate_random_colors_map\n",
    "from sam_label_distace import sam_label_distance\n",
    "from chunk_generation import subsample_positions, chunks_from_pointcloud, indices_per_patch, tarl_features_per_patch, image_based_features_per_patch, dinov2_mean, get_indices_feature_reprojection\n",
    "from metrics.metrics_class import Metrics\n",
    "import matplotlib.pyplot as plt \n",
    "import shutil\n",
    "from tqdm import tqdm "
   ]
  },
  {
   "cell_type": "markdown",
   "metadata": {},
   "source": [
    "Here we define the dataset depending on kitti sequence!"
   ]
  },
  {
   "cell_type": "code",
   "execution_count": 2,
   "metadata": {},
   "outputs": [],
   "source": [
    "DATASET_PATH = os.path.join('/media/cedric/Datasets2/semantic_kitti/')\n",
    "end_inds = {0:4541,1:1100,2:4661,3:800,4:271,5:2761,6:1101,7:1100,8:4071,9:1591,10:1201}\n",
    "SEQUENCE_NUM = 7\n",
    "old = False \n",
    "\n",
    "ind_start = 0\n",
    "ind_end = end_inds[SEQUENCE_NUM]\n",
    "minor_voxel_size = 0.05\n",
    "major_voxel_size = 0.35\n",
    "chunk_size = np.array([37.5, 37.5, 37.5]) #meters\n",
    "overlap = 3 #meters\n",
    "ground_segmentation_method = 'patchwork' \n",
    "NCUT_ground = False\n",
    "\n",
    "out_chunks = '../../pcd_preprocessed/output_chunks/'\n",
    "\n",
    "out_folder_ncuts = out_chunks + 'test_data' + str(SEQUENCE_NUM) + '/'\n",
    "if os.path.exists(out_folder_ncuts) == False:\n",
    "        os.makedirs(out_folder_ncuts)\n",
    "\n",
    "dataset = create_kitti_odometry_dataset(DATASET_PATH,SEQUENCE_NUM,ncuts_mode=True)\n",
    "\n",
    "out_folder = '../../pcd_preprocessed/'\n",
    "if os.path.exists(out_folder) == False : \n",
    "        os.makedirs(out_folder)\n"
   ]
  },
  {
   "cell_type": "markdown",
   "metadata": {},
   "source": [
    "Now we aggregate a large point cloud based on (ind_start, ind_end)\n",
    "## This cell can be ignored after first run as outputs are stored "
   ]
  },
  {
   "cell_type": "code",
   "execution_count": 3,
   "metadata": {},
   "outputs": [],
   "source": [
    "if os.path.exists(out_folder + 'all_poses_' + str(SEQUENCE_NUM) + '_' + str(0) + '.npz') == False:\n",
    "        process_and_save_point_clouds(dataset,ind_start,ind_end,minor_voxel_size=minor_voxel_size,\n",
    "                                major_voxel_size=major_voxel_size,icp=False,\n",
    "                                out_folder=out_folder,sequence_num=SEQUENCE_NUM,\n",
    "                                ground_segmentation_method=ground_segmentation_method)"
   ]
  },
  {
   "cell_type": "markdown",
   "metadata": {},
   "source": [
    "This cell can be ignored after first run as outputs are stored "
   ]
  },
  {
   "cell_type": "code",
   "execution_count": 4,
   "metadata": {},
   "outputs": [],
   "source": [
    "##load data if already stored \n",
    "\n",
    "if os.path.exists(f'{out_folder}pcd_ground_minor{SEQUENCE_NUM}_0.pcd') == False:\n",
    "        pcd_ground_minor, pcd_nonground_minor,\\\n",
    "                all_poses, T_pcd, first_position,kitti_labels = load_and_downsample_point_clouds(out_folder,SEQUENCE_NUM,minor_voxel_size,\\\n",
    "                                                                        ground_mode=ground_segmentation_method)\n",
    "        #o3d.visualization.draw_geometries([color_pcd_by_labels(pcd_nonground_minor,kitti_labels['seg_nonground'])])\n",
    "        o3d.io.write_point_cloud(f'{out_folder}pcd_ground_minor{SEQUENCE_NUM}_0.pcd', pcd_ground_minor, write_ascii=False, compressed=False, print_progress=False)\n",
    "        o3d.io.write_point_cloud(f'{out_folder}pcd_nonground_minor{SEQUENCE_NUM}_0.pcd', pcd_nonground_minor, write_ascii=False, compressed=False, print_progress=False)\n",
    "        np.savez(f'{out_folder}kitti_labels_preprocessed{SEQUENCE_NUM}_0.npz',\n",
    "                                                instance_nonground=kitti_labels['instance_nonground'],\n",
    "                                                instance_ground=kitti_labels['instance_ground'],\n",
    "                                                seg_ground = kitti_labels['seg_ground'],\n",
    "                                                seg_nonground=kitti_labels['seg_nonground']\n",
    "                                                )\n",
    "        #o3d.visualization.draw_geometries([pcd_nonground_minor])\n"
   ]
  },
  {
   "cell_type": "code",
   "execution_count": 5,
   "metadata": {},
   "outputs": [
    {
     "name": "stdout",
     "output_type": "stream",
     "text": [
      "PointCloud with 11580178 points.\n"
     ]
    }
   ],
   "source": [
    "pcd_ground_minor = o3d.io.read_point_cloud(f'{out_folder}pcd_ground_minor{SEQUENCE_NUM}_0.pcd')\n",
    "pcd_nonground_minor = o3d.io.read_point_cloud(f'{out_folder}pcd_nonground_minor{SEQUENCE_NUM}_0.pcd')\n",
    "print(pcd_ground_minor)\n",
    "kitti_labels_orig = {}\n",
    "with np.load(f'{out_folder}kitti_labels_preprocessed{SEQUENCE_NUM}_0.npz') as data :\n",
    "        kitti_labels_orig['instance_ground'] = data['instance_ground']\n",
    "        kitti_labels_orig['instance_nonground'] = data['instance_nonground']\n",
    "        kitti_labels_orig['seg_nonground'] = data['seg_nonground']\n",
    "        kitti_labels_orig['seg_ground'] = data['seg_ground']\n",
    "\n",
    "        \n",
    "\n",
    "with np.load(f'{out_folder}all_poses_{SEQUENCE_NUM}_0.npz') as data:\n",
    "        all_poses = data['all_poses']\n",
    "        T_pcd = data['T_pcd']\n",
    "        first_position = T_pcd[:3, 3]"
   ]
  },
  {
   "cell_type": "code",
   "execution_count": 6,
   "metadata": {},
   "outputs": [
    {
     "data": {
      "text/plain": [
       "\"\\npcd_new = o3d.geometry.PointCloud()\\npts_num = 1000000\\npcd_new.points = o3d.utility.Vector3dVector(np.asarray(pcd_nonground_minor.points)[:pts_num])\\n\\nmap_labelled = color_pcd_by_labels(pcd_new,                kitti_labels['panoptic_nonground'][:pts_num].reshape(-1,1))\\n\\no3d.visualization.draw_geometries([map_labelled])\\n#o3d.io.write_point_cloud('labelled_map07.pcd',map_labelled)\\n\""
      ]
     },
     "execution_count": 6,
     "metadata": {},
     "output_type": "execute_result"
    }
   ],
   "source": [
    "'''\n",
    "pcd_new = o3d.geometry.PointCloud()\n",
    "pts_num = 1000000\n",
    "pcd_new.points = o3d.utility.Vector3dVector(np.asarray(pcd_nonground_minor.points)[:pts_num])\n",
    "\n",
    "map_labelled = color_pcd_by_labels(pcd_new,\\\n",
    "                kitti_labels['panoptic_nonground'][:pts_num].reshape(-1,1))\n",
    "\n",
    "o3d.visualization.draw_geometries([map_labelled])\n",
    "#o3d.io.write_point_cloud('labelled_map07.pcd',map_labelled)\n",
    "'''"
   ]
  },
  {
   "cell_type": "markdown",
   "metadata": {},
   "source": [
    "Now we subsample the poses based on a voxel_size"
   ]
  },
  {
   "cell_type": "code",
   "execution_count": 7,
   "metadata": {},
   "outputs": [],
   "source": [
    "if os.path.exists(f'{out_folder}subsampled_data{str(SEQUENCE_NUM)}_0.npz') == False : \n",
    "\tprint(f'{out_folder}subsampled_data{str(SEQUENCE_NUM)}_0.npz')\n",
    "\tposes, positions, \\\n",
    "\tsampled_indices_local, sampled_indices_global = subsample_and_extract_positions(all_poses,ind_start=ind_start,sequence_num=SEQUENCE_NUM,out_folder=out_folder)\n",
    "\n"
   ]
  },
  {
   "cell_type": "code",
   "execution_count": 8,
   "metadata": {},
   "outputs": [],
   "source": [
    "with np.load(f'{out_folder}subsampled_data{SEQUENCE_NUM}_0.npz') as data:\n",
    "\tposes=data['poses']\n",
    "\tpositions=data['positions']\n",
    "\tsampled_indices_local = data['sampled_indices_local']\n",
    "\tsampled_indices_global=data['sampled_indices_global']"
   ]
  },
  {
   "cell_type": "markdown",
   "metadata": {},
   "source": [
    "Now we can split the point cloud into chunks based on a tbd chunk_size"
   ]
  },
  {
   "cell_type": "code",
   "execution_count": 9,
   "metadata": {},
   "outputs": [
    {
     "name": "stderr",
     "output_type": "stream",
     "text": [
      "100%|██████████| 681/681 [00:51<00:00, 13.26it/s]\n",
      "100%|██████████| 681/681 [00:45<00:00, 14.91it/s]\n"
     ]
    },
    {
     "name": "stdout",
     "output_type": "stream",
     "text": [
      "Downsampled from (217082, 3) to (2653, 3) points (non-ground)\n",
      "Downsampled from (176888, 3) to (2000, 3) points (ground)\n",
      "Downsampled from (163420, 3) to (2426, 3) points (non-ground)\n",
      "Downsampled from (103759, 3) to (1952, 3) points (ground)\n",
      "Downsampled from (134970, 3) to (1836, 3) points (non-ground)\n",
      "Downsampled from (102014, 3) to (1796, 3) points (ground)\n",
      "Downsampled from (152967, 3) to (2074, 3) points (non-ground)\n",
      "Downsampled from (98229, 3) to (1774, 3) points (ground)\n",
      "Downsampled from (66909, 3) to (997, 3) points (non-ground)\n",
      "Downsampled from (119443, 3) to (2041, 3) points (ground)\n",
      "Downsampled from (172800, 3) to (2711, 3) points (non-ground)\n",
      "Downsampled from (102693, 3) to (2278, 3) points (ground)\n",
      "Downsampled from (145103, 3) to (2172, 3) points (non-ground)\n",
      "Downsampled from (116571, 3) to (1944, 3) points (ground)\n",
      "Downsampled from (125594, 3) to (1528, 3) points (non-ground)\n",
      "Downsampled from (121923, 3) to (1796, 3) points (ground)\n",
      "Downsampled from (167560, 3) to (1814, 3) points (non-ground)\n",
      "Downsampled from (107965, 3) to (1851, 3) points (ground)\n",
      "Downsampled from (154002, 3) to (1850, 3) points (non-ground)\n",
      "Downsampled from (106850, 3) to (1733, 3) points (ground)\n",
      "Downsampled from (158311, 3) to (2157, 3) points (non-ground)\n",
      "Downsampled from (100020, 3) to (1625, 3) points (ground)\n",
      "Downsampled from (133687, 3) to (2119, 3) points (non-ground)\n",
      "Downsampled from (98759, 3) to (1744, 3) points (ground)\n",
      "Downsampled from (142417, 3) to (2315, 3) points (non-ground)\n",
      "Downsampled from (89468, 3) to (1550, 3) points (ground)\n",
      "Downsampled from (172113, 3) to (2618, 3) points (non-ground)\n",
      "Downsampled from (98140, 3) to (1988, 3) points (ground)\n",
      "Downsampled from (205961, 3) to (2922, 3) points (non-ground)\n",
      "Downsampled from (89886, 3) to (1603, 3) points (ground)\n",
      "Downsampled from (130783, 3) to (1869, 3) points (non-ground)\n",
      "Downsampled from (147664, 3) to (2181, 3) points (ground)\n",
      "Downsampled from (123091, 3) to (1693, 3) points (non-ground)\n",
      "Downsampled from (183235, 3) to (1943, 3) points (ground)\n",
      "Downsampled from (93107, 3) to (1461, 3) points (non-ground)\n",
      "Downsampled from (199954, 3) to (1972, 3) points (ground)\n",
      "Downsampled from (90616, 3) to (1331, 3) points (non-ground)\n",
      "Downsampled from (158504, 3) to (1762, 3) points (ground)\n",
      "Downsampled from (21835, 3) to (318, 3) points (non-ground)\n",
      "Downsampled from (157873, 3) to (1779, 3) points (ground)\n",
      "Downsampled from (37647, 3) to (730, 3) points (non-ground)\n",
      "Downsampled from (136754, 3) to (1691, 3) points (ground)\n",
      "Downsampled from (39106, 3) to (854, 3) points (non-ground)\n",
      "Downsampled from (126390, 3) to (1742, 3) points (ground)\n",
      "Downsampled from (59359, 3) to (934, 3) points (non-ground)\n",
      "Downsampled from (121706, 3) to (1977, 3) points (ground)\n",
      "Downsampled from (132613, 3) to (1672, 3) points (non-ground)\n",
      "Downsampled from (125162, 3) to (1973, 3) points (ground)\n",
      "Downsampled from (74963, 3) to (1497, 3) points (non-ground)\n",
      "Downsampled from (139762, 3) to (1925, 3) points (ground)\n",
      "Downsampled from (54435, 3) to (797, 3) points (non-ground)\n",
      "Downsampled from (126510, 3) to (1729, 3) points (ground)\n",
      "Downsampled from (49791, 3) to (860, 3) points (non-ground)\n",
      "Downsampled from (136234, 3) to (1838, 3) points (ground)\n",
      "Downsampled from (57065, 3) to (1038, 3) points (non-ground)\n",
      "Downsampled from (166916, 3) to (2106, 3) points (ground)\n",
      "Downsampled from (81283, 3) to (1368, 3) points (non-ground)\n",
      "Downsampled from (167011, 3) to (1966, 3) points (ground)\n",
      "Downsampled from (34244, 3) to (690, 3) points (non-ground)\n",
      "Downsampled from (170286, 3) to (1883, 3) points (ground)\n",
      "Downsampled from (42333, 3) to (617, 3) points (non-ground)\n",
      "Downsampled from (175625, 3) to (2262, 3) points (ground)\n",
      "Downsampled from (146764, 3) to (2033, 3) points (non-ground)\n",
      "Downsampled from (140260, 3) to (2264, 3) points (ground)\n",
      "Downsampled from (155995, 3) to (2281, 3) points (non-ground)\n",
      "Downsampled from (132480, 3) to (2082, 3) points (ground)\n",
      "Downsampled from (78930, 3) to (1138, 3) points (non-ground)\n",
      "Downsampled from (159107, 3) to (1901, 3) points (ground)\n",
      "Downsampled from (39209, 3) to (612, 3) points (non-ground)\n",
      "Downsampled from (151705, 3) to (1948, 3) points (ground)\n",
      "Downsampled from (111519, 3) to (1632, 3) points (non-ground)\n",
      "Downsampled from (122521, 3) to (1941, 3) points (ground)\n",
      "Downsampled from (97698, 3) to (1388, 3) points (non-ground)\n",
      "Downsampled from (93723, 3) to (1417, 3) points (ground)\n",
      "Downsampled from (82535, 3) to (1109, 3) points (non-ground)\n",
      "Downsampled from (91549, 3) to (1521, 3) points (ground)\n",
      "Downsampled from (63830, 3) to (1021, 3) points (non-ground)\n",
      "Downsampled from (96323, 3) to (1709, 3) points (ground)\n",
      "Downsampled from (117261, 3) to (1897, 3) points (non-ground)\n",
      "Downsampled from (79605, 3) to (1654, 3) points (ground)\n",
      "Downsampled from (119295, 3) to (1996, 3) points (non-ground)\n",
      "Downsampled from (80510, 3) to (1573, 3) points (ground)\n",
      "Downsampled from (112631, 3) to (1918, 3) points (non-ground)\n",
      "Downsampled from (88628, 3) to (1782, 3) points (ground)\n",
      "Downsampled from (159048, 3) to (2421, 3) points (non-ground)\n",
      "Downsampled from (130368, 3) to (2576, 3) points (ground)\n",
      "Downsampled from (214016, 3) to (2275, 3) points (non-ground)\n",
      "Downsampled from (238588, 3) to (3047, 3) points (ground)\n",
      "Downsampled from (177986, 3) to (1602, 3) points (non-ground)\n",
      "Downsampled from (325679, 3) to (3037, 3) points (ground)\n",
      "Downsampled from (34822, 3) to (517, 3) points (non-ground)\n",
      "Downsampled from (342981, 3) to (3369, 3) points (ground)\n",
      "Downsampled from (136546, 3) to (1732, 3) points (non-ground)\n",
      "Downsampled from (205334, 3) to (2873, 3) points (ground)\n",
      "Downsampled from (79047, 3) to (1307, 3) points (non-ground)\n",
      "Downsampled from (119689, 3) to (2273, 3) points (ground)\n",
      "Downsampled from (78309, 3) to (1438, 3) points (non-ground)\n",
      "Downsampled from (90984, 3) to (1812, 3) points (ground)\n",
      "Downsampled from (69641, 3) to (1361, 3) points (non-ground)\n",
      "Downsampled from (89636, 3) to (1721, 3) points (ground)\n",
      "Downsampled from (54920, 3) to (1016, 3) points (non-ground)\n",
      "Downsampled from (94157, 3) to (1762, 3) points (ground)\n",
      "Downsampled from (55205, 3) to (1010, 3) points (non-ground)\n",
      "Downsampled from (117918, 3) to (1806, 3) points (ground)\n",
      "Downsampled from (37374, 3) to (770, 3) points (non-ground)\n",
      "Downsampled from (124856, 3) to (1858, 3) points (ground)\n",
      "Downsampled from (74723, 3) to (1351, 3) points (non-ground)\n",
      "Downsampled from (110811, 3) to (1834, 3) points (ground)\n",
      "Downsampled from (69029, 3) to (1282, 3) points (non-ground)\n",
      "Downsampled from (97058, 3) to (1609, 3) points (ground)\n",
      "Downsampled from (75060, 3) to (1380, 3) points (non-ground)\n",
      "Downsampled from (100017, 3) to (1833, 3) points (ground)\n",
      "Downsampled from (63144, 3) to (1177, 3) points (non-ground)\n",
      "Downsampled from (108175, 3) to (1817, 3) points (ground)\n",
      "Downsampled from (62554, 3) to (1185, 3) points (non-ground)\n",
      "Downsampled from (146670, 3) to (2045, 3) points (ground)\n",
      "Downsampled from (53935, 3) to (1069, 3) points (non-ground)\n",
      "Downsampled from (200364, 3) to (2197, 3) points (ground)\n",
      "Downsampled from (31859, 3) to (615, 3) points (non-ground)\n",
      "Downsampled from (197385, 3) to (1863, 3) points (ground)\n",
      "Downsampled from (48299, 3) to (1133, 3) points (non-ground)\n",
      "Downsampled from (199570, 3) to (1789, 3) points (ground)\n",
      "Downsampled from (157607, 3) to (2330, 3) points (non-ground)\n",
      "Downsampled from (147706, 3) to (2273, 3) points (ground)\n",
      "Downsampled from (111644, 3) to (1711, 3) points (non-ground)\n",
      "Downsampled from (147985, 3) to (2275, 3) points (ground)\n",
      "Downsampled from (135426, 3) to (1561, 3) points (non-ground)\n",
      "Downsampled from (172269, 3) to (2314, 3) points (ground)\n",
      "Downsampled from (225365, 3) to (2239, 3) points (non-ground)\n",
      "Downsampled from (155433, 3) to (2149, 3) points (ground)\n",
      "Downsampled from (211086, 3) to (2368, 3) points (non-ground)\n",
      "Downsampled from (160414, 3) to (2075, 3) points (ground)\n",
      "Downsampled from (294895, 3) to (3063, 3) points (non-ground)\n",
      "Downsampled from (190064, 3) to (2156, 3) points (ground)\n",
      "Downsampled from (181660, 3) to (1954, 3) points (non-ground)\n",
      "Downsampled from (245542, 3) to (2119, 3) points (ground)\n",
      "Downsampled from (81673, 3) to (1319, 3) points (non-ground)\n",
      "Downsampled from (220796, 3) to (1908, 3) points (ground)\n"
     ]
    }
   ],
   "source": [
    "pcd_nonground_chunks, pcd_ground_chunks,\\\n",
    "pcd_nonground_chunks_major_downsampling, pcd_ground_chunks_major_downsampling, \\\n",
    "indices,indices_ground, center_positions, \\\n",
    "center_ids, chunk_bounds, kitti_labels, obbs = chunk_and_downsample_point_clouds(dataset,pcd_nonground_minor, pcd_ground_minor, T_pcd, positions, \n",
    "                                                            first_position, sampled_indices_global, chunk_size=chunk_size, \n",
    "                                                            overlap=overlap, major_voxel_size=major_voxel_size,kitti_labels=kitti_labels_orig)"
   ]
  },
  {
   "cell_type": "code",
   "execution_count": 10,
   "metadata": {},
   "outputs": [],
   "source": [
    "def color_pcd_by_labels(pcd, labels,colors=None,gt_labels=None,semantics=False):\n",
    "    \n",
    "    if colors == None : \n",
    "        colors = generate_random_colors(2000)\n",
    "    pcd_colored = copy.deepcopy(pcd)\n",
    "    pcd_colors = np.zeros(np.asarray(pcd.points).shape)\n",
    "    if gt_labels is None :\n",
    "    \tunique_labels = list(np.unique(labels)) \n",
    "    else: \n",
    "        unique_labels = list(np.unique(gt_labels))\n",
    "    \n",
    "    background_color = np.array([0,0,0])\n",
    "    #for i in range(len(pcd_colored.points)):\n",
    "    for i in unique_labels:\n",
    "        if i == -1 : \n",
    "            continue\n",
    "        idcs = np.where(labels == i)\n",
    "        idcs = idcs[0]\n",
    "        if i == 0 and semantics == False : \n",
    "            pcd_colors[idcs] = background_color\n",
    "        else :\n",
    "            pcd_colors[idcs] = np.array(colors[unique_labels.index(i)])\n",
    "    \n",
    "    pcd_colored.colors = o3d.utility.Vector3dVector(pcd_colors)\n",
    "    return pcd_colored"
   ]
  },
  {
   "cell_type": "code",
   "execution_count": 11,
   "metadata": {},
   "outputs": [],
   "source": [
    "color_dict_normalized = {\n",
    "    0: [0.0, 0.0, 0.0],\n",
    "    1: [0.0, 0.0, 1.0],\n",
    "    10: [0.9607843137254902, 0.5882352941176471, 0.39215686274509803],\n",
    "    11: [0.9607843137254902, 0.9019607843137255, 0.39215686274509803],\n",
    "    13: [0.9803921568627451, 0.3137254901960784, 0.39215686274509803],\n",
    "    15: [0.5882352941176471, 0.23529411764705882, 0.11764705882352941],\n",
    "    16: [1.0, 0.0, 0.0],\n",
    "    18: [0.7058823529411765, 0.11764705882352941, 0.3137254901960784],\n",
    "    20: [1.0, 0.0, 0.0],\n",
    "    30: [0.11764705882352941, 0.11764705882352941, 1.0],\n",
    "    31: [0.7843137254901961, 0.1568627450980392, 1.0],\n",
    "    32: [0.35294117647058826, 0.11764705882352941, 0.5882352941176471],\n",
    "    40: [1.0, 0.0, 1.0],\n",
    "    44: [1.0, 0.5882352941176471, 1.0],\n",
    "    48: [0.29411764705882354, 0.0, 0.29411764705882354],\n",
    "    49: [0.29411764705882354, 0.0, 0.6862745098039216],\n",
    "    50: [0.0, 0.7843137254901961, 1.0],\n",
    "    51: [0.19607843137254902, 0.47058823529411764, 1.0],\n",
    "    52: [0.0, 0.5882352941176471, 1.0],\n",
    "    60: [0.6666666666666666, 1.0, 0.5882352941176471],\n",
    "    70: [0.0, 0.6862745098039216, 0.0],\n",
    "    71: [0.0, 0.23529411764705882, 0.5294117647058824],\n",
    "    72: [0.3137254901960784, 0.9411764705882353, 0.5882352941176471],\n",
    "    80: [0.5882352941176471, 0.9411764705882353, 1.0],\n",
    "    81: [0.0, 0.0, 1.0],\n",
    "    99: [1.0, 1.0, 0.19607843137254902],\n",
    "    252: [0.9607843137254902, 0.5882352941176471, 0.39215686274509803],\n",
    "    256: [1.0, 0.0, 0.0],\n",
    "    253: [0.7843137254901961, 0.1568627450980392, 1.0],\n",
    "    254: [0.11764705882352941, 0.11764705882352941, 1.0],\n",
    "    255: [0.35294117647058826, 0.11764705882352941, 0.5882352941176471],\n",
    "    257: [0.9803921568627451, 0.3137254901960784, 0.39215686274509803],\n",
    "    258: [0.7058823529411765, 0.11764705882352941, 0.3137254901960784],\n",
    "    259: [1.0, 0.0, 0.0]\n",
    "}\n",
    "\n",
    "reverse_color_dict = {tuple(v): k for k, v in color_dict_normalized.items()}\n",
    "\n",
    "\n",
    "def color_pcd_kitti(pcd, labels):\n",
    "    unique_labels = np.unique(labels)\n",
    "    pcd_colors = np.zeros_like(np.asarray(pcd.points))\n",
    "    for i in unique_labels:\n",
    "        idcs = np.where(labels == i)\n",
    "        idcs = idcs[0]\n",
    "        pcd_colors[idcs] = np.array(color_dict_normalized[int(i)])\n",
    "\n",
    "    pcd.colors = o3d.utility.Vector3dVector(pcd_colors)\n",
    "    return pcd\n"
   ]
  },
  {
   "cell_type": "code",
   "execution_count": 12,
   "metadata": {},
   "outputs": [
    {
     "name": "stdout",
     "output_type": "stream",
     "text": [
      "number of instances [  0   1   2   3   4   5   6   7   8   9  10  11  12  13  14  15  16  17\n",
      "  18  19  20  21  22  23  24  25  26  27  28  29  30  31  32  33  34  35\n",
      "  36  37  38  39  40  41  42  43  44  45  46  47  48  49  50  51  52  53\n",
      "  54  55  56  57  58  59  60  61  62  63  64  65  66  67  68  69  70  71\n",
      "  72  73  74  75  76  77  78  79  80  81  82  83  84  85  86  87  88  89\n",
      "  90  91  92  93  94  95  96  97  98  99 100 101 102 103 104 105 106 107\n",
      " 108 109 110 111 112 113 114 115 116 117 118 119 120 121 122 123 124 125\n",
      " 126 127 128 129 130 131]\n",
      "total sequence number 69\n"
     ]
    },
    {
     "name": "stderr",
     "output_type": "stream",
     "text": [
      "  1%|▏         | 1/69 [00:02<02:23,  2.11s/it]"
     ]
    },
    {
     "name": "stdout",
     "output_type": "stream",
     "text": [
      "write gt ../../pcd_preprocessed/output_chunks/out_kitti_instance7/000046.pcd\n"
     ]
    },
    {
     "name": "stderr",
     "output_type": "stream",
     "text": [
      "  3%|▎         | 2/69 [00:04<02:14,  2.00s/it]"
     ]
    },
    {
     "name": "stdout",
     "output_type": "stream",
     "text": [
      "write gt ../../pcd_preprocessed/output_chunks/out_kitti_instance7/000061.pcd\n"
     ]
    },
    {
     "name": "stderr",
     "output_type": "stream",
     "text": [
      "  4%|▍         | 3/69 [00:06<02:13,  2.02s/it]"
     ]
    },
    {
     "name": "stdout",
     "output_type": "stream",
     "text": [
      "write gt ../../pcd_preprocessed/output_chunks/out_kitti_instance7/000073.pcd\n"
     ]
    },
    {
     "name": "stderr",
     "output_type": "stream",
     "text": [
      "  6%|▌         | 4/69 [00:08<02:10,  2.01s/it]"
     ]
    },
    {
     "name": "stdout",
     "output_type": "stream",
     "text": [
      "write gt ../../pcd_preprocessed/output_chunks/out_kitti_instance7/000085.pcd\n"
     ]
    },
    {
     "name": "stderr",
     "output_type": "stream",
     "text": [
      "  7%|▋         | 5/69 [00:09<02:05,  1.96s/it]"
     ]
    },
    {
     "name": "stdout",
     "output_type": "stream",
     "text": [
      "write gt ../../pcd_preprocessed/output_chunks/out_kitti_instance7/000097.pcd\n"
     ]
    },
    {
     "name": "stderr",
     "output_type": "stream",
     "text": [
      "  9%|▊         | 6/69 [00:12<02:09,  2.05s/it]"
     ]
    },
    {
     "name": "stdout",
     "output_type": "stream",
     "text": [
      "write gt ../../pcd_preprocessed/output_chunks/out_kitti_instance7/000110.pcd\n"
     ]
    },
    {
     "name": "stderr",
     "output_type": "stream",
     "text": [
      " 10%|█         | 7/69 [00:14<02:18,  2.23s/it]"
     ]
    },
    {
     "name": "stdout",
     "output_type": "stream",
     "text": [
      "write gt ../../pcd_preprocessed/output_chunks/out_kitti_instance7/000127.pcd\n"
     ]
    },
    {
     "name": "stderr",
     "output_type": "stream",
     "text": [
      " 12%|█▏        | 8/69 [00:17<02:16,  2.24s/it]"
     ]
    },
    {
     "name": "stdout",
     "output_type": "stream",
     "text": [
      "write gt ../../pcd_preprocessed/output_chunks/out_kitti_instance7/000149.pcd\n"
     ]
    },
    {
     "name": "stderr",
     "output_type": "stream",
     "text": [
      " 13%|█▎        | 9/69 [00:19<02:09,  2.15s/it]"
     ]
    },
    {
     "name": "stdout",
     "output_type": "stream",
     "text": [
      "write gt ../../pcd_preprocessed/output_chunks/out_kitti_instance7/000163.pcd\n"
     ]
    },
    {
     "name": "stderr",
     "output_type": "stream",
     "text": [
      " 14%|█▍        | 10/69 [00:20<02:03,  2.09s/it]"
     ]
    },
    {
     "name": "stdout",
     "output_type": "stream",
     "text": [
      "write gt ../../pcd_preprocessed/output_chunks/out_kitti_instance7/000176.pcd\n"
     ]
    },
    {
     "name": "stderr",
     "output_type": "stream",
     "text": [
      " 16%|█▌        | 11/69 [00:22<01:57,  2.02s/it]"
     ]
    },
    {
     "name": "stdout",
     "output_type": "stream",
     "text": [
      "write gt ../../pcd_preprocessed/output_chunks/out_kitti_instance7/000189.pcd\n"
     ]
    },
    {
     "name": "stderr",
     "output_type": "stream",
     "text": [
      " 17%|█▋        | 12/69 [00:24<01:54,  2.01s/it]"
     ]
    },
    {
     "name": "stdout",
     "output_type": "stream",
     "text": [
      "write gt ../../pcd_preprocessed/output_chunks/out_kitti_instance7/000201.pcd\n"
     ]
    },
    {
     "name": "stderr",
     "output_type": "stream",
     "text": [
      " 19%|█▉        | 13/69 [00:26<01:53,  2.03s/it]"
     ]
    },
    {
     "name": "stdout",
     "output_type": "stream",
     "text": [
      "write gt ../../pcd_preprocessed/output_chunks/out_kitti_instance7/000212.pcd\n"
     ]
    },
    {
     "name": "stderr",
     "output_type": "stream",
     "text": [
      " 20%|██        | 14/69 [00:28<01:51,  2.03s/it]"
     ]
    },
    {
     "name": "stdout",
     "output_type": "stream",
     "text": [
      "write gt ../../pcd_preprocessed/output_chunks/out_kitti_instance7/000225.pcd\n"
     ]
    },
    {
     "name": "stderr",
     "output_type": "stream",
     "text": [
      " 22%|██▏       | 15/69 [00:31<01:52,  2.08s/it]"
     ]
    },
    {
     "name": "stdout",
     "output_type": "stream",
     "text": [
      "write gt ../../pcd_preprocessed/output_chunks/out_kitti_instance7/000238.pcd\n"
     ]
    },
    {
     "name": "stderr",
     "output_type": "stream",
     "text": [
      " 23%|██▎       | 16/69 [00:33<01:53,  2.15s/it]"
     ]
    },
    {
     "name": "stdout",
     "output_type": "stream",
     "text": [
      "write gt ../../pcd_preprocessed/output_chunks/out_kitti_instance7/000252.pcd\n"
     ]
    },
    {
     "name": "stderr",
     "output_type": "stream",
     "text": [
      " 25%|██▍       | 17/69 [00:35<01:53,  2.19s/it]"
     ]
    },
    {
     "name": "stdout",
     "output_type": "stream",
     "text": [
      "write gt ../../pcd_preprocessed/output_chunks/out_kitti_instance7/000265.pcd\n"
     ]
    },
    {
     "name": "stderr",
     "output_type": "stream",
     "text": [
      " 26%|██▌       | 18/69 [00:37<01:48,  2.14s/it]"
     ]
    },
    {
     "name": "stdout",
     "output_type": "stream",
     "text": [
      "write gt ../../pcd_preprocessed/output_chunks/out_kitti_instance7/000278.pcd\n"
     ]
    },
    {
     "name": "stderr",
     "output_type": "stream",
     "text": [
      " 28%|██▊       | 19/69 [00:39<01:43,  2.07s/it]"
     ]
    },
    {
     "name": "stdout",
     "output_type": "stream",
     "text": [
      "write gt ../../pcd_preprocessed/output_chunks/out_kitti_instance7/000293.pcd\n"
     ]
    },
    {
     "name": "stderr",
     "output_type": "stream",
     "text": [
      " 29%|██▉       | 20/69 [00:41<01:39,  2.02s/it]"
     ]
    },
    {
     "name": "stdout",
     "output_type": "stream",
     "text": [
      "write gt ../../pcd_preprocessed/output_chunks/out_kitti_instance7/000328.pcd\n"
     ]
    },
    {
     "name": "stderr",
     "output_type": "stream",
     "text": [
      " 30%|███       | 21/69 [00:43<01:38,  2.06s/it]"
     ]
    },
    {
     "name": "stdout",
     "output_type": "stream",
     "text": [
      "write gt ../../pcd_preprocessed/output_chunks/out_kitti_instance7/000349.pcd\n"
     ]
    },
    {
     "name": "stderr",
     "output_type": "stream",
     "text": [
      " 32%|███▏      | 22/69 [00:45<01:40,  2.14s/it]"
     ]
    },
    {
     "name": "stdout",
     "output_type": "stream",
     "text": [
      "write gt ../../pcd_preprocessed/output_chunks/out_kitti_instance7/000362.pcd\n"
     ]
    },
    {
     "name": "stderr",
     "output_type": "stream",
     "text": [
      " 33%|███▎      | 23/69 [00:48<01:38,  2.15s/it]"
     ]
    },
    {
     "name": "stdout",
     "output_type": "stream",
     "text": [
      "write gt ../../pcd_preprocessed/output_chunks/out_kitti_instance7/000373.pcd\n"
     ]
    },
    {
     "name": "stderr",
     "output_type": "stream",
     "text": [
      " 35%|███▍      | 24/69 [00:50<01:36,  2.14s/it]"
     ]
    },
    {
     "name": "stdout",
     "output_type": "stream",
     "text": [
      "write gt ../../pcd_preprocessed/output_chunks/out_kitti_instance7/000383.pcd\n"
     ]
    },
    {
     "name": "stderr",
     "output_type": "stream",
     "text": [
      " 36%|███▌      | 25/69 [00:52<01:34,  2.16s/it]"
     ]
    },
    {
     "name": "stdout",
     "output_type": "stream",
     "text": [
      "write gt ../../pcd_preprocessed/output_chunks/out_kitti_instance7/000393.pcd\n"
     ]
    },
    {
     "name": "stderr",
     "output_type": "stream",
     "text": [
      " 38%|███▊      | 26/69 [00:54<01:29,  2.08s/it]"
     ]
    },
    {
     "name": "stdout",
     "output_type": "stream",
     "text": [
      "write gt ../../pcd_preprocessed/output_chunks/out_kitti_instance7/000403.pcd\n"
     ]
    },
    {
     "name": "stderr",
     "output_type": "stream",
     "text": [
      " 39%|███▉      | 27/69 [00:56<01:24,  2.01s/it]"
     ]
    },
    {
     "name": "stdout",
     "output_type": "stream",
     "text": [
      "write gt ../../pcd_preprocessed/output_chunks/out_kitti_instance7/000413.pcd\n"
     ]
    },
    {
     "name": "stderr",
     "output_type": "stream",
     "text": [
      " 41%|████      | 28/69 [00:58<01:23,  2.03s/it]"
     ]
    },
    {
     "name": "stdout",
     "output_type": "stream",
     "text": [
      "write gt ../../pcd_preprocessed/output_chunks/out_kitti_instance7/000424.pcd\n"
     ]
    },
    {
     "name": "stderr",
     "output_type": "stream",
     "text": [
      " 42%|████▏     | 29/69 [01:00<01:24,  2.11s/it]"
     ]
    },
    {
     "name": "stdout",
     "output_type": "stream",
     "text": [
      "write gt ../../pcd_preprocessed/output_chunks/out_kitti_instance7/000436.pcd\n"
     ]
    },
    {
     "name": "stderr",
     "output_type": "stream",
     "text": [
      " 43%|████▎     | 30/69 [01:03<01:25,  2.20s/it]"
     ]
    },
    {
     "name": "stdout",
     "output_type": "stream",
     "text": [
      "write gt ../../pcd_preprocessed/output_chunks/out_kitti_instance7/000450.pcd\n"
     ]
    },
    {
     "name": "stderr",
     "output_type": "stream",
     "text": [
      " 45%|████▍     | 31/69 [01:05<01:26,  2.28s/it]"
     ]
    },
    {
     "name": "stdout",
     "output_type": "stream",
     "text": [
      "write gt ../../pcd_preprocessed/output_chunks/out_kitti_instance7/000469.pcd\n"
     ]
    },
    {
     "name": "stderr",
     "output_type": "stream",
     "text": [
      " 46%|████▋     | 32/69 [01:07<01:26,  2.34s/it]"
     ]
    },
    {
     "name": "stdout",
     "output_type": "stream",
     "text": [
      "write gt ../../pcd_preprocessed/output_chunks/out_kitti_instance7/000491.pcd\n"
     ]
    },
    {
     "name": "stderr",
     "output_type": "stream",
     "text": [
      " 48%|████▊     | 33/69 [01:10<01:22,  2.28s/it]"
     ]
    },
    {
     "name": "stdout",
     "output_type": "stream",
     "text": [
      "write gt ../../pcd_preprocessed/output_chunks/out_kitti_instance7/000506.pcd\n"
     ]
    },
    {
     "name": "stderr",
     "output_type": "stream",
     "text": [
      " 49%|████▉     | 34/69 [01:12<01:17,  2.22s/it]"
     ]
    },
    {
     "name": "stdout",
     "output_type": "stream",
     "text": [
      "write gt ../../pcd_preprocessed/output_chunks/out_kitti_instance7/000517.pcd\n"
     ]
    },
    {
     "name": "stderr",
     "output_type": "stream",
     "text": [
      " 51%|█████     | 35/69 [01:14<01:14,  2.19s/it]"
     ]
    },
    {
     "name": "stdout",
     "output_type": "stream",
     "text": [
      "write gt ../../pcd_preprocessed/output_chunks/out_kitti_instance7/000528.pcd\n"
     ]
    },
    {
     "name": "stderr",
     "output_type": "stream",
     "text": [
      " 52%|█████▏    | 36/69 [01:16<01:10,  2.15s/it]"
     ]
    },
    {
     "name": "stdout",
     "output_type": "stream",
     "text": [
      "write gt ../../pcd_preprocessed/output_chunks/out_kitti_instance7/000539.pcd\n"
     ]
    },
    {
     "name": "stderr",
     "output_type": "stream",
     "text": [
      " 54%|█████▎    | 37/69 [01:18<01:09,  2.18s/it]"
     ]
    },
    {
     "name": "stdout",
     "output_type": "stream",
     "text": [
      "write gt ../../pcd_preprocessed/output_chunks/out_kitti_instance7/000551.pcd\n"
     ]
    },
    {
     "name": "stderr",
     "output_type": "stream",
     "text": [
      " 55%|█████▌    | 38/69 [01:20<01:08,  2.19s/it]"
     ]
    },
    {
     "name": "stdout",
     "output_type": "stream",
     "text": [
      "write gt ../../pcd_preprocessed/output_chunks/out_kitti_instance7/000562.pcd\n"
     ]
    },
    {
     "name": "stderr",
     "output_type": "stream",
     "text": [
      " 57%|█████▋    | 39/69 [01:23<01:07,  2.24s/it]"
     ]
    },
    {
     "name": "stdout",
     "output_type": "stream",
     "text": [
      "write gt ../../pcd_preprocessed/output_chunks/out_kitti_instance7/000572.pcd\n"
     ]
    },
    {
     "name": "stderr",
     "output_type": "stream",
     "text": [
      " 58%|█████▊    | 40/69 [01:25<01:04,  2.22s/it]"
     ]
    },
    {
     "name": "stdout",
     "output_type": "stream",
     "text": [
      "write gt ../../pcd_preprocessed/output_chunks/out_kitti_instance7/000581.pcd\n"
     ]
    },
    {
     "name": "stderr",
     "output_type": "stream",
     "text": [
      " 59%|█████▉    | 41/69 [01:27<01:00,  2.15s/it]"
     ]
    },
    {
     "name": "stdout",
     "output_type": "stream",
     "text": [
      "write gt ../../pcd_preprocessed/output_chunks/out_kitti_instance7/000591.pcd\n"
     ]
    },
    {
     "name": "stderr",
     "output_type": "stream",
     "text": [
      " 61%|██████    | 42/69 [01:29<00:58,  2.17s/it]"
     ]
    },
    {
     "name": "stdout",
     "output_type": "stream",
     "text": [
      "write gt ../../pcd_preprocessed/output_chunks/out_kitti_instance7/000601.pcd\n"
     ]
    },
    {
     "name": "stderr",
     "output_type": "stream",
     "text": [
      " 62%|██████▏   | 43/69 [01:31<00:57,  2.20s/it]"
     ]
    },
    {
     "name": "stdout",
     "output_type": "stream",
     "text": [
      "write gt ../../pcd_preprocessed/output_chunks/out_kitti_instance7/000611.pcd\n"
     ]
    },
    {
     "name": "stderr",
     "output_type": "stream",
     "text": [
      " 64%|██████▍   | 44/69 [01:34<00:54,  2.20s/it]"
     ]
    },
    {
     "name": "stdout",
     "output_type": "stream",
     "text": [
      "write gt ../../pcd_preprocessed/output_chunks/out_kitti_instance7/000622.pcd\n"
     ]
    },
    {
     "name": "stderr",
     "output_type": "stream",
     "text": [
      " 65%|██████▌   | 45/69 [01:36<00:53,  2.24s/it]"
     ]
    },
    {
     "name": "stdout",
     "output_type": "stream",
     "text": [
      "write gt ../../pcd_preprocessed/output_chunks/out_kitti_instance7/000640.pcd\n"
     ]
    },
    {
     "name": "stderr",
     "output_type": "stream",
     "text": [
      " 67%|██████▋   | 46/69 [01:39<00:54,  2.36s/it]"
     ]
    },
    {
     "name": "stdout",
     "output_type": "stream",
     "text": [
      "write gt ../../pcd_preprocessed/output_chunks/out_kitti_instance7/000755.pcd\n"
     ]
    },
    {
     "name": "stderr",
     "output_type": "stream",
     "text": [
      " 68%|██████▊   | 47/69 [01:41<00:51,  2.35s/it]"
     ]
    },
    {
     "name": "stdout",
     "output_type": "stream",
     "text": [
      "write gt ../../pcd_preprocessed/output_chunks/out_kitti_instance7/000769.pcd\n"
     ]
    },
    {
     "name": "stderr",
     "output_type": "stream",
     "text": [
      " 70%|██████▉   | 48/69 [01:43<00:49,  2.34s/it]"
     ]
    },
    {
     "name": "stdout",
     "output_type": "stream",
     "text": [
      "write gt ../../pcd_preprocessed/output_chunks/out_kitti_instance7/000779.pcd\n"
     ]
    },
    {
     "name": "stderr",
     "output_type": "stream",
     "text": [
      " 71%|███████   | 49/69 [01:45<00:45,  2.28s/it]"
     ]
    },
    {
     "name": "stdout",
     "output_type": "stream",
     "text": [
      "write gt ../../pcd_preprocessed/output_chunks/out_kitti_instance7/000788.pcd\n"
     ]
    },
    {
     "name": "stderr",
     "output_type": "stream",
     "text": [
      " 72%|███████▏  | 50/69 [01:47<00:41,  2.20s/it]"
     ]
    },
    {
     "name": "stdout",
     "output_type": "stream",
     "text": [
      "write gt ../../pcd_preprocessed/output_chunks/out_kitti_instance7/000796.pcd\n"
     ]
    },
    {
     "name": "stderr",
     "output_type": "stream",
     "text": [
      " 74%|███████▍  | 51/69 [01:49<00:39,  2.17s/it]"
     ]
    },
    {
     "name": "stdout",
     "output_type": "stream",
     "text": [
      "write gt ../../pcd_preprocessed/output_chunks/out_kitti_instance7/000805.pcd\n"
     ]
    },
    {
     "name": "stderr",
     "output_type": "stream",
     "text": [
      " 75%|███████▌  | 52/69 [01:51<00:35,  2.10s/it]"
     ]
    },
    {
     "name": "stdout",
     "output_type": "stream",
     "text": [
      "write gt ../../pcd_preprocessed/output_chunks/out_kitti_instance7/000814.pcd\n"
     ]
    },
    {
     "name": "stderr",
     "output_type": "stream",
     "text": [
      " 77%|███████▋  | 53/69 [01:53<00:32,  2.06s/it]"
     ]
    },
    {
     "name": "stdout",
     "output_type": "stream",
     "text": [
      "write gt ../../pcd_preprocessed/output_chunks/out_kitti_instance7/000823.pcd\n"
     ]
    },
    {
     "name": "stderr",
     "output_type": "stream",
     "text": [
      " 78%|███████▊  | 54/69 [01:55<00:30,  2.02s/it]"
     ]
    },
    {
     "name": "stdout",
     "output_type": "stream",
     "text": [
      "write gt ../../pcd_preprocessed/output_chunks/out_kitti_instance7/000832.pcd\n"
     ]
    },
    {
     "name": "stderr",
     "output_type": "stream",
     "text": [
      " 80%|███████▉  | 55/69 [01:57<00:28,  2.04s/it]"
     ]
    },
    {
     "name": "stdout",
     "output_type": "stream",
     "text": [
      "write gt ../../pcd_preprocessed/output_chunks/out_kitti_instance7/000841.pcd\n"
     ]
    },
    {
     "name": "stderr",
     "output_type": "stream",
     "text": [
      " 81%|████████  | 56/69 [01:59<00:26,  2.05s/it]"
     ]
    },
    {
     "name": "stdout",
     "output_type": "stream",
     "text": [
      "write gt ../../pcd_preprocessed/output_chunks/out_kitti_instance7/000850.pcd\n"
     ]
    },
    {
     "name": "stderr",
     "output_type": "stream",
     "text": [
      " 83%|████████▎ | 57/69 [02:02<00:25,  2.08s/it]"
     ]
    },
    {
     "name": "stdout",
     "output_type": "stream",
     "text": [
      "write gt ../../pcd_preprocessed/output_chunks/out_kitti_instance7/000860.pcd\n"
     ]
    },
    {
     "name": "stderr",
     "output_type": "stream",
     "text": [
      " 84%|████████▍ | 58/69 [02:04<00:23,  2.16s/it]"
     ]
    },
    {
     "name": "stdout",
     "output_type": "stream",
     "text": [
      "write gt ../../pcd_preprocessed/output_chunks/out_kitti_instance7/000870.pcd\n"
     ]
    },
    {
     "name": "stderr",
     "output_type": "stream",
     "text": [
      " 86%|████████▌ | 59/69 [02:06<00:22,  2.26s/it]"
     ]
    },
    {
     "name": "stdout",
     "output_type": "stream",
     "text": [
      "write gt ../../pcd_preprocessed/output_chunks/out_kitti_instance7/000881.pcd\n"
     ]
    },
    {
     "name": "stderr",
     "output_type": "stream",
     "text": [
      " 87%|████████▋ | 60/69 [02:09<00:19,  2.22s/it]"
     ]
    },
    {
     "name": "stdout",
     "output_type": "stream",
     "text": [
      "write gt ../../pcd_preprocessed/output_chunks/out_kitti_instance7/000896.pcd\n"
     ]
    },
    {
     "name": "stderr",
     "output_type": "stream",
     "text": [
      " 88%|████████▊ | 61/69 [02:11<00:17,  2.21s/it]"
     ]
    },
    {
     "name": "stdout",
     "output_type": "stream",
     "text": [
      "write gt ../../pcd_preprocessed/output_chunks/out_kitti_instance7/000917.pcd\n"
     ]
    },
    {
     "name": "stderr",
     "output_type": "stream",
     "text": [
      " 90%|████████▉ | 62/69 [02:13<00:14,  2.12s/it]"
     ]
    },
    {
     "name": "stdout",
     "output_type": "stream",
     "text": [
      "write gt ../../pcd_preprocessed/output_chunks/out_kitti_instance7/000934.pcd\n"
     ]
    },
    {
     "name": "stderr",
     "output_type": "stream",
     "text": [
      " 91%|█████████▏| 63/69 [02:15<00:12,  2.07s/it]"
     ]
    },
    {
     "name": "stdout",
     "output_type": "stream",
     "text": [
      "write gt ../../pcd_preprocessed/output_chunks/out_kitti_instance7/000947.pcd\n"
     ]
    },
    {
     "name": "stderr",
     "output_type": "stream",
     "text": [
      " 93%|█████████▎| 64/69 [02:17<00:10,  2.05s/it]"
     ]
    },
    {
     "name": "stdout",
     "output_type": "stream",
     "text": [
      "write gt ../../pcd_preprocessed/output_chunks/out_kitti_instance7/000961.pcd\n"
     ]
    },
    {
     "name": "stderr",
     "output_type": "stream",
     "text": [
      " 94%|█████████▍| 65/69 [02:19<00:08,  2.04s/it]"
     ]
    },
    {
     "name": "stdout",
     "output_type": "stream",
     "text": [
      "write gt ../../pcd_preprocessed/output_chunks/out_kitti_instance7/000976.pcd\n"
     ]
    },
    {
     "name": "stderr",
     "output_type": "stream",
     "text": [
      " 96%|█████████▌| 66/69 [02:21<00:06,  2.08s/it]"
     ]
    },
    {
     "name": "stdout",
     "output_type": "stream",
     "text": [
      "write gt ../../pcd_preprocessed/output_chunks/out_kitti_instance7/000993.pcd\n"
     ]
    },
    {
     "name": "stderr",
     "output_type": "stream",
     "text": [
      " 97%|█████████▋| 67/69 [02:23<00:04,  2.25s/it]"
     ]
    },
    {
     "name": "stdout",
     "output_type": "stream",
     "text": [
      "write gt ../../pcd_preprocessed/output_chunks/out_kitti_instance7/001022.pcd\n"
     ]
    },
    {
     "name": "stderr",
     "output_type": "stream",
     "text": [
      " 99%|█████████▊| 68/69 [02:26<00:02,  2.41s/it]"
     ]
    },
    {
     "name": "stdout",
     "output_type": "stream",
     "text": [
      "write gt ../../pcd_preprocessed/output_chunks/out_kitti_instance7/001060.pcd\n"
     ]
    },
    {
     "name": "stderr",
     "output_type": "stream",
     "text": [
      "100%|██████████| 69/69 [02:28<00:00,  2.16s/it]"
     ]
    },
    {
     "name": "stdout",
     "output_type": "stream",
     "text": [
      "write gt ../../pcd_preprocessed/output_chunks/out_kitti_instance7/001091.pcd\n"
     ]
    },
    {
     "name": "stderr",
     "output_type": "stream",
     "text": [
      "\n"
     ]
    }
   ],
   "source": [
    "alpha = 1.0\n",
    "theta = 0.5\n",
    "colors = generate_random_colors_map(600)\n",
    "beta = 0.0\n",
    "gamma = 0.1\n",
    "proximity_threshold = 1.0\n",
    "tarl_norm = False\n",
    "ncuts_threshold = 0.005\n",
    "        \n",
    "out_name = 'tarl_dino_spatial' + str(SEQUENCE_NUM) \n",
    "# Generate 30 different colors\n",
    " \n",
    "\n",
    "COLORS = generate_random_colors(400)\n",
    "COLORS = [(col[0]/255.,col[1]/255.,col[2]/255.) for col in COLORS]\n",
    "\n",
    "\n",
    "out_kitti = out_chunks + 'out_kitti' + str(SEQUENCE_NUM) + '/'\n",
    "if os.path.exists(out_kitti) == True : \n",
    "        shutil.rmtree(out_kitti)\n",
    "\n",
    "os.makedirs(out_kitti)\n",
    "        \n",
    "out_kitti_instance = out_chunks + 'out_kitti_instance' + str(SEQUENCE_NUM) + '/'\n",
    "\n",
    "\n",
    "if os.path.exists(out_kitti_instance) == False : \n",
    "        os.makedirs(out_kitti_instance)\n",
    "\n",
    "\n",
    "out_kitti_semantic = out_chunks + 'out_kitti_semantic' + str(SEQUENCE_NUM) + '/'\n",
    "\n",
    "if os.path.exists(out_kitti_semantic) == False : \n",
    "        os.makedirs(out_kitti_semantic)\n",
    "\n",
    "\n",
    "limit = -1 ##use this for experiments to run limit chunks numberss\n",
    "\n",
    "\n",
    "patchwise_indices = indices_per_patch(T_pcd, center_positions, positions, first_position, sampled_indices_global, chunk_size)\n",
    "out_data = []\n",
    "semantics = np.hstack((kitti_labels_orig['seg_nonground'].reshape(-1,),kitti_labels_orig['seg_ground'].reshape(-1,)))\n",
    "\n",
    "instances = np.hstack((kitti_labels_orig['instance_nonground'].reshape(-1,),kitti_labels_orig['instance_ground'].reshape(-1,)))\n",
    "print('number of instances',np.unique(instances))\n",
    "merge_pcd = o3d.geometry.PointCloud()    \n",
    "\n",
    "\n",
    "\n",
    "print(\"total sequence number\",len(center_ids))\n",
    "for sequence in tqdm(range(0,len(center_ids))):\n",
    "                '''\n",
    "                merged_chunk,file_name, pcd_chunk, pcd_chunk_ground,inliers, inliers_ground = ncuts_chunk(dataset,list(indices),pcd_nonground_chunks,pcd_ground_chunks,\n",
    "                        pcd_nonground_chunks_major_downsampling,\n",
    "                        pcd_nonground_minor,T_pcd,center_positions,center_ids,\n",
    "                        positions,first_position,list(sampled_indices_global),\n",
    "                        chunk_size=chunk_size,major_voxel_size=major_voxel_size,\n",
    "                        alpha=alpha,beta=beta,gamma=gamma,theta=theta,\n",
    "                        proximity_threshold=proximity_threshold,\n",
    "                        out_folder=out_folder_ncuts,ground_mode=False,sequence=sequence,\n",
    "                        patchwise_indices=patchwise_indices,ncuts_threshold=ncuts_threshold,obb=obbs[sequence])\n",
    "                '''\n",
    "                pcd_ground_chunk = pcd_ground_chunks[sequence]\n",
    "                pcd_chunk = pcd_nonground_chunks[sequence]\n",
    "\n",
    "                inliers = get_statistical_inlier_indices(pcd_ground_chunk)\n",
    "                ground_inliers = get_subpcd(pcd_ground_chunk, inliers)\n",
    "                mean_hight = np.mean(np.asarray(ground_inliers.points)[:, 2])\n",
    "                inliers_ground = np.where(\n",
    "                    np.asarray(ground_inliers.points)[:, 2] < (mean_hight + 0.2)\n",
    "                )[0]\n",
    "                pcd_chunk_ground = get_subpcd(ground_inliers, inliers_ground)\n",
    "                pcd_chunk_ground.paint_uniform_color([0, 0, 0])\n",
    "                #o3d.visualization.draw_geometries([merged_chunk])\n",
    "                \n",
    "                seg_ground = kitti_labels['ground']['semantic'][sequence][inliers][inliers_ground]\n",
    "                inst_ground = kitti_labels['ground']['instance'][sequence][inliers][inliers_ground]\n",
    "                \n",
    "                file_name = str(center_ids[sequence]).zfill(6) + '.pcd'\n",
    "\n",
    "                kitti_chunk = color_pcd_by_labels(pcd_chunk,kitti_labels['nonground']['semantic'][sequence].reshape(-1,),\n",
    "                                        colors=COLORS,gt_labels=semantics,semantics=True\n",
    "                                        )\n",
    "                \n",
    "                kitti_chunk_instance = color_pcd_by_labels(pcd_chunk,kitti_labels['nonground']['instance'][sequence].reshape(-1,),\n",
    "                                        colors=colors,gt_labels=instances)\n",
    "                                        \n",
    "                kitti_chunk_instance_ground = color_pcd_by_labels(pcd_chunk_ground,inst_ground.reshape(-1,),\n",
    "                                        colors=colors,gt_labels=instances)\n",
    "                                        \n",
    "                kitti_chunk_semantic_ground = color_pcd_by_labels(pcd_chunk_ground,seg_ground.reshape(-1,),\n",
    "                                        colors=COLORS,gt_labels=semantics,semantics=True)\n",
    "                \n",
    "                #o3d.visualization.draw_geometries([kitti_chunk_instance + kitti_chunk_instance_ground])\n",
    "                #o3d.visualization.draw_geometries([pcd_chunk + pcd_chunk_ground])\n",
    "                #semantic_labels = np.hstack(( kitti_labels['nonground']['semantic'][sequence].reshape(-1,),seg_ground.reshape(-1,)))\n",
    "                #np.savez(out_kitti_semantic + file_name.split('.')[0] + '.npz',labels=semantic_labels)\n",
    "                semantics_non_ground = color_pcd_kitti(copy.deepcopy(pcd_chunk),kitti_labels['nonground']['semantic'][sequence].reshape(-1,))\n",
    "                semantics_ground = color_pcd_kitti(copy.deepcopy(pcd_chunk_ground),seg_ground.reshape(-1,))\n",
    "                kitti_semantics = np.hstack((kitti_labels['nonground']['semantic'][sequence].reshape(-1,),seg_ground.reshape(-1,)))\n",
    "                                                \n",
    "                \n",
    "                o3d.io.write_point_cloud(out_folder_ncuts + file_name, pcd_chunk + pcd_chunk_ground , write_ascii=False, compressed=False, print_progress=False)\n",
    "                print('write gt',out_kitti_instance + file_name)\n",
    "                o3d.io.write_point_cloud(out_kitti_instance + file_name, kitti_chunk_instance + kitti_chunk_instance_ground, write_ascii=False, compressed=False, print_progress=False)\n",
    "                o3d.io.write_point_cloud(out_kitti_semantic + file_name, semantics_non_ground + semantics_ground, write_ascii=False, compressed=False, print_progress=False)\n",
    "                \n",
    "                \n",
    "\n",
    "\n",
    "        \n",
    "        \n",
    "        "
   ]
  },
  {
   "cell_type": "code",
   "execution_count": 13,
   "metadata": {},
   "outputs": [
    {
     "name": "stdout",
     "output_type": "stream",
     "text": [
      "['000046.pcd', '000061.pcd', '000066.pcd', '000073.pcd', '000085.pcd', '000093.pcd', '000097.pcd', '000110.pcd', '000125.pcd', '000127.pcd', '000149.pcd', '000163.pcd', '000164.pcd', '000176.pcd', '000189.pcd', '000193.pcd', '000201.pcd', '000212.pcd', '000220.pcd', '000225.pcd', '000238.pcd', '000249.pcd', '000252.pcd', '000265.pcd', '000278.pcd', '000293.pcd', '000328.pcd', '000336.pcd', '000349.pcd', '000362.pcd', '000368.pcd', '000373.pcd', '000383.pcd', '000391.pcd', '000393.pcd', '000403.pcd', '000413.pcd', '000415.pcd', '000424.pcd', '000436.pcd', '000441.pcd', '000450.pcd', '000469.pcd', '000483.pcd', '000491.pcd', '000506.pcd', '000515.pcd', '000517.pcd', '000528.pcd', '000539.pcd', '000540.pcd', '000551.pcd', '000562.pcd', '000565.pcd', '000572.pcd', '000581.pcd', '000587.pcd', '000591.pcd', '000601.pcd', '000610.pcd', '000611.pcd', '000622.pcd', '000640.pcd', '000650.pcd', '000755.pcd', '000769.pcd', '000774.pcd', '000779.pcd', '000788.pcd', '000794.pcd', '000796.pcd', '000805.pcd', '000813.pcd', '000814.pcd', '000823.pcd', '000832.pcd', '000833.pcd', '000841.pcd', '000850.pcd', '000854.pcd', '000860.pcd', '000870.pcd', '000877.pcd', '000881.pcd', '000896.pcd', '000915.pcd', '000917.pcd', '000934.pcd', '000947.pcd', '000949.pcd', '000961.pcd', '000976.pcd', '000982.pcd', '000993.pcd', '001022.pcd', '001048.pcd', '001060.pcd', '001091.pcd']\n",
      "[[0.         0.         0.        ]\n",
      " [0.         0.         1.        ]\n",
      " [0.         0.23529412 0.52941176]\n",
      " [0.         0.58823529 1.        ]\n",
      " [0.         0.68627451 0.        ]\n",
      " [0.         0.78431373 1.        ]\n",
      " [0.11764706 0.11764706 1.        ]\n",
      " [0.19607843 0.47058824 1.        ]\n",
      " [0.29411765 0.         0.29411765]\n",
      " [0.31372549 0.94117647 0.58823529]\n",
      " [0.58823529 0.23529412 0.11764706]\n",
      " [0.58823529 0.94117647 1.        ]\n",
      " [0.70588235 0.11764706 0.31372549]\n",
      " [0.96078431 0.58823529 0.39215686]\n",
      " [0.96078431 0.90196078 0.39215686]\n",
      " [1.         0.         0.        ]\n",
      " [1.         0.         1.        ]\n",
      " [1.         0.58823529 1.        ]\n",
      " [1.         1.         0.19607843]]\n",
      "[0. 0. 0.]\n",
      "[0. 0. 1.]\n",
      "[0.         0.23529412 0.52941176]\n",
      "[0.         0.58823529 1.        ]\n",
      "[0.         0.68627451 0.        ]\n",
      "[0.         0.78431373 1.        ]\n",
      "[0.11764706 0.11764706 1.        ]\n",
      "[0.19607843 0.47058824 1.        ]\n",
      "[0.29411765 0.         0.29411765]\n",
      "[0.31372549 0.94117647 0.58823529]\n",
      "[0.58823529 0.23529412 0.11764706]\n",
      "[0.58823529 0.94117647 1.        ]\n",
      "[0.70588235 0.11764706 0.31372549]\n",
      "[0.96078431 0.58823529 0.39215686]\n",
      "[0.96078431 0.90196078 0.39215686]\n",
      "[1. 0. 0.]\n",
      "[1. 0. 1.]\n",
      "[1.         0.58823529 1.        ]\n",
      "[1.         1.         0.19607843]\n"
     ]
    }
   ],
   "source": [
    "out_kitti_semantic = out_chunks + 'out_kitti_semantic' + str(SEQUENCE_NUM) + '/'\n",
    "point_cloud_semantis = get_merge_pcds(out_kitti_semantic)[:-1]\n",
    "seg_pcd = merge_unite_gt(point_cloud_semantis)\n",
    "cols, labels_kitti_cur = np.unique(\n",
    "                np.asarray(seg_pcd.colors), axis=0, return_inverse=True\n",
    "            )\n",
    "print(cols)\n",
    "updated_labels = np.zeros(np.asarray(seg_pcd.colors).shape[0])\n",
    "for label in np.unique(labels_kitti_cur):\n",
    "                idcs = np.where(labels_kitti_cur == label)[0]\n",
    "                col_cur = np.asarray(seg_pcd.colors)[idcs][0]\n",
    "                print(col_cur)\n",
    "                updated_labels[idcs] = reverse_color_dict[tuple(col_cur)]\n",
    "    \n",
    "np.savez(        'semantics_7_'+ str(chunk_size[0]) \n",
    "                + \".npz\",\n",
    "                labels=updated_labels,\n",
    "            )"
   ]
  },
  {
   "cell_type": "code",
   "execution_count": 14,
   "metadata": {},
   "outputs": [
    {
     "ename": "SyntaxError",
     "evalue": "invalid syntax (3286976533.py, line 17)",
     "output_type": "error",
     "traceback": [
      "\u001b[0;36m  Cell \u001b[0;32mIn[14], line 17\u001b[0;36m\u001b[0m\n\u001b[0;31m    o3d.io.write_point_cloud('tarl_spatial_dino_0.005.pcd',merge)_\u001b[0m\n\u001b[0m                                                                 ^\u001b[0m\n\u001b[0;31mSyntaxError\u001b[0m\u001b[0;31m:\u001b[0m invalid syntax\n"
     ]
    }
   ],
   "source": [
    "out_kitti = out_chunks + 'out_kitti' + str(SEQUENCE_NUM) + '/'\n",
    "out_kitti_instance = out_chunks + 'out_kitti_instance' + str(SEQUENCE_NUM) + '/'\n",
    "out_kitti_semantic = out_chunks + 'out_kitti_semantic' + str(SEQUENCE_NUM) + '/'\n",
    "\n",
    "point_clouds = get_merge_pcds(out_folder_ncuts)[:-1]\n",
    "#point_clouds_kitti = get_merge_pcds(out_kitti)[:-1]\n",
    "point_clouds_kitti_instances = get_merge_pcds(out_kitti_instance)[:-1]\n",
    "#point_clouds_kitti_semantics = get_merge_pcds(out_kitti_semantic)[:-1]\n",
    "#point_clouds_kitti_semantic = get_merge_pcds(out_kitti_semantic)[:-1]\n",
    "instance_pcd = merge_unite_gt(point_clouds_kitti_instances)\n",
    "\n",
    "point_cloud_semantis = get_merge_pcds(out_kitti_semantic)[:-1]\n",
    "seg_pcd = merge_unite_gt(point_cloud_semantis)\n",
    "\n",
    "\n",
    "merge = merge_chunks_unite_instances(point_clouds)\n",
    "o3d.io.write_point_cloud('tarl_spatial_dino_0.005.pcd',merge)_\n",
    "\n",
    "\n",
    "#merge_dbscan = merge_chunks_unite_instances(point_clouds_dbscan)\n",
    "unique_colors, label_vec = np.unique(np.asarray(instance_pcd.colors), axis=0, return_inverse=True)\n",
    "unique_colors, labels_seg = np.unique(np.asarray(seg_pcd.colors), axis=0, return_inverse=True)\n",
    "unique_colors, labels_ncuts_all = np.unique(np.asarray(merge.colors), axis=0, return_inverse=True)\n",
    "\n",
    "label_vec_new = label_vec + (labels_seg * np.unique(label_vec).shape[0]) \n",
    "\n",
    "new_ncuts_labels = remove_semantics(label_vec,labels_ncuts_all)\n",
    "\n",
    "idcs = np.where(label_vec == 0)\n",
    "label_vec_new[idcs] = 0 \n",
    "\n",
    "metrics_ncuts = Metrics(name='ncuts')\n",
    "\n",
    "metrics_ncuts.update_stats(labels_ncuts_all,new_ncuts_labels,label_vec_new)\n",
    "\n",
    "'''\n",
    "# o3d.visualization.draw_geometries([pcd])\n",
    "points = np.asarray(instance_pcd.points)\n",
    "labels = np.unique(label_vec)\n",
    "points_of_instances = []\n",
    "for label in labels:\n",
    "    if label != 0:\n",
    "        cols = np.zeros((points.shape[0],3))\n",
    "        idcs = np.where(label_vec == label)\n",
    "        idcs = idcs[0]\n",
    "        instance_points = points[idcs]\n",
    "        points_of_instances.append(instance_points)\n",
    "        #cols[idcs] = np.array([0,1,0])\n",
    "        cur_pcd = o3d.geometry.PointCloud()\n",
    "        cur_pcd.points = o3d.utility.Vector3dVector(instance_points)\n",
    "        #cur_pcd.colors = o3d.utility.Vector3dVector(cols)\n",
    "        #o3d.visualization.draw_geometries([cur_pcd])\n",
    "'''\n",
    "\n",
    "#instance_pcd = color_pcd_by_labels(instance_pcd,label_vec)\n",
    "#o3d.io.write_point_cloud(out_folder + \"merge_part_kitti_instance_fixed\" + str(SEQUENCE_NUM) + \".pcd\", instance_pcd, write_ascii=False, compressed=False, print_progress=False)\n",
    "#o3d.io.write_point_cloud(out_folder + out_name + str(SEQUENCE_NUM) + \".pcd\", merge, write_ascii=False, compressed=False, print_progress=False)\n",
    "#print(merge)\n",
    "#o3d.io.write_point_cloud(out_folder + \"merge_part_kitti_instance\" + str(SEQUENCE_NUM) +  \".pcd\", merge_kitti_instance, write_ascii=False, compressed=False, print_progress=False)\n",
    "#o3d.io.write_point_cloud(out_folder + \"merge_part_kitti_semantics\" + str(SEQUENCE_NUM) +  \".pcd\", merge_kitti_semantics, write_ascii=False, compressed=False, print_progress=False)\n"
   ]
  },
  {
   "cell_type": "code",
   "execution_count": null,
   "metadata": {},
   "outputs": [
    {
     "name": "stdout",
     "output_type": "stream",
     "text": [
      "PointCloud with 19170491 points.\n",
      "PointCloud with 19170491 points.\n"
     ]
    }
   ],
   "source": [
    "import open3d as o3d \n",
    "pcd = o3d.io.read_point_cloud('/home/cedric/unsup_3d_instances/point-to-pixel-mapping/pcd_preprocessed/merge_part_kitti_semantic7.pcd')\n",
    "pcd2 = o3d.io.read_point_cloud('/home/cedric/unsup_3d_instances/point-to-pixel-mapping/pcd_preprocessed/merge_part_kitti_instance7.pcd')\n",
    "print(pcd)\n",
    "print(pcd2)\n",
    "o3d.visualization.draw_geometries([pcd])"
   ]
  },
  {
   "cell_type": "code",
   "execution_count": null,
   "metadata": {},
   "outputs": [
    {
     "data": {
      "text/plain": [
       "PointCloud with 19170491 points."
      ]
     },
     "execution_count": 17,
     "metadata": {},
     "output_type": "execute_result"
    }
   ],
   "source": [
    "seg_pcd"
   ]
  },
  {
   "cell_type": "code",
   "execution_count": null,
   "metadata": {},
   "outputs": [],
   "source": [
    "merge = merge_chunks_unite_instances(point_clouds)\n",
    "\n",
    "\n",
    "#merge_dbscan = merge_chunks_unite_instances(point_clouds_dbscan)\n",
    "unique_colors, label_vec = np.unique(np.asarray(instance_pcd.colors), axis=0, return_inverse=True)\n",
    "unique_colors, labels_seg = np.unique(np.asarray(seg_pcd.colors), axis=0, return_inverse=True)\n",
    "unique_colors, labels_ncuts_all = np.unique(np.asarray(merge.colors), axis=0, return_inverse=True)\n",
    "\n",
    "label_vec = label_vec + (labels_seg * np.unique(label_vec).shape[0]) \n",
    "\n",
    "new_ncuts_labels = remove_semantics(label_vec,labels_ncuts_all)\n",
    "\n",
    "\n",
    "metrics_ncuts = Metrics(name='ncuts')\n",
    "\n",
    "metrics_ncuts.update_stats(labels_ncuts_all,new_ncuts_labels,label_vec)"
   ]
  }
 ],
 "metadata": {
  "kernelspec": {
   "display_name": "Python 3 (ipykernel)",
   "language": "python",
   "name": "python3"
  },
  "language_info": {
   "codemirror_mode": {
    "name": "ipython",
    "version": 3
   },
   "file_extension": ".py",
   "mimetype": "text/x-python",
   "name": "python",
   "nbconvert_exporter": "python",
   "pygments_lexer": "ipython3",
   "version": "3.9.16"
  }
 },
 "nbformat": 4,
 "nbformat_minor": 2
}
