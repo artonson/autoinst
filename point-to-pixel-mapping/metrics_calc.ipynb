{
 "cells": [
  {
   "cell_type": "code",
   "execution_count": 1,
   "metadata": {},
   "outputs": [
    {
     "name": "stdout",
     "output_type": "stream",
     "text": [
      "Jupyter environment detected. Enabling Open3D WebVisualizer.\n",
      "[Open3D INFO] WebRTC GUI backend enabled.\n",
      "[Open3D INFO] WebRTCWindowSystem: HTTP handshake server disabled.\n"
     ]
    }
   ],
   "source": [
    "import open3d as o3d \n",
    "from visualization_utils import * \n",
    "import numpy as np \n",
    "from metrics.metrics_class import Metrics"
   ]
  },
  {
   "cell_type": "code",
   "execution_count": 2,
   "metadata": {},
   "outputs": [],
   "source": [
    "def intersect(pred_indices, gt_indices):\n",
    "        intersection = np.intersect1d(pred_indices, gt_indices)\n",
    "        return intersection.size / pred_indices.shape[0]\n",
    "\n",
    "def iou(pred_indices, gt_indices):\n",
    "        intersection = np.intersect1d(pred_indices, gt_indices)\n",
    "        union = np.union1d(pred_indices, gt_indices)\n",
    "        return intersection.size / union.size\n",
    "\n",
    "def remove_semantics(labels,preds):\n",
    "        gt_idcs = np.where(labels == 0)[0]\n",
    "        new_ncuts_labels = preds.copy()\n",
    "        for i in np.unique(preds):\n",
    "                pred_idcs = np.where(preds == i)[0]\n",
    "                cur_intersect = intersect(pred_idcs,gt_idcs)\n",
    "                if cur_intersect > 0.8:\n",
    "                        new_ncuts_labels[pred_idcs] = 0\n",
    "        return new_ncuts_labels\n",
    "        \n",
    "def get_semantics(preds,gt_idcs,pcd):\n",
    "        new_ncuts_labels = np.zeros_like(preds)\n",
    "        new_pcd = o3d.geometry.PointCloud()\n",
    "        new_pcd.points = pcd.points \n",
    "        num_clusters = 0 \n",
    "        for i in np.unique(preds):\n",
    "                #new_cols = np.zeros((np.asarray(pcd.points).shape[0],3))\n",
    "\n",
    "                pred_idcs = np.where(preds == i)[0]\n",
    "                cur_intersect = intersect(pred_idcs,gt_idcs)\n",
    "                \n",
    "                #new_cols[pred_idcs] = np.array([1,0,0])\n",
    "                #new_pcd.colors = o3d.utility.Vector3dVector(new_cols)\n",
    "                #o3d.visualization.draw_geometries([new_pcd])\n",
    "\n",
    "                if cur_intersect > 0.1:\n",
    "                        #print(\"intersect\",cur_intersect)\n",
    "                        new_ncuts_labels[pred_idcs] = 1\n",
    "                        num_clusters += 1\n",
    "        #o3d.visualization.draw_geometries([color_pcd_by_labels(pcd,new_ncuts_labels)])\n",
    "        return np.where(new_ncuts_labels == 1)[0], num_clusters\n",
    "\n",
    "def remove_semantics_pcd(pcd,labels,preds):\n",
    "        cols = np.asarray(pcd.colors)\n",
    "        gt_idcs = np.where(labels == 0)[0]\n",
    "        new_ncuts_labels = preds.copy()\n",
    "        for i in np.unique(preds):\n",
    "                pred_idcs = np.where(preds == i)[0]\n",
    "                cur_intersect = intersect(pred_idcs,gt_idcs)\n",
    "                if cur_intersect > 0.8:\n",
    "                        new_ncuts_labels[pred_idcs] = 0\n",
    "                        cols[pred_idcs] = np.array([0,0,0])\n",
    "                        \n",
    "        pcd.colors = o3d.utility.Vector3dVector(cols)   \n",
    "        return pcd"
   ]
  },
  {
   "cell_type": "code",
   "execution_count": 3,
   "metadata": {},
   "outputs": [],
   "source": [
    "def remove_cols(pcd,cols,labels,unique_labels,idx=1): \n",
    "\n",
    "\tnew_pcd = o3d.geometry.PointCloud()\n",
    "\tnew_pcd.points = pcd.points \n",
    "\tnew_cols = np.zeros((np.asarray(pcd.points).shape[0],3))\n",
    "\tpcd_cols = np.asarray(pcd.colors)\n",
    "\t\n",
    "\tidcs = np.where(labels == unique_labels[idx])[0]\n",
    "\t\n",
    "\t\n",
    "\tnew_cols[idcs] = cols[idx]\n",
    "\tnew_pcd.colors = o3d.utility.Vector3dVector(new_cols)\n",
    "\t#o3d.visualization.draw_geometries([new_pcd])\n",
    "\treturn new_pcd,idcs \n",
    "\t\n",
    "\t\n",
    "def cluster_vis(pcd,cols,labels,unique_labels,idx=1): \n",
    "\n",
    "\tnew_pcd = o3d.geometry.PointCloud()\n",
    "\tnew_pcd.points = pcd.points \n",
    "\tnew_cols = np.zeros((np.asarray(pcd.points).shape[0],3))\n",
    "\tpcd_cols = np.asarray(pcd.colors)\n",
    "\t\n",
    "\tidcs = np.where(labels == unique_labels[idx])[0]\n",
    "\t\n",
    "\t\n",
    "\tnew_cols[idcs] = cols[idx]\n",
    "\tnew_pcd.colors = o3d.utility.Vector3dVector(new_cols)\n",
    "\t#o3d.visualization.draw_geometries([new_pcd])\n",
    "\treturn new_pcd,idcs \n",
    "\t\n",
    "\t\n",
    "\t"
   ]
  },
  {
   "cell_type": "code",
   "execution_count": 4,
   "metadata": {},
   "outputs": [
    {
     "name": "stdout",
     "output_type": "stream",
     "text": [
      "\u001b[1;33m[Open3D WARNING] Read PCD failed: unable to open file: out_kitti_semantic/000066.pcd\u001b[0;m\n",
      "file name pcd_preprocessed/out_maps/ncuts_tarl_spatial1.pcd\n",
      "\u001b[1;33m[Open3D WARNING] Read PCD failed: unable to open file: test_data/000066.pcd\u001b[0;m\n",
      "Metrics for file pcd_preprocessed/out_maps/ncuts_tarl_spatial1.pcd\n",
      "file idx 1\n",
      "Semantics for class car\n"
     ]
    },
    {
     "ename": "IndexError",
     "evalue": "list index out of range",
     "output_type": "error",
     "traceback": [
      "\u001b[0;31m---------------------------------------------------------------------------\u001b[0m",
      "\u001b[0;31mIndexError\u001b[0m                                Traceback (most recent call last)",
      "\u001b[1;32m/home/cedric/unsup_3d_instances/point-to-pixel-mapping/metrics_calc.ipynb Cell 4\u001b[0m line \u001b[0;36m3\n\u001b[1;32m     <a href='vscode-notebook-cell:/home/cedric/unsup_3d_instances/point-to-pixel-mapping/metrics_calc.ipynb#W3sZmlsZQ%3D%3D?line=34'>35</a>\u001b[0m metrics_pred \u001b[39m=\u001b[39m Metrics(name\u001b[39m=\u001b[39mf)\n\u001b[1;32m     <a href='vscode-notebook-cell:/home/cedric/unsup_3d_instances/point-to-pixel-mapping/metrics_calc.ipynb#W3sZmlsZQ%3D%3D?line=35'>36</a>\u001b[0m \u001b[39m#new_labels = remove_semantics(labels_kitti,labels_ncuts)\t\u001b[39;00m\n\u001b[1;32m     <a href='vscode-notebook-cell:/home/cedric/unsup_3d_instances/point-to-pixel-mapping/metrics_calc.ipynb#W3sZmlsZQ%3D%3D?line=36'>37</a>\u001b[0m \u001b[39m#metrics_pred.update_stats(new_labels,labels_kitti,calc_all=False,calc_lstq=False)\u001b[39;00m\n\u001b[0;32m---> <a href='vscode-notebook-cell:/home/cedric/unsup_3d_instances/point-to-pixel-mapping/metrics_calc.ipynb#W3sZmlsZQ%3D%3D?line=37'>38</a>\u001b[0m metrics_pred\u001b[39m.\u001b[39;49msemantic_eval(pred_pcd,pcd_sem)\n",
      "File \u001b[0;32m~/unsup_3d_instances/point-to-pixel-mapping/metrics/metrics_class.py:291\u001b[0m, in \u001b[0;36mMetrics.semantic_eval\u001b[0;34m(self, pred_pcd, pcd_gt)\u001b[0m\n\u001b[1;32m    289\u001b[0m \u001b[39mprint\u001b[39m(\u001b[39m'\u001b[39m\u001b[39mfile idx\u001b[39m\u001b[39m'\u001b[39m,idx)\n\u001b[1;32m    290\u001b[0m \u001b[39mprint\u001b[39m(\u001b[39m\"\u001b[39m\u001b[39mSemantics for class\u001b[39m\u001b[39m\"\u001b[39m, \u001b[39mself\u001b[39m\u001b[39m.\u001b[39mrelevant_idcs[idx])\n\u001b[0;32m--> 291\u001b[0m gt_pcd, idcs \u001b[39m=\u001b[39m \u001b[39mself\u001b[39;49m\u001b[39m.\u001b[39;49mremove_cols(\n\u001b[1;32m    292\u001b[0m     pcd_gt, unique_colors, labels_kitti, \u001b[39mlist\u001b[39;49m(\n\u001b[1;32m    293\u001b[0m         np\u001b[39m.\u001b[39;49munique(labels_kitti)), idx)\n\u001b[1;32m    295\u001b[0m pred_labels, num_clusters \u001b[39m=\u001b[39m \u001b[39mself\u001b[39m\u001b[39m.\u001b[39mget_semantics(\n\u001b[1;32m    296\u001b[0m     labels_ncuts, idcs, pred_pcd)\n\u001b[1;32m    298\u001b[0m cur_iou \u001b[39m=\u001b[39m \u001b[39mself\u001b[39m\u001b[39m.\u001b[39miou(pred_labels, idcs)\n",
      "File \u001b[0;32m~/unsup_3d_instances/point-to-pixel-mapping/metrics/metrics_class.py:249\u001b[0m, in \u001b[0;36mMetrics.remove_cols\u001b[0;34m(self, pcd, cols, labels, unique_labels, idx)\u001b[0m\n\u001b[1;32m    246\u001b[0m new_cols \u001b[39m=\u001b[39m np\u001b[39m.\u001b[39mzeros((np\u001b[39m.\u001b[39masarray(pcd\u001b[39m.\u001b[39mpoints)\u001b[39m.\u001b[39mshape[\u001b[39m0\u001b[39m], \u001b[39m3\u001b[39m))\n\u001b[1;32m    247\u001b[0m pcd_cols \u001b[39m=\u001b[39m np\u001b[39m.\u001b[39masarray(pcd\u001b[39m.\u001b[39mcolors)\n\u001b[0;32m--> 249\u001b[0m idcs \u001b[39m=\u001b[39m np\u001b[39m.\u001b[39mwhere(labels \u001b[39m==\u001b[39m unique_labels[idx])[\u001b[39m0\u001b[39m]\n\u001b[1;32m    251\u001b[0m new_cols[idcs] \u001b[39m=\u001b[39m cols[idx]\n\u001b[1;32m    252\u001b[0m new_pcd\u001b[39m.\u001b[39mcolors \u001b[39m=\u001b[39m o3d\u001b[39m.\u001b[39mutility\u001b[39m.\u001b[39mVector3dVector(new_cols)\n",
      "\u001b[0;31mIndexError\u001b[0m: list index out of range"
     ]
    }
   ],
   "source": [
    "out_folder = 'pcd_preprocessed/out_maps/'\n",
    "\n",
    "fs = []\n",
    "#fs.append('merge_a2_t3_0.05.pcd')\n",
    "#fs.append('merge_a2_t3_0.025.pcd') \n",
    "#fs.append('merge_t3_0.05.pcd') \n",
    "#fs.append('ncuts_instances_tarl_spatial1.pcd') \n",
    "#fs.append('ncuts_sam1_instances.pcd')\n",
    "#fs.append('ncuts_instances_tarl_spatial1.pcd')\n",
    "#fs.append('hdbscan_instances.pcd') \n",
    "#fs.append('ncuts_a2_t3_0.025.pcd')\n",
    "#fs.append('ncuts_tarl_sam_spatial.pcd')\n",
    "#fs.append('ncuts_sam.pcd')\n",
    "#fs.append('ncuts_tarl_norm.pcd')\n",
    "fs.append(out_folder + 'ncuts_tarl_spatial1.pcd')\n",
    "fs.append(out_folder + 'maskpls_5.pcd')\n",
    "\n",
    "sem_gt = out_folder + \"merge_part_kitti_semantic7.pcd\"\n",
    "inst_gt = out_folder + \"merge_part_kitti_instance7.pcd\"\n",
    "\n",
    "\n",
    "sem_gt = 'out_kitti_semantic/000066.pcd'\n",
    "\n",
    "pcd_gt = o3d.io.read_point_cloud(inst_gt)\n",
    "pcd_sem = o3d.io.read_point_cloud(sem_gt)\n",
    "unique_colors, labels_kitti = np.unique(np.asarray(pcd_gt.colors),axis=0, return_inverse=True)\n",
    "\n",
    "o3d.visualization.draw_geometries([pcd_sem])\n",
    "\n",
    "for f in fs : \n",
    "\tprint(\"file name\",f)\n",
    "\t#pred_pcd = o3d.io.read_point_cloud(f)\n",
    "\tpred_pcd = o3d.io.read_point_cloud('test_data/000066.pcd')\n",
    "\t#o3d.visualization.draw_geometries([pred_pcd])\n",
    "\tunique_colors, labels_ncuts = np.unique(np.asarray(pred_pcd.colors), axis=0, return_inverse=True)\n",
    "\tmetrics_pred = Metrics(name=f)\n",
    "\t#new_labels = remove_semantics(labels_kitti,labels_ncuts)\t\n",
    "\t#metrics_pred.update_stats(new_labels,labels_kitti,calc_all=False,calc_lstq=False)\n",
    "\tmetrics_pred.semantic_eval(pred_pcd,pcd_sem)"
   ]
  },
  {
   "cell_type": "code",
   "execution_count": null,
   "metadata": {},
   "outputs": [],
   "source": []
  }
 ],
 "metadata": {
  "kernelspec": {
   "display_name": "torch",
   "language": "python",
   "name": "python3"
  },
  "language_info": {
   "codemirror_mode": {
    "name": "ipython",
    "version": 3
   },
   "file_extension": ".py",
   "mimetype": "text/x-python",
   "name": "python",
   "nbconvert_exporter": "python",
   "pygments_lexer": "ipython3",
   "version": "3.9.16"
  }
 },
 "nbformat": 4,
 "nbformat_minor": 2
}
