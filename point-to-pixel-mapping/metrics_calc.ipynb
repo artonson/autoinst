{
 "cells": [
  {
   "cell_type": "code",
   "execution_count": null,
   "metadata": {},
   "outputs": [],
   "source": [
    "import open3d as open3d \n",
    "from visualization_utils import * \n",
    "import numpy as np \n",
    "from metrics_class import Metrics"
   ]
  },
  {
   "cell_type": "code",
   "execution_count": null,
   "metadata": {},
   "outputs": [],
   "source": [
    "out_folder = 'pcd_preprocessed/'\n",
    "\n",
    "fs = []\n",
    "#fs.append('merge_a2_t3_0.05.pcd')\n",
    "#fs.append('merge_a2_t3_0.025.pcd') \n",
    "#fs.append('merge_t3_0.05.pcd') \n",
    "#fs.append('ncuts_instances_tarl_spatial1.pcd') \n",
    "fs.append('ncuts_sam1_instances.pcd')\n",
    "fs.append('ncuts_instances_tarl_spatial1.pcd')\n",
    "#fs.append('hdbscan_instances.pcd') \n",
    "\n",
    "#pcd_gt = o3d.io.read_point_cloud(out_folder + 'kitti_labels.pcd')\n",
    "pcd_gt = o3d.io.read_point_cloud(out_folder + 'kitti_instances_labels.pcd')\n",
    "unique_colors, labels_kitti = np.unique(np.asarray(pcd_gt.colors),axis=0, return_inverse=True)\n",
    "\n",
    "\n",
    "for f in fs : \n",
    "\tprint(\"file name\",f)\n",
    "\tpred_pcd = o3d.io.read_point_cloud(out_folder + f)\n",
    "\tunique_colors, labels_ncuts = np.unique(np.asarray(pred_pcd.colors), axis=0, return_inverse=True)\n",
    "\tmetrics_pred = Metrics(name=f)\n",
    "\tmetrics_pred.update_stats(labels_ncuts,labels_kitti,calc_all=True)\n",
    "\t\t\n",
    "\n",
    "\n"
   ]
  },
  {
   "cell_type": "markdown",
   "metadata": {},
   "source": []
  }
 ],
 "metadata": {
  "kernelspec": {
   "display_name": "torch",
   "language": "python",
   "name": "python3"
  },
  "language_info": {
   "codemirror_mode": {
    "name": "ipython",
    "version": 3
   },
   "file_extension": ".py",
   "mimetype": "text/x-python",
   "name": "python",
   "nbconvert_exporter": "python",
   "pygments_lexer": "ipython3",
   "version": "3.9.16"
  }
 },
 "nbformat": 4,
 "nbformat_minor": 2
}
