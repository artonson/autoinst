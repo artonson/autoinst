{
 "cells": [
  {
   "cell_type": "code",
   "execution_count": 1,
   "metadata": {},
   "outputs": [],
   "source": [
    "import open3d as open3d \n",
    "from visualization_utils import * \n",
    "import numpy as np \n",
    "from metrics_class import Metrics"
   ]
  },
  {
   "cell_type": "code",
   "execution_count": 2,
   "metadata": {},
   "outputs": [],
   "source": [
    "out_folder = 'pcd_preprocessed/'\n",
    "\n",
    "pcd_gt = o3d.io.read_point_cloud(out_folder + 'merge_part_kitti_instance.pcd')\n",
    "pred_pcd = o3d.io.read_point_cloud(out_folder + 'ncuts_instances_tarl_spatial1.pcd')\n",
    "dbscan_pcd = o3d.io.read_point_cloud(out_folder + 'dbscan_instances.pcd')\n",
    "\n",
    "\n",
    "unique_colors, labels_ncuts = np.unique(np.asarray(pred_pcd.colors), axis=0, return_inverse=True)\n",
    "unique_colors, labels_dbscan = np.unique(np.asarray(dbscan_pcd.colors), axis=0, return_inverse=True)\n",
    "unique_colors, labels_kitti = np.unique(np.asarray(pcd_gt.colors),axis=0, return_inverse=True)\n",
    "\n",
    "\n"
   ]
  },
  {
   "cell_type": "code",
   "execution_count": 3,
   "metadata": {},
   "outputs": [
    {
     "name": "stdout",
     "output_type": "stream",
     "text": [
      "{'panoptic': 0.6617402324115282, 'precision': 0.8023255813953488, 'recall': 0.6448598130841121, 'fScore': 0.7150259067357513, 'usr': 0.11627906976744186, 'osr': 0.009345794392523364, 'noise': 0.11627906976744186, 'missed': 0.19626168224299065, 'mean': 0.9254772815610504}\n",
      "P/R Metrics for dbscan\n",
      "Precision  80.23\n",
      "Recall  64.49\n",
      "F1Score 71.5\n"
     ]
    }
   ],
   "source": [
    "metrics_db = Metrics('dbscan')\n",
    "metrics_pred = Metrics('tarl spatial 2')\n",
    "#metrics_db.calc_ap = False ##AP was already calculated before \n",
    "metrics_pred.calc_ap = False\n",
    "\n",
    "#metrics_db.update_stats(labels_dbscan,labels_kitti)\n",
    "metrics_pred.update_stats(labels_ncuts,labels_kitti)\n",
    "\n"
   ]
  }
 ],
 "metadata": {
  "kernelspec": {
   "display_name": "torch",
   "language": "python",
   "name": "python3"
  },
  "language_info": {
   "codemirror_mode": {
    "name": "ipython",
    "version": 3
   },
   "file_extension": ".py",
   "mimetype": "text/x-python",
   "name": "python",
   "nbconvert_exporter": "python",
   "pygments_lexer": "ipython3",
   "version": "3.10.4"
  }
 },
 "nbformat": 4,
 "nbformat_minor": 2
}
