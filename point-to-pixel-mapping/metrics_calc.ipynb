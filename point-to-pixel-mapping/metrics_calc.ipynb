{
 "cells": [
  {
   "cell_type": "code",
   "execution_count": 1,
   "metadata": {},
   "outputs": [
    {
     "name": "stdout",
     "output_type": "stream",
     "text": [
      "Jupyter environment detected. Enabling Open3D WebVisualizer.\n",
      "[Open3D INFO] WebRTC GUI backend enabled.\n",
      "[Open3D INFO] WebRTCWindowSystem: HTTP handshake server disabled.\n"
     ]
    }
   ],
   "source": [
    "import open3d as o3d \n",
    "from visualization_utils import * \n",
    "import numpy as np \n",
    "from metrics_class import Metrics\n",
    "from modified_LSTQ import evaluator"
   ]
  },
  {
   "cell_type": "code",
   "execution_count": 2,
   "metadata": {},
   "outputs": [],
   "source": [
    "def intersect(pred_indices, gt_indices):\n",
    "        intersection = np.intersect1d(pred_indices, gt_indices)\n",
    "        return intersection.size / pred_indices.shape[0]\n",
    "\n",
    "def iou(pred_indices, gt_indices):\n",
    "        intersection = np.intersect1d(pred_indices, gt_indices)\n",
    "        union = np.union1d(pred_indices, gt_indices)\n",
    "        return intersection.size / union.size\n",
    "\n",
    "def remove_semantics(labels,preds):\n",
    "        gt_idcs = np.where(labels == 0)[0]\n",
    "        new_ncuts_labels = preds.copy()\n",
    "        for i in np.unique(preds):\n",
    "                pred_idcs = np.where(preds == i)[0]\n",
    "                cur_intersect = intersect(pred_idcs,gt_idcs)\n",
    "                if cur_intersect > 0.8:\n",
    "                        new_ncuts_labels[pred_idcs] = 0\n",
    "        return new_ncuts_labels\n",
    "        \n",
    "def get_semantics(preds,gt_idcs,pcd):\n",
    "        new_ncuts_labels = np.zeros_like(preds)\n",
    "        new_pcd = o3d.geometry.PointCloud()\n",
    "        new_pcd.points = pcd.points \n",
    "        num_clusters = 0 \n",
    "        for i in np.unique(preds):\n",
    "                #new_cols = np.zeros((np.asarray(pcd.points).shape[0],3))\n",
    "\n",
    "                pred_idcs = np.where(preds == i)[0]\n",
    "                cur_intersect = intersect(pred_idcs,gt_idcs)\n",
    "                \n",
    "                #new_cols[pred_idcs] = np.array([1,0,0])\n",
    "                #new_pcd.colors = o3d.utility.Vector3dVector(new_cols)\n",
    "                #o3d.visualization.draw_geometries([new_pcd])\n",
    "\n",
    "                if cur_intersect > 0.1:\n",
    "                        #print(\"intersect\",cur_intersect)\n",
    "                        new_ncuts_labels[pred_idcs] = 1\n",
    "                        num_clusters += 1\n",
    "        #o3d.visualization.draw_geometries([color_pcd_by_labels(pcd,new_ncuts_labels)])\n",
    "        return np.where(new_ncuts_labels == 1)[0], num_clusters\n",
    "\n",
    "def remove_semantics_pcd(pcd,labels,preds):\n",
    "        cols = np.asarray(pcd.colors)\n",
    "        gt_idcs = np.where(labels == 0)[0]\n",
    "        new_ncuts_labels = preds.copy()\n",
    "        for i in np.unique(preds):\n",
    "                pred_idcs = np.where(preds == i)[0]\n",
    "                cur_intersect = intersect(pred_idcs,gt_idcs)\n",
    "                if cur_intersect > 0.8:\n",
    "                        new_ncuts_labels[pred_idcs] = 0\n",
    "                        cols[pred_idcs] = np.array([0,0,0])\n",
    "                        \n",
    "        pcd.colors = o3d.utility.Vector3dVector(cols)   \n",
    "        return pcd"
   ]
  },
  {
   "cell_type": "code",
   "execution_count": 3,
   "metadata": {},
   "outputs": [],
   "source": [
    "def remove_cols(pcd,cols,labels,unique_labels,idx=1): \n",
    "\n",
    "\tnew_pcd = o3d.geometry.PointCloud()\n",
    "\tnew_pcd.points = pcd.points \n",
    "\tnew_cols = np.zeros((np.asarray(pcd.points).shape[0],3))\n",
    "\tpcd_cols = np.asarray(pcd.colors)\n",
    "\t\n",
    "\tidcs = np.where(labels == unique_labels[idx])[0]\n",
    "\t\n",
    "\t\n",
    "\tnew_cols[idcs] = cols[idx]\n",
    "\tnew_pcd.colors = o3d.utility.Vector3dVector(new_cols)\n",
    "\t#o3d.visualization.draw_geometries([new_pcd])\n",
    "\treturn new_pcd,idcs \n",
    "\t\n",
    "\t\n",
    "def cluster_vis(pcd,cols,labels,unique_labels,idx=1): \n",
    "\n",
    "\tnew_pcd = o3d.geometry.PointCloud()\n",
    "\tnew_pcd.points = pcd.points \n",
    "\tnew_cols = np.zeros((np.asarray(pcd.points).shape[0],3))\n",
    "\tpcd_cols = np.asarray(pcd.colors)\n",
    "\t\n",
    "\tidcs = np.where(labels == unique_labels[idx])[0]\n",
    "\t\n",
    "\t\n",
    "\tnew_cols[idcs] = cols[idx]\n",
    "\tnew_pcd.colors = o3d.utility.Vector3dVector(new_cols)\n",
    "\t#o3d.visualization.draw_geometries([new_pcd])\n",
    "\treturn new_pcd,idcs \n",
    "\t\n",
    "\t\n",
    "\t"
   ]
  },
  {
   "cell_type": "code",
   "execution_count": 4,
   "metadata": {},
   "outputs": [
    {
     "name": "stdout",
     "output_type": "stream",
     "text": [
      "file name ncuts_tarl_sam_spatial.pcd\n",
      "Metrics for file ncuts_tarl_sam_spatial.pcd\n",
      "{'panoptic': 0.7341087015052776, 'precision': 0.819047619047619, 'recall': 0.7962962962962963, 'fScore': 0.8075117370892019, 'usr': 0.05714285714285714, 'osr': 0.018518518518518517, 'noise': 0.13333333333333333, 'missed': 0.12037037037037036, 'mean': 0.9090997291896752}\n"
     ]
    },
    {
     "ename": "AttributeError",
     "evalue": "'Metrics' object has no attribute 'eval'",
     "output_type": "error",
     "traceback": [
      "\u001b[0;31m---------------------------------------------------------------------------\u001b[0m",
      "\u001b[0;31mAttributeError\u001b[0m                            Traceback (most recent call last)",
      "\u001b[1;32m/home/cedric/unsup_3d_instances/point-to-pixel-mapping/metrics_calc.ipynb Cell 4\u001b[0m line \u001b[0;36m3\n\u001b[1;32m     <a href='vscode-notebook-cell:/home/cedric/unsup_3d_instances/point-to-pixel-mapping/metrics_calc.ipynb#W3sZmlsZQ%3D%3D?line=29'>30</a>\u001b[0m new_labels \u001b[39m=\u001b[39m remove_semantics(labels_kitti,labels_ncuts)\n\u001b[1;32m     <a href='vscode-notebook-cell:/home/cedric/unsup_3d_instances/point-to-pixel-mapping/metrics_calc.ipynb#W3sZmlsZQ%3D%3D?line=30'>31</a>\u001b[0m metrics_pred \u001b[39m=\u001b[39m Metrics(name\u001b[39m=\u001b[39mf)\n\u001b[0;32m---> <a href='vscode-notebook-cell:/home/cedric/unsup_3d_instances/point-to-pixel-mapping/metrics_calc.ipynb#W3sZmlsZQ%3D%3D?line=31'>32</a>\u001b[0m metrics_pred\u001b[39m.\u001b[39;49mupdate_stats(new_labels,labels_kitti,calc_all\u001b[39m=\u001b[39;49m\u001b[39mTrue\u001b[39;49;00m,calc_lstq\u001b[39m=\u001b[39;49m\u001b[39mTrue\u001b[39;49;00m)\n\u001b[1;32m     <a href='vscode-notebook-cell:/home/cedric/unsup_3d_instances/point-to-pixel-mapping/metrics_calc.ipynb#W3sZmlsZQ%3D%3D?line=33'>34</a>\u001b[0m \u001b[39m#print(\"eval compute\")\u001b[39;00m\n\u001b[1;32m     <a href='vscode-notebook-cell:/home/cedric/unsup_3d_instances/point-to-pixel-mapping/metrics_calc.ipynb#W3sZmlsZQ%3D%3D?line=34'>35</a>\u001b[0m \u001b[39m#out = eval_lstq.add_batch(new_labels,labels_kitti)\u001b[39;00m\n\u001b[1;32m     <a href='vscode-notebook-cell:/home/cedric/unsup_3d_instances/point-to-pixel-mapping/metrics_calc.ipynb#W3sZmlsZQ%3D%3D?line=35'>36</a>\u001b[0m \u001b[39m#print(\"AQ Overall\",eval_lstq.get_eval()) \u001b[39;00m\n\u001b[0;32m   (...)\u001b[0m\n\u001b[1;32m     <a href='vscode-notebook-cell:/home/cedric/unsup_3d_instances/point-to-pixel-mapping/metrics_calc.ipynb#W3sZmlsZQ%3D%3D?line=38'>39</a>\u001b[0m \u001b[39m#metrics_pred = Metrics(name=f)\u001b[39;00m\n\u001b[1;32m     <a href='vscode-notebook-cell:/home/cedric/unsup_3d_instances/point-to-pixel-mapping/metrics_calc.ipynb#W3sZmlsZQ%3D%3D?line=39'>40</a>\u001b[0m \u001b[39m#metrics_pred.update_stats(new_labels,labels_kitti,calc_all=True)\u001b[39;00m\n",
      "File \u001b[0;32m~/unsup_3d_instances/point-to-pixel-mapping/metrics_class.py:46\u001b[0m, in \u001b[0;36mMetrics.update_stats\u001b[0;34m(self, pred_labels, gt_labels, confs, calc_all, calc_lstq)\u001b[0m\n\u001b[1;32m     44\u001b[0m \u001b[39mif\u001b[39;00m calc_lstq \u001b[39m==\u001b[39m \u001b[39mTrue\u001b[39;00m: \n\u001b[1;32m     45\u001b[0m     \u001b[39mself\u001b[39m\u001b[39m.\u001b[39meval_lstq\u001b[39m.\u001b[39madd_batch(pred_labels,gt_labels)\n\u001b[0;32m---> 46\u001b[0m     lstq \u001b[39m=\u001b[39m \u001b[39mself\u001b[39;49m\u001b[39m.\u001b[39;49meval\u001b[39m.\u001b[39mget_eval()\n\u001b[1;32m     47\u001b[0m     \u001b[39mprint\u001b[39m(\u001b[39m'\u001b[39m\u001b[39mlstq value : \u001b[39m\u001b[39m'\u001b[39m,lstq)\n\u001b[1;32m     50\u001b[0m \u001b[39mfor\u001b[39;00m overlap \u001b[39min\u001b[39;00m \u001b[39mlist\u001b[39m(\u001b[39mself\u001b[39m\u001b[39m.\u001b[39moverlaps) : \n",
      "\u001b[0;31mAttributeError\u001b[0m: 'Metrics' object has no attribute 'eval'"
     ]
    }
   ],
   "source": [
    "out_folder = 'pcd_preprocessed/out_maps/'\n",
    "\n",
    "fs = []\n",
    "#fs.append('merge_a2_t3_0.05.pcd')\n",
    "#fs.append('merge_a2_t3_0.025.pcd') \n",
    "#fs.append('merge_t3_0.05.pcd') \n",
    "#fs.append('ncuts_instances_tarl_spatial1.pcd') \n",
    "#fs.append('ncuts_sam1_instances.pcd')\n",
    "#fs.append('ncuts_instances_tarl_spatial1.pcd')\n",
    "#fs.append('hdbscan_instances.pcd') \n",
    "#fs.append('ncuts_a2_t3_0.025.pcd')\n",
    "fs.append('ncuts_tarl_sam_spatial.pcd')\n",
    "#fs.append('ncuts_sam.pcd')\n",
    "#fs.append('ncuts_tarl_norm.pcd')\n",
    "\n",
    "sem_gt = \"merge_part_kitti_semantic7.pcd\"\n",
    "inst_gt = \"merge_part_kitti_instance7.pcd\"\n",
    "\n",
    "pcd_gt = o3d.io.read_point_cloud(out_folder + inst_gt)\n",
    "unique_colors, labels_kitti = np.unique(np.asarray(pcd_gt.colors),axis=0, return_inverse=True)\n",
    "\n",
    "#o3d.visualization.draw_geometries([pcd_gt])\n",
    "eval_lstq = evaluator()\n",
    "\n",
    "for f in fs : \n",
    "\tprint(\"file name\",f)\n",
    "\tpred_pcd = o3d.io.read_point_cloud(out_folder + f)\n",
    "\t#o3d.visualization.draw_geometries([pred_pcd])\n",
    "\tunique_colors, labels_ncuts = np.unique(np.asarray(pred_pcd.colors), axis=0, return_inverse=True)\n",
    "\tnew_labels = remove_semantics(labels_kitti,labels_ncuts)\n",
    "\tmetrics_pred = Metrics(name=f)\n",
    "\tmetrics_pred.update_stats(new_labels,labels_kitti,calc_all=True,calc_lstq=True)\n",
    "\t\n",
    "\t#print(\"eval compute\")\n",
    "\t#out = eval_lstq.add_batch(new_labels,labels_kitti)\n",
    "\t#print(\"AQ Overall\",eval_lstq.get_eval()) \n",
    "\t#eval_lstq.reset()\n",
    "\t\n",
    "\t#metrics_pred = Metrics(name=f)\n",
    "\t#metrics_pred.update_stats(new_labels,labels_kitti,calc_all=True)"
   ]
  },
  {
   "cell_type": "code",
   "execution_count": null,
   "metadata": {},
   "outputs": [
    {
     "data": {
      "text/plain": [
       "'\\nout_folder = \\'pcd_preprocessed/\\'\\n\\nfs = []\\nmaps_folder = \\'out_maps/\\'\\n#fs.append(\\'merge_a2_t3_0.05.pcd\\')\\n#fs.append(\\'merge_a2_t3_0.025.pcd\\') \\n#fs.append(\\'merge_t3_0.05.pcd\\') \\n#fs.append(\\'ncuts_instances_tarl_spatial1.pcd\\') \\n#fs.append(\\'hdbscan_instances.pcd\\') \\n\\n\\ninst_gt = \"merge_part_kitti_instance.pcd\"\\n\\nname = maps_folder + \\'ncuts_tarl_spatial1.pcd\\'\\n#name = \\'merge_t3_0.05.pcd\\'\\nsem_gt = \\'merge_part_kitti_semantic7.pcd\\'\\n\\npcd_gt = o3d.io.read_point_cloud(out_folder + sem_gt)\\npcd_pred = o3d.io.read_point_cloud(out_folder + name)\\n\\nunique_colors_kitti, labels_kitti = np.unique(np.asarray(pcd_gt.colors),axis=0, return_inverse=True)\\nunique_colors, labels_pred = np.unique(np.asarray(pcd_pred.colors),axis=0, return_inverse=True)\\n\\no3d.visualization.draw_geometries([pcd_gt])\\nprint(pcd_gt)\\nprint(pcd_pred)\\n\\npcd_gt.remove_duplicated_points()\\nrelevant_idcs = {1:\\'car\\',4:\\'fence\\',5:\\'trailer\\',6:\\'truck\\',7:\\'traffic-sign\\',10:\\'trunk\\',12:\\'pole\\',13:\\'other-object\\',15:\\'bike\\',16:\\'building\\',18:\\'pedestrian\\',19:\\'other structure\\'}\\nunique_labels = list(np.unique(labels_kitti))\\n\\n\\nfor idx in relevant_idcs.keys(): \\n\\tprint(relevant_idcs[idx])\\n\\t#cluster_vis(pcd_gt,unique_colors,labels_pred,list(np.unique(labels_pred)),idx)\\n\\tgt_pcd, idcs = remove_cols(pcd_gt,unique_colors,labels_kitti,unique_labels,idx)\\n\\t#o3d.visualization.draw_geometries([gt_pcd])\\n\\tpred_labels, num_clusters = get_semantics(labels_pred,idcs,pcd_pred)\\n\\tcur_iou = iou(pred_labels,idcs)\\n\\tprint(\"iou\",cur_iou)\\n\\tprint(\"num clusters\",num_clusters)\\n\\t#pcd_cur = color_pcd_by_labels(pcd_pred,pred_labels,largest=False)\\n\\t#o3d.visualization.draw_geometries([pcd_cur])\\n\\t\\n\\n'"
      ]
     },
     "execution_count": 5,
     "metadata": {},
     "output_type": "execute_result"
    }
   ],
   "source": [
    "'''\n",
    "out_folder = 'pcd_preprocessed/'\n",
    "\n",
    "fs = []\n",
    "maps_folder = 'out_maps/'\n",
    "#fs.append('merge_a2_t3_0.05.pcd')\n",
    "#fs.append('merge_a2_t3_0.025.pcd') \n",
    "#fs.append('merge_t3_0.05.pcd') \n",
    "#fs.append('ncuts_instances_tarl_spatial1.pcd') \n",
    "#fs.append('hdbscan_instances.pcd') \n",
    "\n",
    "\n",
    "inst_gt = \"merge_part_kitti_instance.pcd\"\n",
    "\n",
    "name = maps_folder + 'ncuts_tarl_spatial1.pcd'\n",
    "#name = 'merge_t3_0.05.pcd'\n",
    "sem_gt = 'merge_part_kitti_semantic7.pcd'\n",
    "\n",
    "pcd_gt = o3d.io.read_point_cloud(out_folder + sem_gt)\n",
    "pcd_pred = o3d.io.read_point_cloud(out_folder + name)\n",
    "\n",
    "unique_colors_kitti, labels_kitti = np.unique(np.asarray(pcd_gt.colors),axis=0, return_inverse=True)\n",
    "unique_colors, labels_pred = np.unique(np.asarray(pcd_pred.colors),axis=0, return_inverse=True)\n",
    "\n",
    "o3d.visualization.draw_geometries([pcd_gt])\n",
    "print(pcd_gt)\n",
    "print(pcd_pred)\n",
    "\n",
    "pcd_gt.remove_duplicated_points()\n",
    "relevant_idcs = {1:'car',4:'fence',5:'trailer',6:'truck',7:'traffic-sign',10:'trunk',12:'pole',13:'other-object',15:'bike',16:'building',18:'pedestrian',19:'other structure'}\n",
    "unique_labels = list(np.unique(labels_kitti))\n",
    "\n",
    "\n",
    "for idx in relevant_idcs.keys(): \n",
    "\tprint(relevant_idcs[idx])\n",
    "\t#cluster_vis(pcd_gt,unique_colors,labels_pred,list(np.unique(labels_pred)),idx)\n",
    "\tgt_pcd, idcs = remove_cols(pcd_gt,unique_colors,labels_kitti,unique_labels,idx)\n",
    "\t#o3d.visualization.draw_geometries([gt_pcd])\n",
    "\tpred_labels, num_clusters = get_semantics(labels_pred,idcs,pcd_pred)\n",
    "\tcur_iou = iou(pred_labels,idcs)\n",
    "\tprint(\"iou\",cur_iou)\n",
    "\tprint(\"num clusters\",num_clusters)\n",
    "\t#pcd_cur = color_pcd_by_labels(pcd_pred,pred_labels,largest=False)\n",
    "\t#o3d.visualization.draw_geometries([pcd_cur])\n",
    "\t\n",
    "\n",
    "'''"
   ]
  },
  {
   "cell_type": "markdown",
   "metadata": {},
   "source": []
  }
 ],
 "metadata": {
  "kernelspec": {
   "display_name": "torch",
   "language": "python",
   "name": "python3"
  },
  "language_info": {
   "codemirror_mode": {
    "name": "ipython",
    "version": 3
   },
   "file_extension": ".py",
   "mimetype": "text/x-python",
   "name": "python",
   "nbconvert_exporter": "python",
   "pygments_lexer": "ipython3",
   "version": "3.9.16"
  }
 },
 "nbformat": 4,
 "nbformat_minor": 2
}
