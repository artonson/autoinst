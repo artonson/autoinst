{
 "cells": [
  {
   "cell_type": "code",
   "execution_count": null,
   "metadata": {},
   "outputs": [],
   "source": [
    "import numpy as np\n",
    "import os.path as osp\n",
    "import os\n",
    "import cv2\n",
    "import matplotlib.pyplot as plt\n",
    "import open3d as o3d\n",
    "%matplotlib inline \n",
    "import sys\n",
    "\n",
    "src_path = os.path.abspath(\"../..\")\n",
    "if src_path not in sys.path:\n",
    "    sys.path.append(src_path)\n",
    "%load_ext autoreload\n",
    "from dataset.kitti_odometry_dataset import KittiOdometryDataset, KittiOdometryDatasetConfig\n",
    "from dataset.filters.filter_list import FilterList\n",
    "from dataset.filters.kitti_gt_mo_filter import KittiGTMovingObjectFilter\n",
    "from dataset.filters.range_filter import RangeFilter\n",
    "from dataset.filters.apply_pose import ApplyPose\n",
    "\n",
    "from hidden_points_removal import hidden_point_removal_o3d, hidden_point_removal_biasutti\n",
    "from point_cloud_utils import transform_pcd, filter_points_from_dict, get_pcd\n",
    "from point_to_pixels import point_to_pixel\n",
    "from visualization_utils import unite_pcd_and_img, color_pcd_with_labels"
   ]
  },
  {
   "cell_type": "code",
   "execution_count": null,
   "metadata": {},
   "outputs": [],
   "source": [
    "DATASET_PATH = os.path.join('/Users/laurenzheidrich/Downloads/','fused_dataset')\n",
    "SEQUENCE_NUM = 5\n",
    "\n",
    "config_filtered = KittiOdometryDatasetConfig(\n",
    "    cache=True,\n",
    "    dataset_path=DATASET_PATH,\n",
    "    correct_scan_calibration=True,\n",
    "    filters=FilterList(\n",
    "        [\n",
    "            KittiGTMovingObjectFilter(\n",
    "                os.path.join(\n",
    "                    DATASET_PATH,\n",
    "                    \"sequences\",\n",
    "                    \"%.2d\" % SEQUENCE_NUM,\n",
    "                    \"labels\",\n",
    "                )\n",
    "            ),\n",
    "            RangeFilter(2.5, 120),\n",
    "            ApplyPose(),\n",
    "        ]\n",
    "    ),\n",
    ")\n",
    "\n",
    "dataset = KittiOdometryDataset(config_filtered, SEQUENCE_NUM)"
   ]
  },
  {
   "cell_type": "code",
   "execution_count": null,
   "metadata": {},
   "outputs": [],
   "source": [
    "points_index = 330\n",
    "cam_name = \"cam2\"\n",
    "\n",
    "pcd_o3d = get_pcd(dataset.get_point_cloud(points_index))\n",
    "pcd = np.asarray(pcd_o3d.points)\n",
    "\n",
    "image_PIL = dataset.get_image(cam_name, points_index)\n",
    "label_PIL = dataset.get_sam_label(cam_name, points_index)\n",
    "\n",
    "image = cv2.cvtColor(np.array(image_PIL), cv2.COLOR_RGB2BGR)\n",
    "label = cv2.cvtColor(np.array(label_PIL), cv2.COLOR_RGB2BGR)"
   ]
  },
  {
   "cell_type": "code",
   "execution_count": null,
   "metadata": {},
   "outputs": [],
   "source": [
    "T_lidar2cam, K_cam = dataset.get_calibration_matrices(cam_name)\n",
    "pcd_camframe = transform_pcd(pcd, T_lidar2cam)"
   ]
  },
  {
   "cell_type": "code",
   "execution_count": null,
   "metadata": {},
   "outputs": [],
   "source": [
    "hpr_mode = \"o3d\" # \"o3d\" or \"biscutti\"\n",
    "\n",
    "if hpr_mode == \"o3d\":\n",
    "    #Camera set to [0,0,0] because we are already in camera frame and camera position is origin\n",
    "    hpr_mask = hidden_point_removal_o3d(pcd_camframe, camera=[0,0,0], radius_factor=600) \n",
    "elif hpr_mode == \"biasutti\":\n",
    "    hpr_mask = hidden_point_removal_biasutti(pcd_camframe, n_neighbours=64)\n",
    "\n",
    "pcd_camframe_hpr = pcd_camframe[hpr_mask]\n",
    "pcd_hpr = pcd[hpr_mask]"
   ]
  },
  {
   "cell_type": "code",
   "execution_count": null,
   "metadata": {},
   "outputs": [],
   "source": [
    "# Here I need to check why pcd is needed and what effect that has on the result\n",
    "point_to_pixel_dict = point_to_pixel(pcd_camframe, K_cam, image.shape[0], image.shape[1])\n",
    "\n",
    "point_to_pixel_dict_hpr = point_to_pixel(pcd_camframe_hpr, K_cam, image.shape[0], image.shape[1])"
   ]
  },
  {
   "cell_type": "code",
   "execution_count": null,
   "metadata": {},
   "outputs": [],
   "source": [
    "print(\"Number of points in initial point cloud: \", pcd.shape[0])\n",
    "print(\"Number of points after Hidden Point Removal: \", pcd_hpr.shape[0])\n",
    "print(\"Number of points projected on image without Hidden Point Removal: \", len(point_to_pixel_dict))\n",
    "print(\"Number of points projected on image with Hidden Point Removal: \", len(point_to_pixel_dict_hpr))"
   ]
  },
  {
   "cell_type": "code",
   "execution_count": null,
   "metadata": {},
   "outputs": [],
   "source": [
    "img_overlay = unite_pcd_and_img(point_to_pixel_dict, image, label, coloring=\"label_map\")\n",
    "img_overlay_hpr = unite_pcd_and_img(point_to_pixel_dict_hpr, image, label, coloring=\"label_map\")"
   ]
  },
  {
   "cell_type": "code",
   "execution_count": null,
   "metadata": {},
   "outputs": [],
   "source": [
    "# Create figure with two subplots\n",
    "fig, (ax1, ax2, ax3, ax4) = plt.subplots(4, 1)\n",
    "\n",
    "# Display images in subplots\n",
    "ax1.imshow(image)\n",
    "ax2.imshow(label)\n",
    "ax3.imshow(img_overlay)\n",
    "ax4.imshow(img_overlay_hpr)\n",
    "\n",
    "# Hide the axes ticks and labels\n",
    "ax1.set_xticks([]), ax1.set_yticks([])\n",
    "ax2.set_xticks([]), ax2.set_yticks([])\n",
    "ax3.set_xticks([]), ax3.set_yticks([])\n",
    "ax4.set_xticks([]), ax4.set_yticks([])\n",
    "\n",
    "fig.set_dpi(200)\n",
    "\n",
    "plt.show()"
   ]
  },
  {
   "cell_type": "code",
   "execution_count": null,
   "metadata": {},
   "outputs": [],
   "source": [
    "pcd_camframe_fov = filter_points_from_dict(pcd_camframe, point_to_pixel_dict)\n",
    "pcd_camframe_fov_hpr = filter_points_from_dict(pcd_camframe_hpr, point_to_pixel_dict_hpr)\n",
    "\n",
    "vis_pcd = color_pcd_with_labels(pcd_camframe_fov, point_to_pixel_dict, label)\n",
    "vis_pcd_hpr = color_pcd_with_labels(pcd_camframe_fov_hpr, point_to_pixel_dict_hpr, label)"
   ]
  },
  {
   "cell_type": "code",
   "execution_count": null,
   "metadata": {},
   "outputs": [],
   "source": [
    "o3d.visualization.draw_geometries([vis_pcd_hpr])"
   ]
  }
 ],
 "metadata": {
  "kernelspec": {
   "display_name": "Python 3 (ipykernel)",
   "language": "python",
   "name": "python3"
  },
  "language_info": {
   "codemirror_mode": {
    "name": "ipython",
    "version": 3
   },
   "file_extension": ".py",
   "mimetype": "text/x-python",
   "name": "python",
   "nbconvert_exporter": "python",
   "pygments_lexer": "ipython3",
   "version": "3.9.16"
  }
 },
 "nbformat": 4,
 "nbformat_minor": 2
}
