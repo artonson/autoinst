{
 "cells": [
  {
   "cell_type": "code",
   "execution_count": null,
   "metadata": {},
   "outputs": [],
   "source": [
    "import numpy as np\n",
    "import os.path as osp\n",
    "import os\n",
    "import cv2\n",
    "import matplotlib.pyplot as plt\n",
    "import open3d as o3d\n",
    "%matplotlib inline \n",
    "import sys\n",
    "\n",
    "src_path = os.path.abspath(\"../..\")\n",
    "if src_path not in sys.path:\n",
    "    sys.path.append(src_path)\n",
    "\n",
    "from dataset.kitti_odometry_dataset import KittiOdometryDataset, KittiOdometryDatasetConfig\n",
    "from dataset.filters.filter_list import FilterList\n",
    "from dataset.filters.kitti_gt_mo_filter import KittiGTMovingObjectFilter\n",
    "from dataset.filters.range_filter import RangeFilter\n",
    "from dataset.filters.apply_pose import ApplyPose\n",
    "\n",
    "from hidden_points_removal import hidden_point_removal_o3d\n",
    "from utils import get_pcd\n",
    "from point_cloud_utils import project_pcd, filter_points_from_dict\n",
    "from point_to_pixels import point_to_pixel\n",
    "from visualization_utils import unite_pcd_and_img"
   ]
  },
  {
   "cell_type": "code",
   "execution_count": null,
   "metadata": {},
   "outputs": [],
   "source": [
    "DATASET_PATH = os.path.join('/Users/laurenzheidrich/Downloads/','fused_dataset')\n",
    "SEQUENCE_NUM = 10\n",
    "\n",
    "config_filtered = KittiOdometryDatasetConfig(\n",
    "    cache=True,\n",
    "    dataset_path=DATASET_PATH,\n",
    "    correct_scan_calibration=True,\n",
    "    filters=FilterList(\n",
    "        [\n",
    "            KittiGTMovingObjectFilter(\n",
    "                os.path.join(\n",
    "                    DATASET_PATH,\n",
    "                    \"sequences\",\n",
    "                    \"%.2d\" % SEQUENCE_NUM,\n",
    "                    \"labels\",\n",
    "                )\n",
    "            ),\n",
    "            RangeFilter(2.5, 120),\n",
    "            ApplyPose(),\n",
    "        ]\n",
    "    ),\n",
    ")\n",
    "\n",
    "dataset = KittiOdometryDataset(config_filtered, SEQUENCE_NUM)"
   ]
  },
  {
   "cell_type": "code",
   "execution_count": null,
   "metadata": {},
   "outputs": [],
   "source": [
    "points_index = 20\n",
    "cam_name = \"cam2\"\n",
    "\n",
    "pcd_o3d = get_pcd(dataset.get_point_cloud(points_index))\n",
    "pcd = np.asarray(pcd_o3d.points)\n",
    "\n",
    "image_PIL = dataset.get_image(cam_name, points_index)\n",
    "\n",
    "image = cv2.cvtColor(np.array(image_PIL), cv2.COLOR_RGB2BGR)"
   ]
  },
  {
   "cell_type": "code",
   "execution_count": null,
   "metadata": {},
   "outputs": [],
   "source": [
    "calib_dict = dataset.get_calib_dict()\n",
    "T_lidar2cam = dataset.project_velo_to_cam(calib_dict, cam_name)"
   ]
  },
  {
   "cell_type": "code",
   "execution_count": null,
   "metadata": {},
   "outputs": [],
   "source": [
    "pcd_camframe = project_pcd(pcd, T_lidar2cam)\n",
    "\n",
    "hpr_mask = hidden_point_removal_o3d(pcd_camframe, camera=[0,0,1.73])\n",
    "pcd_camframe_hpr = pcd_camframe[hpr_mask]\n",
    "pcd_hpr = pcd[hpr_mask]"
   ]
  },
  {
   "cell_type": "code",
   "execution_count": null,
   "metadata": {},
   "outputs": [],
   "source": [
    "# Here I need to check why pcd is needed and what effect that has on the result\n",
    "point_to_pixel_dict = point_to_pixel(pcd_camframe, pcd, calib_dict, image.shape[0], image.shape[1])\n",
    "\n",
    "point_to_pixel_dict_hpr = point_to_pixel(pcd_camframe_hpr, pcd_hpr, calib_dict, image.shape[0], image.shape[1])"
   ]
  },
  {
   "cell_type": "code",
   "execution_count": null,
   "metadata": {},
   "outputs": [],
   "source": [
    "pcd_camframe_fov = filter_points_from_dict(pcd, point_to_pixel_dict)\n",
    "pcd_camframe_fov_hpr = filter_points_from_dict(pcd_hpr, point_to_pixel_dict_hpr)"
   ]
  },
  {
   "cell_type": "code",
   "execution_count": null,
   "metadata": {},
   "outputs": [],
   "source": [
    "print(len(point_to_pixel_dict))\n",
    "print(len(point_to_pixel_dict_hpr))\n",
    "print(pcd_camframe_fov.shape)\n",
    "print(pcd_camframe_fov_hpr.shape)"
   ]
  },
  {
   "cell_type": "code",
   "execution_count": null,
   "metadata": {},
   "outputs": [],
   "source": [
    "img_overlay = unite_pcd_and_img(point_to_pixel_dict, pcd_camframe, image)\n",
    "\n",
    "img_overlay_hpr = unite_pcd_and_img(point_to_pixel_dict_hpr, pcd_camframe_hpr, image)"
   ]
  },
  {
   "cell_type": "code",
   "execution_count": null,
   "metadata": {},
   "outputs": [],
   "source": [
    "# Create figure with two subplots\n",
    "fig, (ax1, ax2) = plt.subplots(2, 1)\n",
    "\n",
    "# Display images in subplots\n",
    "ax1.imshow(img_overlay)\n",
    "ax2.imshow(img_overlay_hpr)\n",
    "\n",
    "# Hide the axes ticks and labels\n",
    "ax1.set_xticks([]), ax1.set_yticks([])\n",
    "ax2.set_xticks([]), ax2.set_yticks([])\n",
    "\n",
    "plt.show()"
   ]
  },
  {
   "cell_type": "code",
   "execution_count": null,
   "metadata": {},
   "outputs": [],
   "source": [
    "vis_pcd = o3d.geometry.PointCloud()\n",
    "vis_pcd.points = o3d.utility.Vector3dVector(pcd_camframe_fov)\n",
    "\n",
    "o3d.visualization.draw_geometries([vis_pcd])\n"
   ]
  }
 ],
 "metadata": {
  "kernelspec": {
   "display_name": "test",
   "language": "python",
   "name": "python3"
  },
  "language_info": {
   "codemirror_mode": {
    "name": "ipython",
    "version": 3
   },
   "file_extension": ".py",
   "mimetype": "text/x-python",
   "name": "python",
   "nbconvert_exporter": "python",
   "pygments_lexer": "ipython3",
   "version": "3.9.16"
  },
  "orig_nbformat": 4
 },
 "nbformat": 4,
 "nbformat_minor": 2
}
