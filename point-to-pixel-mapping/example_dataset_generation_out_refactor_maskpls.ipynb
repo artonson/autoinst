{
 "cells": [
  {
   "cell_type": "code",
   "execution_count": 1,
   "metadata": {},
   "outputs": [
    {
     "name": "stdout",
     "output_type": "stream",
     "text": [
      "Jupyter environment detected. Enabling Open3D WebVisualizer.\n",
      "[Open3D INFO] WebRTC GUI backend enabled.\n",
      "[Open3D INFO] WebRTCWindowSystem: HTTP handshake server disabled.\n"
     ]
    },
    {
     "name": "stderr",
     "output_type": "stream",
     "text": [
      "/home/cedric/anaconda3/envs/torch/lib/python3.9/site-packages/MinkowskiEngine-0.5.4-py3.9-linux-x86_64.egg/MinkowskiEngine/__init__.py:36: UserWarning: The environment variable `OMP_NUM_THREADS` not set. MinkowskiEngine will automatically set `OMP_NUM_THREADS=16`. If you want to set `OMP_NUM_THREADS` manually, please export it on the command line before running a python script. e.g. `export OMP_NUM_THREADS=12; python your_program.py`. It is recommended to set it below 24.\n",
      "  warnings.warn(\n"
     ]
    }
   ],
   "source": [
    "import numpy as np\n",
    "import os\n",
    "import sys\n",
    "import cv2\n",
    "import matplotlib.pyplot as plt\n",
    "import open3d as o3d\n",
    "%matplotlib inline \n",
    "\n",
    "src_path = os.path.abspath(\"../..\")\n",
    "if src_path not in sys.path:\n",
    "    sys.path.append(src_path)\n",
    "%load_ext autoreload\n",
    "from dataset.kitti_odometry_dataset import KittiOdometryDataset, KittiOdometryDatasetConfig\n",
    "from dataset.filters.filter_list import FilterList\n",
    "from dataset.filters.kitti_gt_mo_filter import KittiGTMovingObjectFilter\n",
    "from dataset.filters.range_filter import RangeFilter\n",
    "from dataset.filters.apply_pose import ApplyPose\n",
    "\n",
    "import scipy\n",
    "from scipy.spatial.distance import cdist\n",
    "from normalized_cut import normalized_cut\n",
    "from ncuts_utils import ncuts_chunk,kDTree_1NN_feature_reprojection_colors, get_merge_pcds\n",
    "from dataset_utils import * \n",
    "from point_cloud_utils import get_pcd, transform_pcd, kDTree_1NN_feature_reprojection, remove_isolated_points, get_subpcd, get_statistical_inlier_indices, merge_chunks_unite_instances, merge_chunks_unite_instances2\n",
    "from aggregate_pointcloud import aggregate_pointcloud\n",
    "from visualization_utils import generate_random_colors, color_pcd_by_labels,generate_random_colors_map\n",
    "from sam_label_distace import sam_label_distance\n",
    "from chunk_generation import subsample_positions, chunks_from_pointcloud, indices_per_patch, tarl_features_per_patch, image_based_features_per_patch, dinov2_mean, get_indices_feature_reprojection\n",
    "from metrics.metrics_class import Metrics\n",
    "import shutil\n",
    "from open3d.pipelines import registration\n",
    "from predict_maskpls import RefinerModel"
   ]
  },
  {
   "cell_type": "markdown",
   "metadata": {},
   "source": [
    "Here we define the dataset depending on kitti sequence!"
   ]
  },
  {
   "cell_type": "code",
   "execution_count": 2,
   "metadata": {},
   "outputs": [],
   "source": [
    "DATASET_PATH = os.path.join('/media/cedric/Datasets2/semantic_kitti/')\n",
    "end_inds = {0:4541,1:1100,2:4661,3:800,4:271,5:2761,6:1101,7:1100,8:4071,9:1591,10:1201}\n",
    "SEQUENCE_NUM = 9\n",
    "\n",
    "ind_start = 0\n",
    "ind_end = end_inds[SEQUENCE_NUM]\n",
    "\n",
    "minor_voxel_size = 0.05\n",
    "major_voxel_size = 0.35\n",
    "chunk_size = np.array([25, 25, 25]) #meters\n",
    "overlap = 3 #meters\n",
    "ground_segmentation_method = 'patchwork' \n",
    "NCUT_ground = False\n",
    "\n",
    "out_chunks = 'pcd_preprocessed/output_chunks/'\n",
    "\n",
    "\n",
    "dataset = create_kitti_odometry_dataset(DATASET_PATH,SEQUENCE_NUM,ncuts_mode=True)\n",
    "\n",
    "out_folder = 'pcd_preprocessed/'\n",
    "if os.path.exists(out_folder) == False : \n",
    "        os.makedirs(out_folder)\n"
   ]
  },
  {
   "cell_type": "markdown",
   "metadata": {},
   "source": [
    "Now we aggregate a large point cloud based on (ind_start, ind_end)\n",
    "## This cell can be ignored after first run as outputs are stored "
   ]
  },
  {
   "cell_type": "markdown",
   "metadata": {},
   "source": [
    "This cell can be ignored after first run as outputs are stored "
   ]
  },
  {
   "cell_type": "markdown",
   "metadata": {},
   "source": [
    "Now we subsample the poses based on a voxel_size"
   ]
  },
  {
   "cell_type": "code",
   "execution_count": 3,
   "metadata": {},
   "outputs": [
    {
     "name": "stdout",
     "output_type": "stream",
     "text": [
      "using weights /media/cedric/Datasets21/Weights/KITTI/TARL_Spatial_Dino/mask_pls_oversegmented_epoch=05.ckpt\n",
      "sequence 0\n",
      "sequence 1\n",
      "sequence 2\n",
      "sequence 3\n",
      "sequence 4\n",
      "sequence 5\n",
      "sequence 6\n",
      "sequence 7\n",
      "sequence 8\n",
      "sequence 9\n",
      "sequence 10\n",
      "sequence 11\n",
      "sequence 12\n",
      "sequence 13\n",
      "sequence 14\n",
      "sequence 15\n",
      "sequence 16\n",
      "sequence 17\n",
      "sequence 18\n",
      "sequence 19\n",
      "sequence 20\n",
      "sequence 21\n",
      "sequence 22\n",
      "sequence 23\n",
      "sequence 24\n",
      "sequence 25\n",
      "sequence 26\n",
      "sequence 27\n",
      "sequence 28\n",
      "sequence 29\n",
      "sequence 30\n",
      "sequence 31\n",
      "sequence 32\n",
      "sequence 33\n",
      "sequence 34\n",
      "sequence 35\n",
      "sequence 36\n",
      "sequence 37\n",
      "sequence 38\n",
      "sequence 39\n",
      "sequence 40\n",
      "sequence 41\n",
      "sequence 42\n",
      "sequence 43\n",
      "sequence 44\n",
      "sequence 45\n",
      "sequence 46\n",
      "sequence 47\n",
      "sequence 48\n",
      "sequence 49\n",
      "sequence 50\n",
      "sequence 51\n",
      "sequence 52\n",
      "sequence 53\n",
      "sequence 54\n",
      "sequence 55\n",
      "sequence 56\n",
      "sequence 57\n",
      "sequence 58\n",
      "sequence 59\n",
      "sequence 60\n",
      "sequence 61\n",
      "sequence 62\n",
      "sequence 63\n",
      "sequence 64\n",
      "sequence 65\n",
      "sequence 66\n",
      "sequence 67\n",
      "sequence 68\n",
      "sequence 69\n",
      "sequence 70\n",
      "sequence 71\n",
      "sequence 72\n",
      "sequence 73\n",
      "sequence 74\n"
     ]
    }
   ],
   "source": [
    "out_kitti_instance = out_chunks + 'test_data' + str(SEQUENCE_NUM) + '/' \n",
    "#out_kitti_instance = out_chunks + 'out_refined/'\n",
    "        \n",
    "out_refined = out_chunks + 'out_refined'  + str(SEQUENCE_NUM) + '/' \n",
    "if os.path.exists(out_refined) == True : \n",
    "        shutil.rmtree(out_refined)\n",
    "os.makedirs(out_refined)\n",
    "\n",
    "\n",
    "maskpls = RefinerModel()\n",
    "\n",
    "out_data = []\n",
    "\n",
    "center_ids = os.listdir(out_kitti_instance)\n",
    "for sequence in range(len(center_ids)):\n",
    "        if NCUT_ground == False : \n",
    "                \n",
    "                name = center_ids[sequence]\n",
    "                print(\"sequence\",sequence)\n",
    "                cur_pcd = o3d.io.read_point_cloud(out_kitti_instance + name)\n",
    "                predicted_refined = maskpls.forward_and_project(cur_pcd)\n",
    "                #o3d.visualization.draw_geometries([predicted_refined]) \n",
    "                #maskpls.project_pseudo_labels(cur_pcd,center_ids[sequence],name)\n",
    "                o3d.io.write_point_cloud(out_refined + name, predicted_refined,write_ascii=False, compressed=False, print_progress=False)\n",
    "                \n",
    "                        #pcd_dbscan = DBSCAN_clustering_logic(cur_pcd,\n",
    "                        #                        eps=0.3, min_samples=10)\n",
    "                        #o3d.io.write_point_cloud(out_dbscan + name, pcd_dbscan + pcd_chunk_ground, write_ascii=False, compressed=False, print_progress=False)\n",
    "                        \n",
    "                \n",
    "                \n",
    "                #kitti_chunk_instance_ground = color_pcd_by_labels(pcd_chunk_ground,kitti_labels['ground']['instance'][sequence].reshape(-1,))\n",
    "                #o3d.io.write_point_cloud(out_dbscan + name, pcd_dbscan + pcd_chunk_ground, write_ascii=False, compressed=False, print_progress=False)\n",
    "                \n",
    "\n",
    "        \n",
    "        \n",
    "        "
   ]
  },
  {
   "cell_type": "code",
   "execution_count": 4,
   "metadata": {},
   "outputs": [],
   "source": [
    "def get_merge_pcds(out_folder_ncuts):\n",
    "        point_clouds = []\n",
    "\n",
    "        # List all files in the folder\n",
    "        files = os.listdir(out_folder_ncuts)\n",
    "        files.sort()\n",
    "\n",
    "        # Filter files with a .pcd extension\n",
    "        pcd_files = [file for file in files if file.endswith(\".pcd\")]\n",
    "        print(pcd_files)\n",
    "        # Load each point cloud and append to the list\n",
    "        for pcd_file in pcd_files:\n",
    "                file_path = os.path.join(out_folder_ncuts, pcd_file)\n",
    "                point_cloud = o3d.io.read_point_cloud(file_path)\n",
    "                point_clouds.append(point_cloud)\n",
    "        return point_clouds\n",
    "\n",
    "\n",
    "def merge_unite_gt(chunks):\n",
    "    last_chunk = chunks[0] \n",
    "    merge = o3d.geometry.PointCloud()\n",
    "    merge += last_chunk\n",
    "\n",
    "    for new_chunk in chunks[1:]:\n",
    "        merge += new_chunk\n",
    "    \n",
    "    merge.remove_duplicated_points()\n",
    "    return merge \n",
    "\n",
    "def intersect(pred_indices, gt_indices):\n",
    "        intersection = np.intersect1d(pred_indices, gt_indices)\n",
    "        return intersection.size / pred_indices.shape[0]\n",
    "\n",
    "\n",
    "def remove_semantics(labels,preds):\n",
    "        gt_idcs = np.where(labels == 0)[0]\n",
    "        new_ncuts_labels = preds.copy()\n",
    "        for i in np.unique(preds):\n",
    "                pred_idcs = np.where(preds == i)[0]\n",
    "                cur_intersect = intersect(pred_idcs,gt_idcs)\n",
    "                if cur_intersect > 0.8:\n",
    "                        new_ncuts_labels[pred_idcs] = 0\n",
    "        return new_ncuts_labels\n",
    "\n",
    "def remove_semantics_pcd(pcd,labels,preds):\n",
    "        cols = np.asarray(pcd.colors)\n",
    "        gt_idcs = np.where(labels == 0)[0]\n",
    "        new_ncuts_labels = preds.copy()\n",
    "        for i in np.unique(preds):\n",
    "                pred_idcs = np.where(preds == i)[0]\n",
    "                cur_intersect = intersect(pred_idcs,gt_idcs)\n",
    "                if cur_intersect > 0.8:\n",
    "                        new_ncuts_labels[pred_idcs] = 0\n",
    "                        cols[pred_idcs] = np.array([0,0,0])\n",
    "                        \n",
    "        pcd.colors = o3d.utility.Vector3dVector(cols)   \n",
    "        return pcd\n",
    "\n",
    "\n"
   ]
  },
  {
   "cell_type": "code",
   "execution_count": 5,
   "metadata": {},
   "outputs": [
    {
     "name": "stdout",
     "output_type": "stream",
     "text": [
      "['000044.pcd', '000068.pcd', '000089.pcd', '000109.pcd', '000128.pcd', '000146.pcd', '000166.pcd', '000189.pcd', '000214.pcd', '000235.pcd', '000252.pcd', '000267.pcd', '000282.pcd', '000298.pcd', '000317.pcd', '000339.pcd', '000362.pcd', '000385.pcd', '000409.pcd', '000432.pcd', '000454.pcd', '000474.pcd', '000494.pcd', '000516.pcd', '000540.pcd', '000561.pcd', '000581.pcd', '000601.pcd', '000623.pcd', '000649.pcd', '000677.pcd', '000703.pcd', '000728.pcd', '000749.pcd', '000768.pcd', '000786.pcd', '000802.pcd', '000818.pcd', '000835.pcd', '000856.pcd', '000878.pcd', '000898.pcd', '000918.pcd', '000946.pcd', '000977.pcd', '001007.pcd', '001030.pcd', '001052.pcd', '001074.pcd', '001100.pcd', '001133.pcd', '001156.pcd', '001177.pcd', '001197.pcd', '001215.pcd', '001232.pcd', '001248.pcd', '001264.pcd', '001280.pcd', '001296.pcd', '001312.pcd', '001328.pcd', '001344.pcd', '001360.pcd', '001376.pcd', '001392.pcd', '001407.pcd', '001422.pcd', '001437.pcd', '001452.pcd', '001467.pcd', '001484.pcd', '001511.pcd', '001548.pcd', '001576.pcd']\n"
     ]
    },
    {
     "name": "stderr",
     "output_type": "stream",
     "text": [
      "100%|██████████| 73/73 [21:45<00:00, 17.89s/it]\n"
     ]
    },
    {
     "data": {
      "text/plain": [
       "True"
      ]
     },
     "execution_count": 5,
     "metadata": {},
     "output_type": "execute_result"
    }
   ],
   "source": [
    "out_kitti = out_chunks + 'out_kitti/'\n",
    "out_kitti_instance = out_chunks + 'out_kitti_instance/'\n",
    "\n",
    "\n",
    "point_clouds_refined = get_merge_pcds(out_refined)[:-1]\n",
    "\n",
    "#merge = merge_chunks_unite_instances(point_clouds)\n",
    "#merge_dbscan = merge_chunks_unite_instances(point_clouds_dbscan)\n",
    "#merge_kitti = merge_unite_gt(point_clouds_kitti)\n",
    "#merge_kitti_instance = merge_unite_gt(point_clouds_kitti_instances)\n",
    "merge_refined = merge_chunks_unite_instances2(point_clouds_refined)\n",
    "\n",
    "#o3d.io.write_point_cloud(out_folder + \"merge_part.pcd\", merge, write_ascii=False, compressed=False, print_progress=False)\n",
    "o3d.io.write_point_cloud(out_folder + \"merge_refined_test\" + str(SEQUENCE_NUM) + \".pcd\", merge_refined, write_ascii=False, compressed=False, print_progress=False)\n",
    "#o3d.io.write_point_cloud(out_folder + \"merge_part_dbscan.pcd\", merge_dbscan, write_ascii=False, compressed=False, print_progress=False)\n",
    "#o3d.io.write_point_cloud(out_folder + \"merge_part_kitti.pcd\", merge_kitti, write_ascii=False, compressed=False, print_progress=False)\n",
    "#o3d.io.write_point_cloud(out_folder + \"merge_part_kitti_instance.pcd\", merge_kitti_instance, write_ascii=False, compressed=False, print_progress=False)\n",
    "\n",
    "#unique_colors, labels_ncuts = np.unique(np.asarray(merge.colors), axis=0, return_inverse=True)\n",
    "\n"
   ]
  },
  {
   "cell_type": "code",
   "execution_count": 6,
   "metadata": {},
   "outputs": [
    {
     "name": "stdout",
     "output_type": "stream",
     "text": [
      "(38238324,) (38238324,)\n"
     ]
    }
   ],
   "source": [
    "#new_ncuts_labels = remove_semantics(labels_kitti,labels_ncuts)\n",
    "merge_kitti_instance = o3d.io.read_point_cloud(out_folder + \"merge_part_kitti_instance\" + str(SEQUENCE_NUM) +  \".pcd\")\n",
    "merge_refined = o3d.io.read_point_cloud(out_folder + 'merge_refined_test' + str(SEQUENCE_NUM) + '.pcd')\n",
    "unique_colors, labels_kitti = np.unique(np.asarray(merge_kitti_instance.colors),axis=0, return_inverse=True)\n",
    "unique_colors, labels_refined = np.unique(np.asarray(merge_refined.colors),axis=0, return_inverse=True)\n",
    "print(labels_kitti.shape,labels_refined.shape)\n",
    "new_refined = remove_semantics_pcd(merge_refined,labels_kitti,labels_refined)"
   ]
  },
  {
   "cell_type": "code",
   "execution_count": 7,
   "metadata": {},
   "outputs": [],
   "source": [
    "unique_colors, labels_refined = np.unique(np.asarray(new_refined.colors),axis=0, return_inverse=True)\n",
    "label_to_confidence = {}\n",
    "pcd_cols = np.asarray(new_refined.colors) \n",
    "for label in list(np.unique(labels_refined)):\n",
    "\tidcs = np.where(labels_refined == label)[0]\n",
    "\tcur_color = pcd_cols[idcs[0]]\n",
    "\tkey = str(int(cur_color[0] * 255)) + '|' + str(int(cur_color[1] * 255)) + '|' + str(int(cur_color[2] * 255))\n",
    "\tlabel_to_confidence[label] = maskpls.confs_dict[key].cpu().item()"
   ]
  },
  {
   "cell_type": "code",
   "execution_count": 8,
   "metadata": {},
   "outputs": [
    {
     "name": "stdout",
     "output_type": "stream",
     "text": [
      "start\n",
      "Metrics for file refined\n",
      "{'panoptic': 0.6716540813270094, 'precision': 0.7934782608695652, 'recall': 0.7227722772277227, 'fScore': 0.7564766839378239, 'usr': 0.021739130434782608, 'osr': 0.039603960396039604, 'noise': 0.16304347826086957, 'missed': 0.25742574257425743, 'mean': 0.8878714910692659}\n",
      "S_assoc score :  0.6604410348328336\n"
     ]
    }
   ],
   "source": [
    "metrics_refined = Metrics(name='refined')\n",
    "unique_colors, orig_labels = np.unique(np.asarray(merge_refined.colors),axis=0, return_inverse=True)\n",
    "\n",
    "metrics_refined.update_stats(orig_labels,labels_refined,labels_kitti,label_to_confidence,calc_all=True)\n"
   ]
  },
  {
   "cell_type": "code",
   "execution_count": null,
   "metadata": {},
   "outputs": [],
   "source": [
    "o3d.visualization.draw_geometries([merge_refined])"
   ]
  }
 ],
 "metadata": {
  "kernelspec": {
   "display_name": "Python 3 (ipykernel)",
   "language": "python",
   "name": "python3"
  },
  "language_info": {
   "codemirror_mode": {
    "name": "ipython",
    "version": 3
   },
   "file_extension": ".py",
   "mimetype": "text/x-python",
   "name": "python",
   "nbconvert_exporter": "python",
   "pygments_lexer": "ipython3",
   "version": "3.9.16"
  }
 },
 "nbformat": 4,
 "nbformat_minor": 2
}
